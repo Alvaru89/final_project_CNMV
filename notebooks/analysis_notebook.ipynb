{
 "cells": [
  {
   "cell_type": "code",
   "execution_count": null,
   "metadata": {},
   "outputs": [],
   "source": [
    "'''\n",
    "ALERT ATL FINACCESS GLOBAL, FI has no data!!!\n",
    "ALERT BANKINTER EMPRESAS, FI has no data!!!\n",
    "ALERT BANKINTER ETHOS, FI has no data!!!\n",
    "ALERT BBVA COBERTURA ACTIVA DINAMICO, FI has no data!!!\n",
    "ALERT BBVA COBERTURA ACTIVA EQUILIBRADO, FI has no data!!!\n",
    "ALERT BBVA COBERTURA ACTIVA PRUDENTE, FI has no data!!!\n",
    "ALERT BINDEX IXESG GLOBAL LEADERS INDICE, FI has no data!!!\n",
    "ALERT BISSAN, FI has no data!!!\n",
    "ALERT CAIXABANK BONOS SUBORDINADOS 2, FI has no data!!!\n",
    "ALERT CUASAR OPTIMAL YIELD, FI has no data!!!\n",
    "ALERT FONDONORTE GLOBAL DIVIDENDO, FI has no data!!!\n",
    "ALERT FUNDCAMI FONDO SOLIDARIO, FI has no data!!!\n",
    "ALERT GESTION BOUTIQUE IV, FI has no data!!!\n",
    "ALERT GVC GAESCO ASIAN FIXED INCOME, FI has no data!!!\n",
    "ALERT GVC GAESCO BLUE CHIPS RFMI, FI has no data!!!\n",
    "ALERT IBERCAJA DIVERSIFICACIÓN EMPRESAS, FI has no data!!!\n",
    "ALERT IBERCAJA RENTA FIJA EMPRESAS, FI has no data!!!\n",
    "ALERT IBERCAJA RENTA FIJA SOSTENIBLE, FI has no data!!!\n",
    "ALERT MUTUAFONDO MIXTO INTERNACIONAL, FI has no data!!!\n",
    "ALERT PARADOX EQUITY FUND, FI has no data!!!\n",
    "ALERT PSN MULTIESTRATEGIA, FI has no data!!!\n",
    "ALERT SANTALUCIA GRANDES COMPAÑIAS ZONA EURO, FI has no data!!!\n",
    "ALERT SANTALUCIA RENTA VARIABLE EEUU CUBIERTO, FI has no data!!!\n",
    "ALERT UNIFOND MEGATENDENCIAS, FI has no data!!!\n",
    "ALERT UNIFOND RENTABILIDAD OBJETIVO, FI has no data!!!\n",
    "ALERT WELZIA CAPITAL SUB-DEBT, FI has no data!!!\n",
    "'''"
   ]
  },
  {
   "cell_type": "code",
   "execution_count": 14,
   "metadata": {},
   "outputs": [
    {
     "name": "stdout",
     "output_type": "stream",
     "text": [
      "FIM_T12012_G-79501672_da\n",
      "\n"
     ]
    }
   ],
   "source": [
    "import requests\n",
    "import json\n",
    "import csv\n",
    "from bs4 import BeautifulSoup\n",
    "import os\n",
    "\n",
    "infile = open(\"../data/DOC (9).XML\",\"r\")\n",
    "contents = infile.read()\n",
    "soup = BeautifulSoup(contents, 'lxml')\n",
    "\n",
    "# bla=requests.get('https://www.cnmv.es/portal/Consultas/wuc/DescargaXBRLIPP.ashx?t={2a2d5290-274d-43f0-93db-dbef7a5a184d}')\n",
    "# soup = BeautifulSoup(bla.content, 'lxml')\n",
    "\n",
    "context_ref=soup.find(['xbrli:context',\"context\"])['id']\n",
    "print(context_ref)\n",
    "print('')"
   ]
  },
  {
   "cell_type": "code",
   "execution_count": 78,
   "metadata": {},
   "outputs": [
    {
     "name": "stdout",
     "output_type": "stream",
     "text": [
      "0.40\n"
     ]
    }
   ],
   "source": [
    "rotacion = soup.find('iic-com:indicerotacioncartera', {'contextref': context_ref})\n",
    "print(rotacion.text)"
   ]
  },
  {
   "cell_type": "code",
   "execution_count": 77,
   "metadata": {},
   "outputs": [
    {
     "data": {
      "text/plain": [
       "[]"
      ]
     },
     "execution_count": 77,
     "metadata": {},
     "output_type": "execute_result"
    }
   ],
   "source": [
    "clases = soup.find_all('iic-com:denominacionclase')\n",
    "clases"
   ]
  },
  {
   "cell_type": "code",
   "execution_count": 5,
   "metadata": {},
   "outputs": [],
   "source": [
    "import pandas as pd\n",
    "import numpy as np\n",
    "\n",
    "a=pd.read_csv('data/dict_links.csv',index_col=0)\n",
    "dict_links=a.to_dict(orient='dict')\n",
    "dict_links=dict_links['links']"
   ]
  },
  {
   "cell_type": "code",
   "execution_count": 1,
   "metadata": {},
   "outputs": [
    {
     "name": "stdout",
     "output_type": "stream",
     "text": [
      "383 files parsed!\n"
     ]
    }
   ],
   "source": [
    "import os\n",
    "import numpy as np\n",
    "import pandas as pd\n",
    "\n",
    "def create_df():\n",
    "    df=False\n",
    "    i=0\n",
    "    for file in os.listdir('../data/csv'):\n",
    "#         print(file, 'parsed')\n",
    "        if type(df)==bool:\n",
    "            df=pd.read_csv(f'../data/csv/{file}', sep='*')\n",
    "        else:\n",
    "            df=df.append(pd.read_csv(f'../data/csv/{file}', sep='*'))\n",
    "        i+=1\n",
    "    print(f'{i} files parsed!')\n",
    "    return df\n",
    "df=create_df()    "
   ]
  },
  {
   "cell_type": "code",
   "execution_count": 2,
   "metadata": {},
   "outputs": [
    {
     "name": "stdout",
     "output_type": "stream",
     "text": [
      "<class 'pandas.core.frame.DataFrame'>\n",
      "Int64Index: 17036 entries, 0 to 11\n",
      "Data columns (total 29 columns):\n",
      " #   Column               Non-Null Count  Dtype  \n",
      "---  ------               --------------  -----  \n",
      " 0   fondo                17036 non-null  object \n",
      " 1   name                 17036 non-null  object \n",
      " 2   nif                  17036 non-null  int64  \n",
      " 3   period               17036 non-null  object \n",
      " 4   start_date           17036 non-null  object \n",
      " 5   end_date             17036 non-null  object \n",
      " 6   registro_CNMV        17036 non-null  int64  \n",
      " 7   email_gest           17022 non-null  object \n",
      " 8   rating_depos         16938 non-null  object \n",
      " 9   riesgo               17036 non-null  object \n",
      " 10  rotacion             16993 non-null  float64\n",
      " 11  rentab_avg           16906 non-null  float64\n",
      " 12  remun_liq            92 non-null     float64\n",
      " 13  n_participaciones    17002 non-null  object \n",
      " 14  n_participes         17002 non-null  object \n",
      " 15  beneficio            17002 non-null  object \n",
      " 16  patrimonio           17002 non-null  object \n",
      " 17  dividendos           17002 non-null  object \n",
      " 18  valor_liq            17002 non-null  object \n",
      " 19  comision_gest_pat    14871 non-null  object \n",
      " 20  comision_gest_res    13786 non-null  object \n",
      " 21  comision_gest_total  17006 non-null  object \n",
      " 22  comision_depos       17006 non-null  object \n",
      " 23  rentab_IIC_trim      16732 non-null  object \n",
      " 24  volat_vl_trim        16692 non-null  object \n",
      " 25  ratio_gastos_trim    16965 non-null  object \n",
      " 26  gestora              1815 non-null   object \n",
      " 27  depos                1815 non-null   object \n",
      " 28  ISIN                 131 non-null    object \n",
      "dtypes: float64(3), int64(2), object(24)\n",
      "memory usage: 21.9 MB\n"
     ]
    }
   ],
   "source": [
    "df.info(memory_usage='deep')"
   ]
  },
  {
   "cell_type": "markdown",
   "metadata": {},
   "source": [
    "#Estrategia:\n",
    "- rating_depos y  email_gest: imputer \"N/A\" o n/d\n",
    "- riesgo???  ver con value_counts pensar en agrupar en bajo/medio/alto?\n",
    "- comisiones: imputer =0 una vez que tenga todos bien scrapeados\n",
    "- rentab IIC, volat, ratio.... imputer valor?\n"
   ]
  },
  {
   "cell_type": "code",
   "execution_count": 3,
   "metadata": {},
   "outputs": [
    {
     "data": {
      "text/plain": [
       "BOREAS CARTERA CRECIMIENTO, FI                    4\n",
       "ADRIZA GLOBAL, FI                                 3\n",
       "BANKIA RENTA FIJA LARGO PLAZO, FI                 2\n",
       "BANKIA SOY ASÍ DINAMICO, FI                       2\n",
       "BANKIA EVOLUCION SOSTENIBLE 30, FI                2\n",
       "BNP PARIBAS PORTFOLIO MAX 65, FI                  2\n",
       "BANKIA GLOBAL FLEXIBLE, FI                        2\n",
       "BNP PARIBAS PORTFOLIO MAX 30, FI                  2\n",
       "ATL CAPITAL CARTERA TACTICA, FI                   2\n",
       "BANKIA MIXTO RENTA FIJA 15, FI                    2\n",
       "BANKIA SOY ASI FLEXIBLE, FI                       2\n",
       "BNP PARIBAS PORTFOLIO MAX 25, FI                  1\n",
       "AFI GLOBAL FI                                     1\n",
       "CAJA INGENIEROS BOLSA EURO PLUS, FI               1\n",
       "BANKIA DOLAR, FI                                  1\n",
       "BEST MANAGER SELECTION,  FI                       1\n",
       "BANKIA INDEX JAPON, FI                            1\n",
       "ABANCA RENTA VARIABLE EUROPA, FI                  1\n",
       "BANKIA DIVIDENDO ESPAÑA , FI                      1\n",
       "BESTINVER BONOS INSTITUCIONAL, FI                 1\n",
       "BANKIA BANCA PRIVADA RENTA VARIABLE ESPAÑA, FI    1\n",
       "BANKIA SMALL & MID CAPS ESPAÑA, FI                1\n",
       "BANKIA INDEX EUROZONA, FI                         1\n",
       "BESTINVER DEUDA CORPORATIVA, FI                   1\n",
       "BANKIA DIVERSIFICACIÓN II, FI                     1\n",
       "BANKIA EURO TOP IDEAS, FI                         1\n",
       "BANKIA DIVIDENDO EUROPA, FI                       1\n",
       "BANKIA EVOLUCION SOSTENIBLE 15, FI                1\n",
       "BANKIA DURACION FLEXIBLE 0-2, FI                  1\n",
       "BESTINVER LATAM, FI                               1\n",
       "BANKIA SOY ASI CAUTO, FI                          1\n",
       "BANKIA MIXTO RENTA FIJA 30, FI                    1\n",
       "BANKIA GOBIERNOS EURO LARGO PLAZO, FI             1\n",
       "AMISTRA GLOBAL, FI                                1\n",
       "BANKIA RENTA VARIABLE GLOBAL, FI                  1\n",
       "BANKIA INDEX ESPAÑA, FI                           1\n",
       "BANKIA EMERGENTES, FI                             1\n",
       "BELGRAVIA DELTA,FI                                1\n",
       "BSG PROMETEO, FI                                  1\n",
       "BANKIA BANCA PRIVADA RENTA FIJA EURO, FI          1\n",
       "ATTITUDE OPPORTUNITIES FI                         1\n",
       "BANKIA MIXTO RENTA VARIABLE 75, FI                1\n",
       "BANKIA MIXTO RENTA VARIABLE 50, FI                1\n",
       "ATL CAPITAL RENTA FIJA, FI                        1\n",
       "BANKIA BONOS INTERNACIONAL, FI                    1\n",
       "CAIXABANK BONOS FLOTANTES 2022, FI                1\n",
       "AMEINON RENTA FIJA, FI                            1\n",
       "BANKIA BONOS DURACION FLEXIBLE, FI                1\n",
       "BEKA INTERNATIONAL SELECT EQUITIES, FI            1\n",
       "BNP PARIBAS GLOBAL ASSET ALLOCATION, FI           1\n",
       "BANKINTER AHORRO ACTIVOS EURO, FI                 1\n",
       "BANKIA EVOLUCION SOSTENIBLE 60, FI                1\n",
       "BESTINVER GRANDES COMPAÑÍAS, FI                   1\n",
       "BESTINVER CORTO PLAZO, FI                         1\n",
       "BANKIA BOLSA USA, FI                              1\n",
       "BANKIA FONDTESORO LARGO PLAZO, FI                 1\n",
       "ACACIA RENTA DINAMICA, FI                         1\n",
       "Name: fondo, dtype: int64"
      ]
     },
     "execution_count": 3,
     "metadata": {},
     "output_type": "execute_result"
    }
   ],
   "source": [
    "df[df['ratio_gastos_trim'].isnull()].fondo.value_counts()"
   ]
  },
  {
   "cell_type": "code",
   "execution_count": 18,
   "metadata": {},
   "outputs": [],
   "source": [
    "f1=df['fondo']=='BOREAS CARTERA CRECIMIENTO, FI'\n",
    "f2=df['ratio_gastos_trim'].isnull()\n",
    "f3=df['period']=='Semester 1 2007'\n",
    "\n",
    "#ejemplo filtro palabra:\n",
    "    #f4=df['keyword'].apply(lambda x: 'key' in x or 'key2' in x)\n",
    "\n",
    "df[f1]"
   ]
  },
  {
   "cell_type": "code",
   "execution_count": 5,
   "metadata": {},
   "outputs": [],
   "source": [
    "#New columns\n",
    "def period_type(x):\n",
    "    if 'Semester' in x:\n",
    "        return 'Semester'\n",
    "    elif 'Trimester' in x:\n",
    "        return 'Trimester'\n",
    "    \n",
    "def trimester_4(s2,t3):\n",
    "    return 2*s2 - t3\n",
    "\n",
    "def trimester_2(s1,t1):\n",
    "    return 2*s1 - t1"
   ]
  },
  {
   "cell_type": "code",
   "execution_count": 9,
   "metadata": {},
   "outputs": [
    {
     "data": {
      "application/vnd.plotly.v1+json": {
       "config": {
        "plotlyServerURL": "https://plot.ly"
       },
       "data": [
        {
         "hovertemplate": "fondo=BOREAS CARTERA CRECIMIENTO, FI<br>period=%{x}<br>rentab_avg=%{y}<extra></extra>",
         "legendgroup": "BOREAS CARTERA CRECIMIENTO, FI",
         "marker": {
          "color": "#636efa",
          "symbol": "circle"
         },
         "mode": "markers",
         "name": "BOREAS CARTERA CRECIMIENTO, FI",
         "orientation": "v",
         "showlegend": true,
         "type": "scatter",
         "x": [
          "Semester 1 2007",
          "Semester 1 2007",
          "Semester 1 2009",
          "Semester 2 2009",
          "Semester 1 2010",
          "Semester 1 2010",
          "Semester 1 2010",
          "Semester 2 2010",
          "Semester 1 2011",
          "Semester 1 2011",
          "Semester 1 2011",
          "Semester 2 2011",
          "Semester 1 2012",
          "Semester 1 2014",
          "Semester 2 2014",
          "Semester 2 2014",
          "Semester 1 2015",
          "Semester 1 2016",
          "Semester 1 2016",
          "Semester 2 2016",
          "Semester 2 2016",
          "Semester 2 2016",
          "Semester 2 2016",
          "Semester 1 2017",
          "Semester 1 2017",
          "Semester 2 2017",
          "Semester 2 2017",
          "Semester 1 2018",
          "Semester 1 2018",
          "Semester 1 2019",
          "Semester 1 2019",
          "Semester 2 2019",
          "Semester 2 2019",
          "Semester 1 2020",
          "Semester 1 2020",
          "Semester 2 2020",
          "Semester 2 2020"
         ],
         "xaxis": "x",
         "y": [
          null,
          null,
          0.96,
          0.14,
          0.12,
          null,
          null,
          0.37,
          0.67,
          null,
          null,
          0.92,
          0.17,
          0,
          0,
          0,
          0,
          0,
          0,
          0,
          0,
          0,
          0,
          -0.14,
          -0.14,
          0,
          0,
          0,
          0,
          0.01,
          0.01,
          -0.07,
          -0.07,
          -0.36,
          -0.36,
          -0.41,
          -0.41
         ],
         "yaxis": "y"
        },
        {
         "hovertemplate": "fondo=BANKIA MIXTO RENTA FIJA 30, FI<br>period=%{x}<br>rentab_avg=%{y}<extra></extra>",
         "legendgroup": "BANKIA MIXTO RENTA FIJA 30, FI",
         "marker": {
          "color": "#EF553B",
          "symbol": "circle"
         },
         "mode": "markers",
         "name": "BANKIA MIXTO RENTA FIJA 30, FI",
         "orientation": "v",
         "showlegend": true,
         "type": "scatter",
         "x": [
          "Semester 1 2009",
          "Semester 2 2009",
          "Semester 1 2010",
          "Semester 2 2010",
          "Semester 2 2010",
          "Semester 1 2011",
          "Semester 2 2011",
          "Semester 1 2012",
          "Semester 2 2012",
          "Semester 1 2013",
          "Semester 2 2013",
          "Semester 2 2014",
          "Semester 2 2014",
          "Semester 1 2015",
          "Semester 2 2015",
          "Semester 1 2016",
          "Semester 2 2016",
          "Semester 1 2017",
          "Semester 2 2017",
          "Semester 1 2018",
          "Semester 1 2018",
          "Semester 2 2018",
          "Semester 2 2018",
          "Semester 1 2019",
          "Semester 1 2019",
          "Semester 1 2020",
          "Semester 1 2020",
          "Semester 2 2020",
          "Semester 2 2020"
         ],
         "xaxis": "x",
         "y": [
          1.03,
          0.3,
          0.29,
          0.47,
          0.47,
          0.78,
          0.81,
          0.3,
          0.06,
          0.01,
          0.01,
          0.03,
          0.03,
          0,
          0,
          0,
          0,
          0,
          0,
          0,
          0,
          0,
          0,
          0,
          0,
          -0.17,
          -0.17,
          -0.17,
          -0.17
         ],
         "yaxis": "y"
        }
       ],
       "layout": {
        "autosize": true,
        "legend": {
         "title": {
          "text": "fondo"
         },
         "tracegroupgap": 0
        },
        "margin": {
         "t": 60
        },
        "template": {
         "data": {
          "bar": [
           {
            "error_x": {
             "color": "#2a3f5f"
            },
            "error_y": {
             "color": "#2a3f5f"
            },
            "marker": {
             "line": {
              "color": "#E5ECF6",
              "width": 0.5
             }
            },
            "type": "bar"
           }
          ],
          "barpolar": [
           {
            "marker": {
             "line": {
              "color": "#E5ECF6",
              "width": 0.5
             }
            },
            "type": "barpolar"
           }
          ],
          "carpet": [
           {
            "aaxis": {
             "endlinecolor": "#2a3f5f",
             "gridcolor": "white",
             "linecolor": "white",
             "minorgridcolor": "white",
             "startlinecolor": "#2a3f5f"
            },
            "baxis": {
             "endlinecolor": "#2a3f5f",
             "gridcolor": "white",
             "linecolor": "white",
             "minorgridcolor": "white",
             "startlinecolor": "#2a3f5f"
            },
            "type": "carpet"
           }
          ],
          "choropleth": [
           {
            "colorbar": {
             "outlinewidth": 0,
             "ticks": ""
            },
            "type": "choropleth"
           }
          ],
          "contour": [
           {
            "colorbar": {
             "outlinewidth": 0,
             "ticks": ""
            },
            "colorscale": [
             [
              0,
              "#0d0887"
             ],
             [
              0.1111111111111111,
              "#46039f"
             ],
             [
              0.2222222222222222,
              "#7201a8"
             ],
             [
              0.3333333333333333,
              "#9c179e"
             ],
             [
              0.4444444444444444,
              "#bd3786"
             ],
             [
              0.5555555555555556,
              "#d8576b"
             ],
             [
              0.6666666666666666,
              "#ed7953"
             ],
             [
              0.7777777777777778,
              "#fb9f3a"
             ],
             [
              0.8888888888888888,
              "#fdca26"
             ],
             [
              1,
              "#f0f921"
             ]
            ],
            "type": "contour"
           }
          ],
          "contourcarpet": [
           {
            "colorbar": {
             "outlinewidth": 0,
             "ticks": ""
            },
            "type": "contourcarpet"
           }
          ],
          "heatmap": [
           {
            "colorbar": {
             "outlinewidth": 0,
             "ticks": ""
            },
            "colorscale": [
             [
              0,
              "#0d0887"
             ],
             [
              0.1111111111111111,
              "#46039f"
             ],
             [
              0.2222222222222222,
              "#7201a8"
             ],
             [
              0.3333333333333333,
              "#9c179e"
             ],
             [
              0.4444444444444444,
              "#bd3786"
             ],
             [
              0.5555555555555556,
              "#d8576b"
             ],
             [
              0.6666666666666666,
              "#ed7953"
             ],
             [
              0.7777777777777778,
              "#fb9f3a"
             ],
             [
              0.8888888888888888,
              "#fdca26"
             ],
             [
              1,
              "#f0f921"
             ]
            ],
            "type": "heatmap"
           }
          ],
          "heatmapgl": [
           {
            "colorbar": {
             "outlinewidth": 0,
             "ticks": ""
            },
            "colorscale": [
             [
              0,
              "#0d0887"
             ],
             [
              0.1111111111111111,
              "#46039f"
             ],
             [
              0.2222222222222222,
              "#7201a8"
             ],
             [
              0.3333333333333333,
              "#9c179e"
             ],
             [
              0.4444444444444444,
              "#bd3786"
             ],
             [
              0.5555555555555556,
              "#d8576b"
             ],
             [
              0.6666666666666666,
              "#ed7953"
             ],
             [
              0.7777777777777778,
              "#fb9f3a"
             ],
             [
              0.8888888888888888,
              "#fdca26"
             ],
             [
              1,
              "#f0f921"
             ]
            ],
            "type": "heatmapgl"
           }
          ],
          "histogram": [
           {
            "marker": {
             "colorbar": {
              "outlinewidth": 0,
              "ticks": ""
             }
            },
            "type": "histogram"
           }
          ],
          "histogram2d": [
           {
            "colorbar": {
             "outlinewidth": 0,
             "ticks": ""
            },
            "colorscale": [
             [
              0,
              "#0d0887"
             ],
             [
              0.1111111111111111,
              "#46039f"
             ],
             [
              0.2222222222222222,
              "#7201a8"
             ],
             [
              0.3333333333333333,
              "#9c179e"
             ],
             [
              0.4444444444444444,
              "#bd3786"
             ],
             [
              0.5555555555555556,
              "#d8576b"
             ],
             [
              0.6666666666666666,
              "#ed7953"
             ],
             [
              0.7777777777777778,
              "#fb9f3a"
             ],
             [
              0.8888888888888888,
              "#fdca26"
             ],
             [
              1,
              "#f0f921"
             ]
            ],
            "type": "histogram2d"
           }
          ],
          "histogram2dcontour": [
           {
            "colorbar": {
             "outlinewidth": 0,
             "ticks": ""
            },
            "colorscale": [
             [
              0,
              "#0d0887"
             ],
             [
              0.1111111111111111,
              "#46039f"
             ],
             [
              0.2222222222222222,
              "#7201a8"
             ],
             [
              0.3333333333333333,
              "#9c179e"
             ],
             [
              0.4444444444444444,
              "#bd3786"
             ],
             [
              0.5555555555555556,
              "#d8576b"
             ],
             [
              0.6666666666666666,
              "#ed7953"
             ],
             [
              0.7777777777777778,
              "#fb9f3a"
             ],
             [
              0.8888888888888888,
              "#fdca26"
             ],
             [
              1,
              "#f0f921"
             ]
            ],
            "type": "histogram2dcontour"
           }
          ],
          "mesh3d": [
           {
            "colorbar": {
             "outlinewidth": 0,
             "ticks": ""
            },
            "type": "mesh3d"
           }
          ],
          "parcoords": [
           {
            "line": {
             "colorbar": {
              "outlinewidth": 0,
              "ticks": ""
             }
            },
            "type": "parcoords"
           }
          ],
          "pie": [
           {
            "automargin": true,
            "type": "pie"
           }
          ],
          "scatter": [
           {
            "marker": {
             "colorbar": {
              "outlinewidth": 0,
              "ticks": ""
             }
            },
            "type": "scatter"
           }
          ],
          "scatter3d": [
           {
            "line": {
             "colorbar": {
              "outlinewidth": 0,
              "ticks": ""
             }
            },
            "marker": {
             "colorbar": {
              "outlinewidth": 0,
              "ticks": ""
             }
            },
            "type": "scatter3d"
           }
          ],
          "scattercarpet": [
           {
            "marker": {
             "colorbar": {
              "outlinewidth": 0,
              "ticks": ""
             }
            },
            "type": "scattercarpet"
           }
          ],
          "scattergeo": [
           {
            "marker": {
             "colorbar": {
              "outlinewidth": 0,
              "ticks": ""
             }
            },
            "type": "scattergeo"
           }
          ],
          "scattergl": [
           {
            "marker": {
             "colorbar": {
              "outlinewidth": 0,
              "ticks": ""
             }
            },
            "type": "scattergl"
           }
          ],
          "scattermapbox": [
           {
            "marker": {
             "colorbar": {
              "outlinewidth": 0,
              "ticks": ""
             }
            },
            "type": "scattermapbox"
           }
          ],
          "scatterpolar": [
           {
            "marker": {
             "colorbar": {
              "outlinewidth": 0,
              "ticks": ""
             }
            },
            "type": "scatterpolar"
           }
          ],
          "scatterpolargl": [
           {
            "marker": {
             "colorbar": {
              "outlinewidth": 0,
              "ticks": ""
             }
            },
            "type": "scatterpolargl"
           }
          ],
          "scatterternary": [
           {
            "marker": {
             "colorbar": {
              "outlinewidth": 0,
              "ticks": ""
             }
            },
            "type": "scatterternary"
           }
          ],
          "surface": [
           {
            "colorbar": {
             "outlinewidth": 0,
             "ticks": ""
            },
            "colorscale": [
             [
              0,
              "#0d0887"
             ],
             [
              0.1111111111111111,
              "#46039f"
             ],
             [
              0.2222222222222222,
              "#7201a8"
             ],
             [
              0.3333333333333333,
              "#9c179e"
             ],
             [
              0.4444444444444444,
              "#bd3786"
             ],
             [
              0.5555555555555556,
              "#d8576b"
             ],
             [
              0.6666666666666666,
              "#ed7953"
             ],
             [
              0.7777777777777778,
              "#fb9f3a"
             ],
             [
              0.8888888888888888,
              "#fdca26"
             ],
             [
              1,
              "#f0f921"
             ]
            ],
            "type": "surface"
           }
          ],
          "table": [
           {
            "cells": {
             "fill": {
              "color": "#EBF0F8"
             },
             "line": {
              "color": "white"
             }
            },
            "header": {
             "fill": {
              "color": "#C8D4E3"
             },
             "line": {
              "color": "white"
             }
            },
            "type": "table"
           }
          ]
         },
         "layout": {
          "annotationdefaults": {
           "arrowcolor": "#2a3f5f",
           "arrowhead": 0,
           "arrowwidth": 1
          },
          "autotypenumbers": "strict",
          "coloraxis": {
           "colorbar": {
            "outlinewidth": 0,
            "ticks": ""
           }
          },
          "colorscale": {
           "diverging": [
            [
             0,
             "#8e0152"
            ],
            [
             0.1,
             "#c51b7d"
            ],
            [
             0.2,
             "#de77ae"
            ],
            [
             0.3,
             "#f1b6da"
            ],
            [
             0.4,
             "#fde0ef"
            ],
            [
             0.5,
             "#f7f7f7"
            ],
            [
             0.6,
             "#e6f5d0"
            ],
            [
             0.7,
             "#b8e186"
            ],
            [
             0.8,
             "#7fbc41"
            ],
            [
             0.9,
             "#4d9221"
            ],
            [
             1,
             "#276419"
            ]
           ],
           "sequential": [
            [
             0,
             "#0d0887"
            ],
            [
             0.1111111111111111,
             "#46039f"
            ],
            [
             0.2222222222222222,
             "#7201a8"
            ],
            [
             0.3333333333333333,
             "#9c179e"
            ],
            [
             0.4444444444444444,
             "#bd3786"
            ],
            [
             0.5555555555555556,
             "#d8576b"
            ],
            [
             0.6666666666666666,
             "#ed7953"
            ],
            [
             0.7777777777777778,
             "#fb9f3a"
            ],
            [
             0.8888888888888888,
             "#fdca26"
            ],
            [
             1,
             "#f0f921"
            ]
           ],
           "sequentialminus": [
            [
             0,
             "#0d0887"
            ],
            [
             0.1111111111111111,
             "#46039f"
            ],
            [
             0.2222222222222222,
             "#7201a8"
            ],
            [
             0.3333333333333333,
             "#9c179e"
            ],
            [
             0.4444444444444444,
             "#bd3786"
            ],
            [
             0.5555555555555556,
             "#d8576b"
            ],
            [
             0.6666666666666666,
             "#ed7953"
            ],
            [
             0.7777777777777778,
             "#fb9f3a"
            ],
            [
             0.8888888888888888,
             "#fdca26"
            ],
            [
             1,
             "#f0f921"
            ]
           ]
          },
          "colorway": [
           "#636efa",
           "#EF553B",
           "#00cc96",
           "#ab63fa",
           "#FFA15A",
           "#19d3f3",
           "#FF6692",
           "#B6E880",
           "#FF97FF",
           "#FECB52"
          ],
          "font": {
           "color": "#2a3f5f"
          },
          "geo": {
           "bgcolor": "white",
           "lakecolor": "white",
           "landcolor": "#E5ECF6",
           "showlakes": true,
           "showland": true,
           "subunitcolor": "white"
          },
          "hoverlabel": {
           "align": "left"
          },
          "hovermode": "closest",
          "mapbox": {
           "style": "light"
          },
          "paper_bgcolor": "white",
          "plot_bgcolor": "#E5ECF6",
          "polar": {
           "angularaxis": {
            "gridcolor": "white",
            "linecolor": "white",
            "ticks": ""
           },
           "bgcolor": "#E5ECF6",
           "radialaxis": {
            "gridcolor": "white",
            "linecolor": "white",
            "ticks": ""
           }
          },
          "scene": {
           "xaxis": {
            "backgroundcolor": "#E5ECF6",
            "gridcolor": "white",
            "gridwidth": 2,
            "linecolor": "white",
            "showbackground": true,
            "ticks": "",
            "zerolinecolor": "white"
           },
           "yaxis": {
            "backgroundcolor": "#E5ECF6",
            "gridcolor": "white",
            "gridwidth": 2,
            "linecolor": "white",
            "showbackground": true,
            "ticks": "",
            "zerolinecolor": "white"
           },
           "zaxis": {
            "backgroundcolor": "#E5ECF6",
            "gridcolor": "white",
            "gridwidth": 2,
            "linecolor": "white",
            "showbackground": true,
            "ticks": "",
            "zerolinecolor": "white"
           }
          },
          "shapedefaults": {
           "line": {
            "color": "#2a3f5f"
           }
          },
          "ternary": {
           "aaxis": {
            "gridcolor": "white",
            "linecolor": "white",
            "ticks": ""
           },
           "baxis": {
            "gridcolor": "white",
            "linecolor": "white",
            "ticks": ""
           },
           "bgcolor": "#E5ECF6",
           "caxis": {
            "gridcolor": "white",
            "linecolor": "white",
            "ticks": ""
           }
          },
          "title": {
           "x": 0.05
          },
          "xaxis": {
           "automargin": true,
           "gridcolor": "white",
           "linecolor": "white",
           "ticks": "",
           "title": {
            "standoff": 15
           },
           "zerolinecolor": "white",
           "zerolinewidth": 2
          },
          "yaxis": {
           "automargin": true,
           "gridcolor": "white",
           "linecolor": "white",
           "ticks": "",
           "title": {
            "standoff": 15
           },
           "zerolinecolor": "white",
           "zerolinewidth": 2
          }
         }
        },
        "xaxis": {
         "anchor": "y",
         "autorange": true,
         "domain": [
          0,
          1
         ],
         "range": [
          -1.5674157303370786,
          25.56741573033708
         ],
         "title": {
          "text": "period"
         },
         "type": "category"
        },
        "yaxis": {
         "anchor": "x",
         "autorange": true,
         "domain": [
          0,
          1
         ],
         "range": [
          -0.517027027027027,
          1.137027027027027
         ],
         "title": {
          "text": "rentab_avg"
         },
         "type": "linear"
        }
       }
      },
      "image/png": "[encoded data removed]",
      "text/html": [
       "<div>                            <div id=\"9e6f866c-e50c-46f3-b970-546e34803c91\" class=\"plotly-graph-div\" style=\"height:525px; width:100%;\"></div>            <script type=\"text/javascript\">                require([\"plotly\"], function(Plotly) {                    window.PLOTLYENV=window.PLOTLYENV || {};                                    if (document.getElementById(\"9e6f866c-e50c-46f3-b970-546e34803c91\")) {                    Plotly.newPlot(                        \"9e6f866c-e50c-46f3-b970-546e34803c91\",                        [{\"hovertemplate\": \"fondo=BOREAS CARTERA CRECIMIENTO, FI<br>period=%{x}<br>rentab_avg=%{y}<extra></extra>\", \"legendgroup\": \"BOREAS CARTERA CRECIMIENTO, FI\", \"marker\": {\"color\": \"#636efa\", \"symbol\": \"circle\"}, \"mode\": \"markers\", \"name\": \"BOREAS CARTERA CRECIMIENTO, FI\", \"orientation\": \"v\", \"showlegend\": true, \"type\": \"scatter\", \"x\": [\"Semester 1 2007\", \"Semester 1 2007\", \"Semester 1 2009\", \"Semester 2 2009\", \"Semester 1 2010\", \"Semester 1 2010\", \"Semester 1 2010\", \"Semester 2 2010\", \"Semester 1 2011\", \"Semester 1 2011\", \"Semester 1 2011\", \"Semester 2 2011\", \"Semester 1 2012\", \"Semester 1 2014\", \"Semester 2 2014\", \"Semester 2 2014\", \"Semester 1 2015\", \"Semester 1 2016\", \"Semester 1 2016\", \"Semester 2 2016\", \"Semester 2 2016\", \"Semester 2 2016\", \"Semester 2 2016\", \"Semester 1 2017\", \"Semester 1 2017\", \"Semester 2 2017\", \"Semester 2 2017\", \"Semester 1 2018\", \"Semester 1 2018\", \"Semester 1 2019\", \"Semester 1 2019\", \"Semester 2 2019\", \"Semester 2 2019\", \"Semester 1 2020\", \"Semester 1 2020\", \"Semester 2 2020\", \"Semester 2 2020\"], \"xaxis\": \"x\", \"y\": [null, null, 0.96, 0.14, 0.12, null, null, 0.37, 0.67, null, null, 0.92, 0.17, 0.0, 0.0, 0.0, 0.0, 0.0, 0.0, 0.0, 0.0, 0.0, 0.0, -0.14, -0.14, 0.0, 0.0, 0.0, 0.0, 0.01, 0.01, -0.07, -0.07, -0.36, -0.36, -0.41, -0.41], \"yaxis\": \"y\"}, {\"hovertemplate\": \"fondo=BANKIA MIXTO RENTA FIJA 30, FI<br>period=%{x}<br>rentab_avg=%{y}<extra></extra>\", \"legendgroup\": \"BANKIA MIXTO RENTA FIJA 30, FI\", \"marker\": {\"color\": \"#EF553B\", \"symbol\": \"circle\"}, \"mode\": \"markers\", \"name\": \"BANKIA MIXTO RENTA FIJA 30, FI\", \"orientation\": \"v\", \"showlegend\": true, \"type\": \"scatter\", \"x\": [\"Semester 1 2009\", \"Semester 2 2009\", \"Semester 1 2010\", \"Semester 2 2010\", \"Semester 2 2010\", \"Semester 1 2011\", \"Semester 2 2011\", \"Semester 1 2012\", \"Semester 2 2012\", \"Semester 1 2013\", \"Semester 2 2013\", \"Semester 2 2014\", \"Semester 2 2014\", \"Semester 1 2015\", \"Semester 2 2015\", \"Semester 1 2016\", \"Semester 2 2016\", \"Semester 1 2017\", \"Semester 2 2017\", \"Semester 1 2018\", \"Semester 1 2018\", \"Semester 2 2018\", \"Semester 2 2018\", \"Semester 1 2019\", \"Semester 1 2019\", \"Semester 1 2020\", \"Semester 1 2020\", \"Semester 2 2020\", \"Semester 2 2020\"], \"xaxis\": \"x\", \"y\": [1.03, 0.3, 0.29, 0.47, 0.47, 0.78, 0.81, 0.3, 0.06, 0.01, 0.01, 0.03, 0.03, 0.0, 0.0, 0.0, 0.0, 0.0, 0.0, 0.0, 0.0, 0.0, 0.0, 0.0, 0.0, -0.17, -0.17, -0.17, -0.17], \"yaxis\": \"y\"}],                        {\"legend\": {\"title\": {\"text\": \"fondo\"}, \"tracegroupgap\": 0}, \"margin\": {\"t\": 60}, \"template\": {\"data\": {\"bar\": [{\"error_x\": {\"color\": \"#2a3f5f\"}, \"error_y\": {\"color\": \"#2a3f5f\"}, \"marker\": {\"line\": {\"color\": \"#E5ECF6\", \"width\": 0.5}}, \"type\": \"bar\"}], \"barpolar\": [{\"marker\": {\"line\": {\"color\": \"#E5ECF6\", \"width\": 0.5}}, \"type\": \"barpolar\"}], \"carpet\": [{\"aaxis\": {\"endlinecolor\": \"#2a3f5f\", \"gridcolor\": \"white\", \"linecolor\": \"white\", \"minorgridcolor\": \"white\", \"startlinecolor\": \"#2a3f5f\"}, \"baxis\": {\"endlinecolor\": \"#2a3f5f\", \"gridcolor\": \"white\", \"linecolor\": \"white\", \"minorgridcolor\": \"white\", \"startlinecolor\": \"#2a3f5f\"}, \"type\": \"carpet\"}], \"choropleth\": [{\"colorbar\": {\"outlinewidth\": 0, \"ticks\": \"\"}, \"type\": \"choropleth\"}], \"contour\": [{\"colorbar\": {\"outlinewidth\": 0, \"ticks\": \"\"}, \"colorscale\": [[0.0, \"#0d0887\"], [0.1111111111111111, \"#46039f\"], [0.2222222222222222, \"#7201a8\"], [0.3333333333333333, \"#9c179e\"], [0.4444444444444444, \"#bd3786\"], [0.5555555555555556, \"#d8576b\"], [0.6666666666666666, \"#ed7953\"], [0.7777777777777778, \"#fb9f3a\"], [0.8888888888888888, \"#fdca26\"], [1.0, \"#f0f921\"]], \"type\": \"contour\"}], \"contourcarpet\": [{\"colorbar\": {\"outlinewidth\": 0, \"ticks\": \"\"}, \"type\": \"contourcarpet\"}], \"heatmap\": [{\"colorbar\": {\"outlinewidth\": 0, \"ticks\": \"\"}, \"colorscale\": [[0.0, \"#0d0887\"], [0.1111111111111111, \"#46039f\"], [0.2222222222222222, \"#7201a8\"], [0.3333333333333333, \"#9c179e\"], [0.4444444444444444, \"#bd3786\"], [0.5555555555555556, \"#d8576b\"], [0.6666666666666666, \"#ed7953\"], [0.7777777777777778, \"#fb9f3a\"], [0.8888888888888888, \"#fdca26\"], [1.0, \"#f0f921\"]], \"type\": \"heatmap\"}], \"heatmapgl\": [{\"colorbar\": {\"outlinewidth\": 0, \"ticks\": \"\"}, \"colorscale\": [[0.0, \"#0d0887\"], [0.1111111111111111, \"#46039f\"], [0.2222222222222222, \"#7201a8\"], [0.3333333333333333, \"#9c179e\"], [0.4444444444444444, \"#bd3786\"], [0.5555555555555556, \"#d8576b\"], [0.6666666666666666, \"#ed7953\"], [0.7777777777777778, \"#fb9f3a\"], [0.8888888888888888, \"#fdca26\"], [1.0, \"#f0f921\"]], \"type\": \"heatmapgl\"}], \"histogram\": [{\"marker\": {\"colorbar\": {\"outlinewidth\": 0, \"ticks\": \"\"}}, \"type\": \"histogram\"}], \"histogram2d\": [{\"colorbar\": {\"outlinewidth\": 0, \"ticks\": \"\"}, \"colorscale\": [[0.0, \"#0d0887\"], [0.1111111111111111, \"#46039f\"], [0.2222222222222222, \"#7201a8\"], [0.3333333333333333, \"#9c179e\"], [0.4444444444444444, \"#bd3786\"], [0.5555555555555556, \"#d8576b\"], [0.6666666666666666, \"#ed7953\"], [0.7777777777777778, \"#fb9f3a\"], [0.8888888888888888, \"#fdca26\"], [1.0, \"#f0f921\"]], \"type\": \"histogram2d\"}], \"histogram2dcontour\": [{\"colorbar\": {\"outlinewidth\": 0, \"ticks\": \"\"}, \"colorscale\": [[0.0, \"#0d0887\"], [0.1111111111111111, \"#46039f\"], [0.2222222222222222, \"#7201a8\"], [0.3333333333333333, \"#9c179e\"], [0.4444444444444444, \"#bd3786\"], [0.5555555555555556, \"#d8576b\"], [0.6666666666666666, \"#ed7953\"], [0.7777777777777778, \"#fb9f3a\"], [0.8888888888888888, \"#fdca26\"], [1.0, \"#f0f921\"]], \"type\": \"histogram2dcontour\"}], \"mesh3d\": [{\"colorbar\": {\"outlinewidth\": 0, \"ticks\": \"\"}, \"type\": \"mesh3d\"}], \"parcoords\": [{\"line\": {\"colorbar\": {\"outlinewidth\": 0, \"ticks\": \"\"}}, \"type\": \"parcoords\"}], \"pie\": [{\"automargin\": true, \"type\": \"pie\"}], \"scatter\": [{\"marker\": {\"colorbar\": {\"outlinewidth\": 0, \"ticks\": \"\"}}, \"type\": \"scatter\"}], \"scatter3d\": [{\"line\": {\"colorbar\": {\"outlinewidth\": 0, \"ticks\": \"\"}}, \"marker\": {\"colorbar\": {\"outlinewidth\": 0, \"ticks\": \"\"}}, \"type\": \"scatter3d\"}], \"scattercarpet\": [{\"marker\": {\"colorbar\": {\"outlinewidth\": 0, \"ticks\": \"\"}}, \"type\": \"scattercarpet\"}], \"scattergeo\": [{\"marker\": {\"colorbar\": {\"outlinewidth\": 0, \"ticks\": \"\"}}, \"type\": \"scattergeo\"}], \"scattergl\": [{\"marker\": {\"colorbar\": {\"outlinewidth\": 0, \"ticks\": \"\"}}, \"type\": \"scattergl\"}], \"scattermapbox\": [{\"marker\": {\"colorbar\": {\"outlinewidth\": 0, \"ticks\": \"\"}}, \"type\": \"scattermapbox\"}], \"scatterpolar\": [{\"marker\": {\"colorbar\": {\"outlinewidth\": 0, \"ticks\": \"\"}}, \"type\": \"scatterpolar\"}], \"scatterpolargl\": [{\"marker\": {\"colorbar\": {\"outlinewidth\": 0, \"ticks\": \"\"}}, \"type\": \"scatterpolargl\"}], \"scatterternary\": [{\"marker\": {\"colorbar\": {\"outlinewidth\": 0, \"ticks\": \"\"}}, \"type\": \"scatterternary\"}], \"surface\": [{\"colorbar\": {\"outlinewidth\": 0, \"ticks\": \"\"}, \"colorscale\": [[0.0, \"#0d0887\"], [0.1111111111111111, \"#46039f\"], [0.2222222222222222, \"#7201a8\"], [0.3333333333333333, \"#9c179e\"], [0.4444444444444444, \"#bd3786\"], [0.5555555555555556, \"#d8576b\"], [0.6666666666666666, \"#ed7953\"], [0.7777777777777778, \"#fb9f3a\"], [0.8888888888888888, \"#fdca26\"], [1.0, \"#f0f921\"]], \"type\": \"surface\"}], \"table\": [{\"cells\": {\"fill\": {\"color\": \"#EBF0F8\"}, \"line\": {\"color\": \"white\"}}, \"header\": {\"fill\": {\"color\": \"#C8D4E3\"}, \"line\": {\"color\": \"white\"}}, \"type\": \"table\"}]}, \"layout\": {\"annotationdefaults\": {\"arrowcolor\": \"#2a3f5f\", \"arrowhead\": 0, \"arrowwidth\": 1}, \"autotypenumbers\": \"strict\", \"coloraxis\": {\"colorbar\": {\"outlinewidth\": 0, \"ticks\": \"\"}}, \"colorscale\": {\"diverging\": [[0, \"#8e0152\"], [0.1, \"#c51b7d\"], [0.2, \"#de77ae\"], [0.3, \"#f1b6da\"], [0.4, \"#fde0ef\"], [0.5, \"#f7f7f7\"], [0.6, \"#e6f5d0\"], [0.7, \"#b8e186\"], [0.8, \"#7fbc41\"], [0.9, \"#4d9221\"], [1, \"#276419\"]], \"sequential\": [[0.0, \"#0d0887\"], [0.1111111111111111, \"#46039f\"], [0.2222222222222222, \"#7201a8\"], [0.3333333333333333, \"#9c179e\"], [0.4444444444444444, \"#bd3786\"], [0.5555555555555556, \"#d8576b\"], [0.6666666666666666, \"#ed7953\"], [0.7777777777777778, \"#fb9f3a\"], [0.8888888888888888, \"#fdca26\"], [1.0, \"#f0f921\"]], \"sequentialminus\": [[0.0, \"#0d0887\"], [0.1111111111111111, \"#46039f\"], [0.2222222222222222, \"#7201a8\"], [0.3333333333333333, \"#9c179e\"], [0.4444444444444444, \"#bd3786\"], [0.5555555555555556, \"#d8576b\"], [0.6666666666666666, \"#ed7953\"], [0.7777777777777778, \"#fb9f3a\"], [0.8888888888888888, \"#fdca26\"], [1.0, \"#f0f921\"]]}, \"colorway\": [\"#636efa\", \"#EF553B\", \"#00cc96\", \"#ab63fa\", \"#FFA15A\", \"#19d3f3\", \"#FF6692\", \"#B6E880\", \"#FF97FF\", \"#FECB52\"], \"font\": {\"color\": \"#2a3f5f\"}, \"geo\": {\"bgcolor\": \"white\", \"lakecolor\": \"white\", \"landcolor\": \"#E5ECF6\", \"showlakes\": true, \"showland\": true, \"subunitcolor\": \"white\"}, \"hoverlabel\": {\"align\": \"left\"}, \"hovermode\": \"closest\", \"mapbox\": {\"style\": \"light\"}, \"paper_bgcolor\": \"white\", \"plot_bgcolor\": \"#E5ECF6\", \"polar\": {\"angularaxis\": {\"gridcolor\": \"white\", \"linecolor\": \"white\", \"ticks\": \"\"}, \"bgcolor\": \"#E5ECF6\", \"radialaxis\": {\"gridcolor\": \"white\", \"linecolor\": \"white\", \"ticks\": \"\"}}, \"scene\": {\"xaxis\": {\"backgroundcolor\": \"#E5ECF6\", \"gridcolor\": \"white\", \"gridwidth\": 2, \"linecolor\": \"white\", \"showbackground\": true, \"ticks\": \"\", \"zerolinecolor\": \"white\"}, \"yaxis\": {\"backgroundcolor\": \"#E5ECF6\", \"gridcolor\": \"white\", \"gridwidth\": 2, \"linecolor\": \"white\", \"showbackground\": true, \"ticks\": \"\", \"zerolinecolor\": \"white\"}, \"zaxis\": {\"backgroundcolor\": \"#E5ECF6\", \"gridcolor\": \"white\", \"gridwidth\": 2, \"linecolor\": \"white\", \"showbackground\": true, \"ticks\": \"\", \"zerolinecolor\": \"white\"}}, \"shapedefaults\": {\"line\": {\"color\": \"#2a3f5f\"}}, \"ternary\": {\"aaxis\": {\"gridcolor\": \"white\", \"linecolor\": \"white\", \"ticks\": \"\"}, \"baxis\": {\"gridcolor\": \"white\", \"linecolor\": \"white\", \"ticks\": \"\"}, \"bgcolor\": \"#E5ECF6\", \"caxis\": {\"gridcolor\": \"white\", \"linecolor\": \"white\", \"ticks\": \"\"}}, \"title\": {\"x\": 0.05}, \"xaxis\": {\"automargin\": true, \"gridcolor\": \"white\", \"linecolor\": \"white\", \"ticks\": \"\", \"title\": {\"standoff\": 15}, \"zerolinecolor\": \"white\", \"zerolinewidth\": 2}, \"yaxis\": {\"automargin\": true, \"gridcolor\": \"white\", \"linecolor\": \"white\", \"ticks\": \"\", \"title\": {\"standoff\": 15}, \"zerolinecolor\": \"white\", \"zerolinewidth\": 2}}}, \"xaxis\": {\"anchor\": \"y\", \"domain\": [0.0, 1.0], \"title\": {\"text\": \"period\"}}, \"yaxis\": {\"anchor\": \"x\", \"domain\": [0.0, 1.0], \"title\": {\"text\": \"rentab_avg\"}}},                        {\"responsive\": true}                    ).then(function(){\n",
       "                            \n",
       "var gd = document.getElementById('9e6f866c-e50c-46f3-b970-546e34803c91');\n",
       "var x = new MutationObserver(function (mutations, observer) {{\n",
       "        var display = window.getComputedStyle(gd).display;\n",
       "        if (!display || display === 'none') {{\n",
       "            console.log([gd, 'removed!']);\n",
       "            Plotly.purge(gd);\n",
       "            observer.disconnect();\n",
       "        }}\n",
       "}});\n",
       "\n",
       "// Listen for the removal of the full notebook cells\n",
       "var notebookContainer = gd.closest('#notebook-container');\n",
       "if (notebookContainer) {{\n",
       "    x.observe(notebookContainer, {childList: true});\n",
       "}}\n",
       "\n",
       "// Listen for the clearing of the current output cell\n",
       "var outputEl = gd.closest('.output');\n",
       "if (outputEl) {{\n",
       "    x.observe(outputEl, {childList: true});\n",
       "}}\n",
       "\n",
       "                        })                };                });            </script>        </div>"
      ]
     },
     "metadata": {},
     "output_type": "display_data"
    }
   ],
   "source": [
    "## Visualizaciones\n",
    "df['period_type']=df.apply(lambda x: period_type(x['period']), axis=1)\n",
    "df['start_date'] =pd.to_datetime(df['start_date'])\n",
    "df['end_date'] =pd.to_datetime(df['end_date'])\n",
    "fondo_filt=(df['fondo']=='BOREAS CARTERA CRECIMIENTO, FI')|(df['fondo']=='BANKIA MIXTO RENTA FIJA 30, FI')\n",
    "timeframe=df['period_type']=='Semester'   #Semester or Trimester\n",
    "var='rentab_avg'\n",
    "\n",
    "viz_df=df[fondo_filt&timeframe].sort_values('end_date',ascending=True)\n",
    "\n",
    "import plotly.express as px\n",
    "fig = px.scatter(viz_df, x=\"period\", y='rentab_avg', color='fondo')\n",
    "fig"
   ]
  },
  {
   "cell_type": "code",
   "execution_count": 7,
   "metadata": {},
   "outputs": [
    {
     "data": {
      "text/html": [
       "<div>\n",
       "<style scoped>\n",
       "    .dataframe tbody tr th:only-of-type {\n",
       "        vertical-align: middle;\n",
       "    }\n",
       "\n",
       "    .dataframe tbody tr th {\n",
       "        vertical-align: top;\n",
       "    }\n",
       "\n",
       "    .dataframe thead th {\n",
       "        text-align: right;\n",
       "    }\n",
       "</style>\n",
       "<table border=\"1\" class=\"dataframe\">\n",
       "  <thead>\n",
       "    <tr style=\"text-align: right;\">\n",
       "      <th></th>\n",
       "      <th>fondo</th>\n",
       "      <th>name</th>\n",
       "      <th>nif</th>\n",
       "      <th>period</th>\n",
       "      <th>start_date</th>\n",
       "      <th>end_date</th>\n",
       "      <th>registro_CNMV</th>\n",
       "      <th>email_gest</th>\n",
       "      <th>rating_depos</th>\n",
       "      <th>riesgo</th>\n",
       "      <th>...</th>\n",
       "      <th>comision_gest_res</th>\n",
       "      <th>comision_gest_total</th>\n",
       "      <th>comision_depos</th>\n",
       "      <th>rentab_IIC_trim</th>\n",
       "      <th>volat_vl_trim</th>\n",
       "      <th>ratio_gastos_trim</th>\n",
       "      <th>gestora</th>\n",
       "      <th>depos</th>\n",
       "      <th>ISIN</th>\n",
       "      <th>period_type</th>\n",
       "    </tr>\n",
       "  </thead>\n",
       "  <tbody>\n",
       "    <tr>\n",
       "      <th>55</th>\n",
       "      <td>BOREAS CARTERA CRECIMIENTO, FI</td>\n",
       "      <td>CLASE I BOREAS CARTERA ACTIVA FI</td>\n",
       "      <td>85114205</td>\n",
       "      <td>Semester 1 2019</td>\n",
       "      <td>2019-01-01</td>\n",
       "      <td>2019-06-30</td>\n",
       "      <td>3836</td>\n",
       "      <td>N/D</td>\n",
       "      <td>ND</td>\n",
       "      <td>5 en una escala de 1 a 7</td>\n",
       "      <td>...</td>\n",
       "      <td>0</td>\n",
       "      <td>0.6</td>\n",
       "      <td>0.04</td>\n",
       "      <td>[]</td>\n",
       "      <td>[]</td>\n",
       "      <td>[]</td>\n",
       "      <td>NaN</td>\n",
       "      <td>NaN</td>\n",
       "      <td>NaN</td>\n",
       "      <td>Semester</td>\n",
       "    </tr>\n",
       "    <tr>\n",
       "      <th>58</th>\n",
       "      <td>BOREAS CARTERA CRECIMIENTO, FI</td>\n",
       "      <td>CLASE R BOREAS CARTERA ACTIVA FI</td>\n",
       "      <td>85114205</td>\n",
       "      <td>Semester 2 2020</td>\n",
       "      <td>2020-07-01</td>\n",
       "      <td>2020-12-31</td>\n",
       "      <td>3836</td>\n",
       "      <td>N/D</td>\n",
       "      <td>ND</td>\n",
       "      <td>5 en una escala de 1 a 7</td>\n",
       "      <td>...</td>\n",
       "      <td>0</td>\n",
       "      <td>0.9</td>\n",
       "      <td>0.04</td>\n",
       "      <td>[]</td>\n",
       "      <td>[]</td>\n",
       "      <td>[]</td>\n",
       "      <td>NaN</td>\n",
       "      <td>NaN</td>\n",
       "      <td>NaN</td>\n",
       "      <td>Semester</td>\n",
       "    </tr>\n",
       "    <tr>\n",
       "      <th>59</th>\n",
       "      <td>BOREAS CARTERA CRECIMIENTO, FI</td>\n",
       "      <td>CLASE I BOREAS CARTERA ACTIVA FI</td>\n",
       "      <td>85114205</td>\n",
       "      <td>Semester 2 2020</td>\n",
       "      <td>2020-07-01</td>\n",
       "      <td>2020-12-31</td>\n",
       "      <td>3836</td>\n",
       "      <td>N/D</td>\n",
       "      <td>ND</td>\n",
       "      <td>5 en una escala de 1 a 7</td>\n",
       "      <td>...</td>\n",
       "      <td>0</td>\n",
       "      <td>0.6</td>\n",
       "      <td>0.04</td>\n",
       "      <td>[]</td>\n",
       "      <td>[]</td>\n",
       "      <td>[]</td>\n",
       "      <td>NaN</td>\n",
       "      <td>NaN</td>\n",
       "      <td>NaN</td>\n",
       "      <td>Semester</td>\n",
       "    </tr>\n",
       "    <tr>\n",
       "      <th>62</th>\n",
       "      <td>BOREAS CARTERA CRECIMIENTO, FI</td>\n",
       "      <td>CLASE R BOREAS CARTERA ACTIVA FI</td>\n",
       "      <td>85114205</td>\n",
       "      <td>Semester 1 2020</td>\n",
       "      <td>2020-01-01</td>\n",
       "      <td>2020-06-30</td>\n",
       "      <td>3836</td>\n",
       "      <td>N/D</td>\n",
       "      <td>ND</td>\n",
       "      <td>5 en una escala de 1 a 7</td>\n",
       "      <td>...</td>\n",
       "      <td>0</td>\n",
       "      <td>0.89</td>\n",
       "      <td>0.04</td>\n",
       "      <td>[]</td>\n",
       "      <td>[]</td>\n",
       "      <td>[]</td>\n",
       "      <td>NaN</td>\n",
       "      <td>NaN</td>\n",
       "      <td>NaN</td>\n",
       "      <td>Semester</td>\n",
       "    </tr>\n",
       "    <tr>\n",
       "      <th>63</th>\n",
       "      <td>BOREAS CARTERA CRECIMIENTO, FI</td>\n",
       "      <td>CLASE I BOREAS CARTERA ACTIVA FI</td>\n",
       "      <td>85114205</td>\n",
       "      <td>Semester 1 2020</td>\n",
       "      <td>2020-01-01</td>\n",
       "      <td>2020-06-30</td>\n",
       "      <td>3836</td>\n",
       "      <td>N/D</td>\n",
       "      <td>ND</td>\n",
       "      <td>5 en una escala de 1 a 7</td>\n",
       "      <td>...</td>\n",
       "      <td>0</td>\n",
       "      <td>0.6</td>\n",
       "      <td>0.04</td>\n",
       "      <td>[]</td>\n",
       "      <td>[]</td>\n",
       "      <td>[]</td>\n",
       "      <td>NaN</td>\n",
       "      <td>NaN</td>\n",
       "      <td>NaN</td>\n",
       "      <td>Semester</td>\n",
       "    </tr>\n",
       "  </tbody>\n",
       "</table>\n",
       "<p>5 rows × 30 columns</p>\n",
       "</div>"
      ],
      "text/plain": [
       "                             fondo                              name  \\\n",
       "55  BOREAS CARTERA CRECIMIENTO, FI  CLASE I BOREAS CARTERA ACTIVA FI   \n",
       "58  BOREAS CARTERA CRECIMIENTO, FI  CLASE R BOREAS CARTERA ACTIVA FI   \n",
       "59  BOREAS CARTERA CRECIMIENTO, FI  CLASE I BOREAS CARTERA ACTIVA FI   \n",
       "62  BOREAS CARTERA CRECIMIENTO, FI  CLASE R BOREAS CARTERA ACTIVA FI   \n",
       "63  BOREAS CARTERA CRECIMIENTO, FI  CLASE I BOREAS CARTERA ACTIVA FI   \n",
       "\n",
       "         nif           period start_date   end_date  registro_CNMV email_gest  \\\n",
       "55  85114205  Semester 1 2019 2019-01-01 2019-06-30           3836        N/D   \n",
       "58  85114205  Semester 2 2020 2020-07-01 2020-12-31           3836        N/D   \n",
       "59  85114205  Semester 2 2020 2020-07-01 2020-12-31           3836        N/D   \n",
       "62  85114205  Semester 1 2020 2020-01-01 2020-06-30           3836        N/D   \n",
       "63  85114205  Semester 1 2020 2020-01-01 2020-06-30           3836        N/D   \n",
       "\n",
       "   rating_depos                    riesgo  ...  comision_gest_res  \\\n",
       "55           ND  5 en una escala de 1 a 7  ...                  0   \n",
       "58           ND  5 en una escala de 1 a 7  ...                  0   \n",
       "59           ND  5 en una escala de 1 a 7  ...                  0   \n",
       "62           ND  5 en una escala de 1 a 7  ...                  0   \n",
       "63           ND  5 en una escala de 1 a 7  ...                  0   \n",
       "\n",
       "    comision_gest_total  comision_depos rentab_IIC_trim volat_vl_trim  \\\n",
       "55                  0.6            0.04              []            []   \n",
       "58                  0.9            0.04              []            []   \n",
       "59                  0.6            0.04              []            []   \n",
       "62                 0.89            0.04              []            []   \n",
       "63                  0.6            0.04              []            []   \n",
       "\n",
       "   ratio_gastos_trim gestora depos ISIN period_type  \n",
       "55                []     NaN   NaN  NaN    Semester  \n",
       "58                []     NaN   NaN  NaN    Semester  \n",
       "59                []     NaN   NaN  NaN    Semester  \n",
       "62                []     NaN   NaN  NaN    Semester  \n",
       "63                []     NaN   NaN  NaN    Semester  \n",
       "\n",
       "[5 rows x 30 columns]"
      ]
     },
     "execution_count": 7,
     "metadata": {},
     "output_type": "execute_result"
    }
   ],
   "source": [
    "viz_df.tail()"
   ]
  },
  {
   "cell_type": "code",
   "execution_count": 11,
   "metadata": {},
   "outputs": [
    {
     "name": "stdout",
     "output_type": "stream",
     "text": [
      "a/b\n"
     ]
    }
   ],
   "source": [
    "print('a/b')"
   ]
  },
  {
   "cell_type": "code",
   "execution_count": 16,
   "metadata": {},
   "outputs": [
    {
     "data": {
      "text/plain": [
       "{'1 KESSLER GLOBAL, FI': 'https://www.cnmv.es/portal/Consultas/IIC/Fondo.aspx?nif=V66247677 ',\n",
       " 'A&G RENTA FIJA CORTO PLAZO, FI': 'https://www.cnmv.es/portal/Consultas/IIC/Fondo.aspx?nif=V85405082 ',\n",
       " 'ABACO GLOBAL VALUE OPPORTUNITIES FI': 'https://www.cnmv.es/portal/Consultas/IIC/Fondo.aspx?nif=V87152088 ',\n",
       " 'ABACO RENTA FIJA MIXTA GLOBAL, FI': 'https://www.cnmv.es/portal/Consultas/IIC/Fondo.aspx?nif=V86467461 ',\n",
       " 'ABANCA GESTION, FI': 'https://www.cnmv.es/portal/Consultas/IIC/Fondo.aspx?nif=V86844974 ',\n",
       " 'ABANCA RENTA FIJA FLEXIBLE, FI': 'https://www.cnmv.es/portal/Consultas/IIC/Fondo.aspx?nif=V84857739 ',\n",
       " 'ABANCA RENTA FIJA MIXTA, FI': 'https://www.cnmv.es/portal/Consultas/IIC/Fondo.aspx?nif=V87109906 ',\n",
       " 'ABANCA RENTA FIJA PATRIMONIO, FI': 'https://www.cnmv.es/portal/Consultas/IIC/Fondo.aspx?nif=V85377406 ',\n",
       " 'ABANCA RENTA VARIABLE ESPAÑA, FI': 'https://www.cnmv.es/portal/Consultas/IIC/Fondo.aspx?nif=V87112173 ',\n",
       " 'ABANCA RENTA VARIABLE EUROPA, FI': 'https://www.cnmv.es/portal/Consultas/IIC/Fondo.aspx?nif=V82055906 ',\n",
       " 'ABANCA RENTA VARIABLE MIXTA, FI': 'https://www.cnmv.es/portal/Consultas/IIC/Fondo.aspx?nif=V80714306 ',\n",
       " 'ABANDO EQUITIES, FI': 'https://www.cnmv.es/portal/Consultas/IIC/Fondo.aspx?nif=V85439560 ',\n",
       " 'ABANTE ASESORES GLOBAL, FI': 'https://www.cnmv.es/portal/Consultas/IIC/Fondo.aspx?nif=V83217208 ',\n",
       " 'ABANTE BOLSA ABSOLUTA, FI': 'https://www.cnmv.es/portal/Consultas/IIC/Fondo.aspx?nif=V84288323 ',\n",
       " 'ABANTE BOLSA, FI': 'https://www.cnmv.es/portal/Consultas/IIC/Fondo.aspx?nif=V83217299 ',\n",
       " 'ABANTE INDICE BOLSA FI': 'https://www.cnmv.es/portal/Consultas/IIC/Fondo.aspx?nif=V87884292 ',\n",
       " 'ABANTE INDICE SELECCION, FI': 'https://www.cnmv.es/portal/Consultas/IIC/Fondo.aspx?nif=V87884508 ',\n",
       " 'ABANTE PATRIMONIO GLOBAL, FI': 'https://www.cnmv.es/portal/Consultas/IIC/Fondo.aspx?nif=V83787549 ',\n",
       " 'ABANTE QUANT VALUE SMALL CAPS, FI': 'https://www.cnmv.es/portal/Consultas/IIC/Fondo.aspx?nif=V87919460 ',\n",
       " 'ABANTE RENTA FIJA CORTO PLAZO, FI': 'https://www.cnmv.es/portal/Consultas/IIC/Fondo.aspx?nif=V83217232 ',\n",
       " 'ABANTE RENTA, FI': 'https://www.cnmv.es/portal/Consultas/IIC/Fondo.aspx?nif=V84287952 ',\n",
       " 'ABANTE SELECCION, FI': 'https://www.cnmv.es/portal/Consultas/IIC/Fondo.aspx?nif=V83217257 ',\n",
       " 'ABANTE VALOR, FI': 'https://www.cnmv.es/portal/Consultas/IIC/Fondo.aspx?nif=V83409516 ',\n",
       " 'ACACIA BONOMIX FI': 'https://www.cnmv.es/portal/Consultas/IIC/Fondo.aspx?nif=V95644183 ',\n",
       " 'ACACIA GLOBALMIX 60-90, FI': 'https://www.cnmv.es/portal/Consultas/IIC/Fondo.aspx?nif=V95833638 ',\n",
       " 'ACACIA INVERMIX 30-60, FI': 'https://www.cnmv.es/portal/Consultas/IIC/Fondo.aspx?nif=V95833604 ',\n",
       " 'ACACIA PREMIUM FI': 'https://www.cnmv.es/portal/Consultas/IIC/Fondo.aspx?nif=V95644225 ',\n",
       " 'ACACIA REINVERPLUS EUROPA FI': 'https://www.cnmv.es/portal/Consultas/IIC/Fondo.aspx?nif=V95644191 ',\n",
       " 'ACACIA RENTA DINAMICA, FI': 'https://www.cnmv.es/portal/Consultas/IIC/Fondo.aspx?nif=V95652905 ',\n",
       " 'ACAPITAL FERTILITY AND GENOMICS, FI': 'https://www.cnmv.es/portal/Consultas/IIC/Fondo.aspx?nif=V67572206 ',\n",
       " 'ACCION EUROSTOXX 50 ETF, FI COTIZADO ARMONIZADO': 'https://www.cnmv.es/portal/Consultas/IIC/Fondo.aspx?nif=V84841055 ',\n",
       " 'ACCION IBEX 35 ETF, FI COTIZADO ARMONIZADO': 'https://www.cnmv.es/portal/Consultas/IIC/Fondo.aspx?nif=V84750637 ',\n",
       " 'ACTIVE VALUE SELECTION, FI': 'https://www.cnmv.es/portal/Consultas/IIC/Fondo.aspx?nif=V88036975 ',\n",
       " 'ACURIO EUROPEAN MANAGERS, FI': 'https://www.cnmv.es/portal/Consultas/IIC/Fondo.aspx?nif=V88424908 ',\n",
       " 'ADAMANTIUM, FI': 'https://www.cnmv.es/portal/Consultas/IIC/Fondo.aspx?nif=V01901362 ',\n",
       " 'ADRIZA GLOBAL, FI': 'https://www.cnmv.es/portal/Consultas/IIC/Fondo.aspx?nif=V85235620 ',\n",
       " 'ADRIZA RENTA FIJA CORTO PLAZO SOSTENIBLE, FI': 'https://www.cnmv.es/portal/Consultas/IIC/Fondo.aspx?nif=V87913182 ',\n",
       " 'AFI GLOBAL FI': 'https://www.cnmv.es/portal/Consultas/IIC/Fondo.aspx?nif=V81980070 ',\n",
       " 'AGAVE, FI': 'https://www.cnmv.es/portal/Consultas/IIC/Fondo.aspx?nif=V88259650 ',\n",
       " 'ALBUS, FI': 'https://www.cnmv.es/portal/Consultas/IIC/Fondo.aspx?nif=V65087215 ',\n",
       " 'ALCALA MULTIGESTION, FI': 'https://www.cnmv.es/portal/Consultas/IIC/Fondo.aspx?nif=V81545493 ',\n",
       " 'ALGAR GLOBAL FUND, FI': 'https://www.cnmv.es/portal/Consultas/IIC/Fondo.aspx?nif=V87287553 ',\n",
       " 'ALHAJA INVERSIONES RV MIXTO, FI': 'https://www.cnmv.es/portal/Consultas/IIC/Fondo.aspx?nif=V87189460 ',\n",
       " 'ALISIO CARTERA SOSTENIBLE ISR, FI': 'https://www.cnmv.es/portal/Consultas/IIC/Fondo.aspx?nif=V87983243 ',\n",
       " 'ALLIANZ BOLSA ESPAÑOLA, FI': 'https://www.cnmv.es/portal/Consultas/IIC/Fondo.aspx?nif=V88570007 ',\n",
       " 'ALLIANZ CARTERA DECIDIDA, FI': 'https://www.cnmv.es/portal/Consultas/IIC/Fondo.aspx?nif=V88569983 ',\n",
       " 'ALLIANZ CARTERA DINAMICA, FI': 'https://www.cnmv.es/portal/Consultas/IIC/Fondo.aspx?nif=V88570148 ',\n",
       " 'ALLIANZ CARTERA MODERADA, FI': 'https://www.cnmv.es/portal/Consultas/IIC/Fondo.aspx?nif=V88569892 ',\n",
       " 'ALLIANZ CONSERVADOR DINAMICO, FI': 'https://www.cnmv.es/portal/Consultas/IIC/Fondo.aspx?nif=V88570130 ',\n",
       " 'ALONDRA CAPITAL, FI': 'https://www.cnmv.es/portal/Consultas/IIC/Fondo.aspx?nif=V87733978 ',\n",
       " 'ALPHA INVESTMENTS, FI': 'https://www.cnmv.es/portal/Consultas/IIC/Fondo.aspx?nif=V86459815 ',\n",
       " 'ALTAIR EUROPEAN OPPORTUNITIES, FI': 'https://www.cnmv.es/portal/Consultas/IIC/Fondo.aspx?nif=V87466777 ',\n",
       " 'ALTAIR INVERSIONES II, FI': 'https://www.cnmv.es/portal/Consultas/IIC/Fondo.aspx?nif=V87382172 ',\n",
       " 'ALTAIR PATRIMONIO II, FI': 'https://www.cnmv.es/portal/Consultas/IIC/Fondo.aspx?nif=V87383766 ',\n",
       " 'ALTAIR RENTA FIJA DEFENSIVA, FI': 'https://www.cnmv.es/portal/Consultas/IIC/Fondo.aspx?nif=V87113726 ',\n",
       " 'AMEINON RENTA FIJA, FI': 'https://www.cnmv.es/portal/Consultas/IIC/Fondo.aspx?nif=V86936861 ',\n",
       " 'AMISTRA GLOBAL, FI': 'https://www.cnmv.es/portal/Consultas/IIC/Fondo.aspx?nif=V95615092 ',\n",
       " 'AMUNDI CORTO PLAZO, FI': 'https://www.cnmv.es/portal/Consultas/IIC/Fondo.aspx?nif=V80346265 ',\n",
       " 'AMUNDI ESTRATEGIA GLOBAL, FI': 'https://www.cnmv.es/portal/Consultas/IIC/Fondo.aspx?nif=V81029019 ',\n",
       " 'AMUNDI FONDTESORO LARGO PLAZO, FI': 'https://www.cnmv.es/portal/Consultas/IIC/Fondo.aspx?nif=V79501672 ',\n",
       " 'ÁNCORA CONSERVADOR, FI': 'https://www.cnmv.es/portal/Consultas/IIC/Fondo.aspx?nif=V88642400 ',\n",
       " 'ANDBANK MEGATRENDS, FI': 'https://www.cnmv.es/portal/Consultas/IIC/Fondo.aspx?nif=V88349535 ',\n",
       " 'ANNAPURNA, FI': 'https://www.cnmv.es/portal/Consultas/IIC/Fondo.aspx?nif=V86426863 ',\n",
       " 'ANNUALCYCLES STRATEGIES, FI': 'https://www.cnmv.es/portal/Consultas/IIC/Fondo.aspx?nif=V-65433930',\n",
       " 'ARCANO PARTNERS FUND, FI': 'https://www.cnmv.es/portal/Consultas/IIC/Fondo.aspx?nif=V87708434 ',\n",
       " 'ARQUIA BANCA BOLSA, FI': 'https://www.cnmv.es/portal/Consultas/IIC/Fondo.aspx?nif=V66360967 ',\n",
       " 'ARQUIA BANCA DINAMICO 100RV, FI': 'https://www.cnmv.es/portal/Consultas/IIC/Fondo.aspx?nif=V66728932 ',\n",
       " 'ARQUIA BANCA EQUILIBRADO 60RV, FI': 'https://www.cnmv.es/portal/Consultas/IIC/Fondo.aspx?nif=V66728924 ',\n",
       " 'ARQUIA BANCA PRUDENTE 30RV, FI': 'https://www.cnmv.es/portal/Consultas/IIC/Fondo.aspx?nif=V66728908 ',\n",
       " 'ARQUIA BANCA RF EURO, FI': 'https://www.cnmv.es/portal/Consultas/IIC/Fondo.aspx?nif=V63030274 ',\n",
       " 'ARQUIA BANCA RF FLEXIBLE, FI': 'https://www.cnmv.es/portal/Consultas/IIC/Fondo.aspx?nif=V88614524 ',\n",
       " 'ARQUIA BANCA RVM, FI': 'https://www.cnmv.es/portal/Consultas/IIC/Fondo.aspx?nif=V66043803 ',\n",
       " 'ARQUIA BANCA UNO, FI': 'https://www.cnmv.es/portal/Consultas/IIC/Fondo.aspx?nif=V58430059 ',\n",
       " 'ARTE FINANCIERO, FI': 'https://www.cnmv.es/portal/Consultas/IIC/Fondo.aspx?nif=V81770737 ',\n",
       " 'ATL CAPITAL BEST MANAGERS, FI': 'https://www.cnmv.es/portal/Consultas/IIC/Fondo.aspx?nif=V84462001 ',\n",
       " 'ATL CAPITAL CARTERA DINAMICA, FI': 'https://www.cnmv.es/portal/Consultas/IIC/Fondo.aspx?nif=V85271096 ',\n",
       " 'ATL CAPITAL CARTERA PATRIMONIO, FI': 'https://www.cnmv.es/portal/Consultas/IIC/Fondo.aspx?nif=V85271120 ',\n",
       " 'ATL CAPITAL CARTERA RENTA VARIABLE, FI': 'https://www.cnmv.es/portal/Consultas/IIC/Fondo.aspx?nif=V87113551 ',\n",
       " 'ATL CAPITAL CARTERA TACTICA, FI': 'https://www.cnmv.es/portal/Consultas/IIC/Fondo.aspx?nif=V85271161 ',\n",
       " 'ATL CAPITAL CORTO PLAZO, FI': 'https://www.cnmv.es/portal/Consultas/IIC/Fondo.aspx?nif=V84462019 ',\n",
       " 'ATL CAPITAL QUANT 25, FI (EN LIQUIDACION)': 'https://www.cnmv.es/portal/Consultas/IIC/Fondo.aspx?nif=V86510864 ',\n",
       " 'ATL CAPITAL RENTA FIJA, FI': 'https://www.cnmv.es/portal/Consultas/IIC/Fondo.aspx?nif=V85641959 ',\n",
       " 'ATTITUDE OPPORTUNITIES FI': 'https://www.cnmv.es/portal/Consultas/IIC/Fondo.aspx?nif=V86209699 ',\n",
       " 'ATTITUDE SHERPA, FI': 'https://www.cnmv.es/portal/Consultas/IIC/Fondo.aspx?nif=V87969770 ',\n",
       " 'AURUM RENTA VARIABLE, FI': 'https://www.cnmv.es/portal/Consultas/IIC/Fondo.aspx?nif=V84414564 ',\n",
       " 'AVANCE GLOBAL, FI': 'https://www.cnmv.es/portal/Consultas/IIC/Fondo.aspx?nif=V82628934 ',\n",
       " 'AVANCE MULTIACTIVOS, FI': 'https://www.cnmv.es/portal/Consultas/IIC/Fondo.aspx?nif=V88306766 ',\n",
       " 'AVANTAGE FUND, FI': 'https://www.cnmv.es/portal/Consultas/IIC/Fondo.aspx?nif=V87077459 ',\n",
       " 'AZVALOR BLUE CHIPS, FI': 'https://www.cnmv.es/portal/Consultas/IIC/Fondo.aspx?nif=V87652053 ',\n",
       " 'AZVALOR CAPITAL, FI': 'https://www.cnmv.es/portal/Consultas/IIC/Fondo.aspx?nif=V87393195 ',\n",
       " 'AZVALOR IBERIA, FI': 'https://www.cnmv.es/portal/Consultas/IIC/Fondo.aspx?nif=V87393237 ',\n",
       " 'AZVALOR INTERNACIONAL, FI': 'https://www.cnmv.es/portal/Consultas/IIC/Fondo.aspx?nif=V87393245 ',\n",
       " 'AZVALOR MANAGERS, FI': 'https://www.cnmv.es/portal/Consultas/IIC/Fondo.aspx?nif=V88203104 ',\n",
       " 'B&H ACCIONES, FI': 'https://www.cnmv.es/portal/Consultas/IIC/Fondo.aspx?nif=V87887600 ',\n",
       " 'B&H DEUDA, FI': 'https://www.cnmv.es/portal/Consultas/IIC/Fondo.aspx?nif=V88552039 ',\n",
       " 'B&H FLEXIBLE, FI': 'https://www.cnmv.es/portal/Consultas/IIC/Fondo.aspx?nif=V87887642 ',\n",
       " 'B&H RENTA FIJA, FI': 'https://www.cnmv.es/portal/Consultas/IIC/Fondo.aspx?nif=V87887592 ',\n",
       " 'BANKIA BANCA PRIVADA RENTA FIJA EURO, FI': 'https://www.cnmv.es/portal/Consultas/IIC/Fondo.aspx?nif=V83007617 ',\n",
       " 'BANKIA BANCA PRIVADA RENTA VARIABLE ESPAÑA, FI': 'https://www.cnmv.es/portal/Consultas/IIC/Fondo.aspx?nif=V81851834 ',\n",
       " 'BANKIA BANCA PRIVADA SELECCIÓN, FI': 'https://www.cnmv.es/portal/Consultas/IIC/Fondo.aspx?nif=V81998478 ',\n",
       " 'BANKIA BOLSA ESPAÑOLA, FI': 'https://www.cnmv.es/portal/Consultas/IIC/Fondo.aspx?nif=V96775994 ',\n",
       " 'BANKIA BOLSA USA, FI': 'https://www.cnmv.es/portal/Consultas/IIC/Fondo.aspx?nif=V81795395 ',\n",
       " 'BANKIA BONOS 24 MESES, FI': 'https://www.cnmv.es/portal/Consultas/IIC/Fondo.aspx?nif=V97288245 ',\n",
       " 'BANKIA BONOS DURACION FLEXIBLE, FI': 'https://www.cnmv.es/portal/Consultas/IIC/Fondo.aspx?nif=V81560559 ',\n",
       " 'BANKIA BONOS INTERNACIONAL, FI': 'https://www.cnmv.es/portal/Consultas/IIC/Fondo.aspx?nif=V82217969 ',\n",
       " 'BANKIA CAUTO DIVIDENDOS, FI': 'https://www.cnmv.es/portal/Consultas/IIC/Fondo.aspx?nif=V88400510 ',\n",
       " 'BANKIA DIVERSIFICACIÓN II, FI': 'https://www.cnmv.es/portal/Consultas/IIC/Fondo.aspx?nif=V88031687 ',\n",
       " 'BANKIA DIVIDENDO ESPAÑA , FI': 'https://www.cnmv.es/portal/Consultas/IIC/Fondo.aspx?nif=V81791063 ',\n",
       " 'BANKIA DIVIDENDO EUROPA, FI': 'https://www.cnmv.es/portal/Consultas/IIC/Fondo.aspx?nif=V58615170 ',\n",
       " 'BANKIA DOLAR, FI': 'https://www.cnmv.es/portal/Consultas/IIC/Fondo.aspx?nif=V82106824 ',\n",
       " 'BANKIA DURACION FLEXIBLE 0-2, FI': 'https://www.cnmv.es/portal/Consultas/IIC/Fondo.aspx?nif=V81483786 ',\n",
       " 'BANKIA EMERGENTES, FI': 'https://www.cnmv.es/portal/Consultas/IIC/Fondo.aspx?nif=V81757825 ',\n",
       " 'BANKIA EURO TOP IDEAS, FI': 'https://www.cnmv.es/portal/Consultas/IIC/Fondo.aspx?nif=V81791055 ',\n",
       " 'BANKIA EVOLUCION SOSTENIBLE 15, FI': 'https://www.cnmv.es/portal/Consultas/IIC/Fondo.aspx?nif=V83565622 ',\n",
       " 'BANKIA EVOLUCION SOSTENIBLE 30, FI': 'https://www.cnmv.es/portal/Consultas/IIC/Fondo.aspx?nif=V84689884 ',\n",
       " 'BANKIA EVOLUCION SOSTENIBLE 60, FI': 'https://www.cnmv.es/portal/Consultas/IIC/Fondo.aspx?nif=V84689934 ',\n",
       " 'BANKIA FONDTESORO LARGO PLAZO, FI': 'https://www.cnmv.es/portal/Consultas/IIC/Fondo.aspx?nif=V79328134 ',\n",
       " 'BANKIA FONDUXO, FI': 'https://www.cnmv.es/portal/Consultas/IIC/Fondo.aspx?nif=V96122734 ',\n",
       " 'BANKIA FUTURO SOSTENIBLE, FI': 'https://www.cnmv.es/portal/Consultas/IIC/Fondo.aspx?nif=V87816294 ',\n",
       " 'BANKIA GESTION ALTERNATIVA, FI': 'https://www.cnmv.es/portal/Consultas/IIC/Fondo.aspx?nif=V87849931 ',\n",
       " 'BANKIA GESTION DE AUTOR, FI': 'https://www.cnmv.es/portal/Consultas/IIC/Fondo.aspx?nif=V87040374 ',\n",
       " 'BANKIA GESTION VALOR, FI': 'https://www.cnmv.es/portal/Consultas/IIC/Fondo.aspx?nif=V87931507 ',\n",
       " 'BANKIA GLOBAL FLEXIBLE, FI': 'https://www.cnmv.es/portal/Consultas/IIC/Fondo.aspx?nif=V87848578 ',\n",
       " 'BANKIA GOBIERNOS EURO LARGO PLAZO, FI': 'https://www.cnmv.es/portal/Consultas/IIC/Fondo.aspx?nif=V81605339 ',\n",
       " 'BANKIA INDEX CLIMA MUNDIAL, FI': 'https://www.cnmv.es/portal/Consultas/IIC/Fondo.aspx?nif=V01748870 ',\n",
       " 'BANKIA INDEX EMERGENTES, FI': 'https://www.cnmv.es/portal/Consultas/IIC/Fondo.aspx?nif=V88627526 ',\n",
       " 'BANKIA INDEX ESPAÑA, FI': 'https://www.cnmv.es/portal/Consultas/IIC/Fondo.aspx?nif=V84245869 ',\n",
       " 'BANKIA INDEX EUROZONA, FI': 'https://www.cnmv.es/portal/Consultas/IIC/Fondo.aspx?nif=V81790453 ',\n",
       " 'BANKIA INDEX JAPON, FI': 'https://www.cnmv.es/portal/Consultas/IIC/Fondo.aspx?nif=V82467952 ',\n",
       " 'BANKIA INDEX RF CORTO, FI': 'https://www.cnmv.es/portal/Consultas/IIC/Fondo.aspx?nif=V88627518 ',\n",
       " 'BANKIA INDEX RF LARGO, FI': 'https://www.cnmv.es/portal/Consultas/IIC/Fondo.aspx?nif=V88627534 ',\n",
       " 'BANKIA INDEX USA CUBIERTO, FI': 'https://www.cnmv.es/portal/Consultas/IIC/Fondo.aspx?nif=V81851867 ',\n",
       " 'BANKIA INDEX USA, FI': 'https://www.cnmv.es/portal/Consultas/IIC/Fondo.aspx?nif=V88627542 ',\n",
       " 'BANKIA MEGATENDENCIAS, FI': 'https://www.cnmv.es/portal/Consultas/IIC/Fondo.aspx?nif=V88410386 ',\n",
       " 'BANKIA MIXTO DIVIDENDOS, FI': 'https://www.cnmv.es/portal/Consultas/IIC/Fondo.aspx?nif=V87135356 ',\n",
       " 'BANKIA MIXTO FUTURO SOSTENIBLE, FI': 'https://www.cnmv.es/portal/Consultas/IIC/Fondo.aspx?nif=V88436407 ',\n",
       " 'BANKIA MIXTO RENTA FIJA 15, FI': 'https://www.cnmv.es/portal/Consultas/IIC/Fondo.aspx?nif=V81362519 ',\n",
       " 'BANKIA MIXTO RENTA FIJA 30, FI': 'https://www.cnmv.es/portal/Consultas/IIC/Fondo.aspx?nif=V81791105 ',\n",
       " 'BANKIA MIXTO RENTA VARIABLE 50, FI': 'https://www.cnmv.es/portal/Consultas/IIC/Fondo.aspx?nif=V81068959 ',\n",
       " 'BANKIA MIXTO RENTA VARIABLE 75, FI': 'https://www.cnmv.es/portal/Consultas/IIC/Fondo.aspx?nif=V82217936 ',\n",
       " 'BANKIA RENTA FIJA CORPORATIVA, FI': 'https://www.cnmv.es/portal/Consultas/IIC/Fondo.aspx?nif=V87982740 ',\n",
       " 'BANKIA RENTA FIJA EURO CP, FI': 'https://www.cnmv.es/portal/Consultas/IIC/Fondo.aspx?nif=V98055783 ',\n",
       " 'BANKIA RENTA FIJA LARGO PLAZO, FI': 'https://www.cnmv.es/portal/Consultas/IIC/Fondo.aspx?nif=V80469737 ',\n",
       " 'BANKIA RENTA VARIABLE GLOBAL, FI': 'https://www.cnmv.es/portal/Consultas/IIC/Fondo.aspx?nif=V82809443 ',\n",
       " 'BANKIA SMALL & MID CAPS ESPAÑA, FI': 'https://www.cnmv.es/portal/Consultas/IIC/Fondo.aspx?nif=V79468401 ',\n",
       " 'BANKIA SOY ASI CAUTO, FI': 'https://www.cnmv.es/portal/Consultas/IIC/Fondo.aspx?nif=V82809419 ',\n",
       " 'BANKIA SOY ASÍ DINAMICO, FI': 'https://www.cnmv.es/portal/Consultas/IIC/Fondo.aspx?nif=V82809435 ',\n",
       " 'BANKIA SOY ASI FLEXIBLE, FI': 'https://www.cnmv.es/portal/Consultas/IIC/Fondo.aspx?nif=V82742099 ',\n",
       " 'BANKINTER AHORRO ACTIVOS EURO, FI': 'https://www.cnmv.es/portal/Consultas/IIC/Fondo.aspx?nif=V81896722 ',\n",
       " 'BANKINTER AHORRO RENTA FIJA, FI': 'https://www.cnmv.es/portal/Consultas/IIC/Fondo.aspx?nif=V81526253 ',\n",
       " 'BANKINTER BOLSA ESPAÑA, FI': 'https://www.cnmv.es/portal/Consultas/IIC/Fondo.aspx?nif=V82145376 ',\n",
       " 'BANKINTER BONOS 2023, FI': 'https://www.cnmv.es/portal/Consultas/IIC/Fondo.aspx?nif=V88340096 ',\n",
       " 'BANKINTER BONOS SOBERANOS LARGO PLAZO, FI': 'https://www.cnmv.es/portal/Consultas/IIC/Fondo.aspx?nif=V84194612 ',\n",
       " 'BANKINTER CAPITAL 1, FI': 'https://www.cnmv.es/portal/Consultas/IIC/Fondo.aspx?nif=V83517979 ',\n",
       " 'BANKINTER CAPITAL 2, FI': 'https://www.cnmv.es/portal/Consultas/IIC/Fondo.aspx?nif=V81896714 ',\n",
       " 'BANKINTER CAPITAL 3, FI': 'https://www.cnmv.es/portal/Consultas/IIC/Fondo.aspx?nif=V83517938 ',\n",
       " 'BANKINTER CAPITAL 4, FI': 'https://www.cnmv.es/portal/Consultas/IIC/Fondo.aspx?nif=V82704370 ',\n",
       " 'BANKINTER CAPITAL PLUS, FI': 'https://www.cnmv.es/portal/Consultas/IIC/Fondo.aspx?nif=V78776648 ',\n",
       " 'BANKINTER DIVIDENDO EUROPA, FI': 'https://www.cnmv.es/portal/Consultas/IIC/Fondo.aspx?nif=V82202482 ',\n",
       " 'BANKINTER EE.UU. NASDAQ 100, FI': 'https://www.cnmv.es/portal/Consultas/IIC/Fondo.aspx?nif=V82907973 ',\n",
       " 'BANKINTER EFICIENCIA ENERGETICA Y MEDIOAMBIENTE, FI': 'https://www.cnmv.es/portal/Consultas/IIC/Fondo.aspx?nif=V82927005 ',\n",
       " 'BANKINTER ETHOS, FI': 'https://www.cnmv.es/portal/Consultas/IIC/Fondo.aspx?nif=V42892141 ',\n",
       " 'BANKINTER EUROPEO INVERSO, FI': 'https://www.cnmv.es/portal/Consultas/IIC/Fondo.aspx?nif=V85569663 ',\n",
       " 'BANKINTER FINANZAS GLOBALES, FI': 'https://www.cnmv.es/portal/Consultas/IIC/Fondo.aspx?nif=V82668260 ',\n",
       " 'BANKINTER FUTURO IBEX, FI': 'https://www.cnmv.es/portal/Consultas/IIC/Fondo.aspx?nif=V81990129 ',\n",
       " 'BANKINTER GESTION ABIERTA, FI': 'https://www.cnmv.es/portal/Consultas/IIC/Fondo.aspx?nif=V78498219 ',\n",
       " 'BANKINTER ÍNDICE AMÉRICA, FI': 'https://www.cnmv.es/portal/Consultas/IIC/Fondo.aspx?nif=V82668492 ',\n",
       " 'BANKINTER INDICE EMERGENTES, FI': 'https://www.cnmv.es/portal/Consultas/IIC/Fondo.aspx?nif=V88007976 ',\n",
       " 'BANKINTER INDICE EUROPEO, FI': 'https://www.cnmv.es/portal/Consultas/IIC/Fondo.aspx?nif=V82668245 ',\n",
       " 'BANKINTER INDICE GLOBAL, FI': 'https://www.cnmv.es/portal/Consultas/IIC/Fondo.aspx?nif=V88039342 ',\n",
       " 'BANKINTER ÍNDICE JAPÓN, FI': 'https://www.cnmv.es/portal/Consultas/IIC/Fondo.aspx?nif=V82668252 ',\n",
       " 'BANKINTER INDICE SALUD, FI': 'https://www.cnmv.es/portal/Consultas/IIC/Fondo.aspx?nif=V02666501 ',\n",
       " 'BANKINTER MEGATENDENCIAS, FI': 'https://www.cnmv.es/portal/Consultas/IIC/Fondo.aspx?nif=V88443205 ',\n",
       " 'BANKINTER MIXTO 20 EUROPA, FI': 'https://www.cnmv.es/portal/Consultas/IIC/Fondo.aspx?nif=V87710158 ',\n",
       " 'BANKINTER MIXTO FLEXIBLE, FI': 'https://www.cnmv.es/portal/Consultas/IIC/Fondo.aspx?nif=V81701641 ',\n",
       " 'BANKINTER MIXTO RENTA FIJA, FI': 'https://www.cnmv.es/portal/Consultas/IIC/Fondo.aspx?nif=V81875668 ',\n",
       " 'BANKINTER MULTIESTRATEGIA, FI': 'https://www.cnmv.es/portal/Consultas/IIC/Fondo.aspx?nif=V80270358 ',\n",
       " 'BANKINTER PEQUEÑAS COMPAÑÍAS EUROPA, FI': 'https://www.cnmv.es/portal/Consultas/IIC/Fondo.aspx?nif=V84303189 ',\n",
       " 'BANKINTER PLATEA AGRESIVO, FI': 'https://www.cnmv.es/portal/Consultas/IIC/Fondo.aspx?nif=V87419040 ',\n",
       " 'BANKINTER PLATEA CONSERVADOR, FI': 'https://www.cnmv.es/portal/Consultas/IIC/Fondo.aspx?nif=V87418034 ',\n",
       " 'BANKINTER PLATEA DEFENSIVO, FI': 'https://www.cnmv.es/portal/Consultas/IIC/Fondo.aspx?nif=V87419032 ',\n",
       " 'BANKINTER PLATEA DINÁMICO, FI': 'https://www.cnmv.es/portal/Consultas/IIC/Fondo.aspx?nif=V87419073 ',\n",
       " 'BANKINTER PLATEA MODERADO, FI': 'https://www.cnmv.es/portal/Consultas/IIC/Fondo.aspx?nif=V87418026 ',\n",
       " 'BANKINTER PREMIUM AGRESIVO, FI': 'https://www.cnmv.es/portal/Consultas/IIC/Fondo.aspx?nif=V87597795 ',\n",
       " 'BANKINTER PREMIUM CONSERVADOR, FI': 'https://www.cnmv.es/portal/Consultas/IIC/Fondo.aspx?nif=V87597779 ',\n",
       " 'BANKINTER PREMIUM DEFENSIVO, FI': 'https://www.cnmv.es/portal/Consultas/IIC/Fondo.aspx?nif=V87597712 ',\n",
       " 'BANKINTER PREMIUM DINAMICO, FI': 'https://www.cnmv.es/portal/Consultas/IIC/Fondo.aspx?nif=V87597753 ',\n",
       " 'BANKINTER PREMIUM MODERADO, FI': 'https://www.cnmv.es/portal/Consultas/IIC/Fondo.aspx?nif=V87597761 ',\n",
       " 'BANKINTER RENTA FIJA LARGO PLAZO, FI': 'https://www.cnmv.es/portal/Consultas/IIC/Fondo.aspx?nif=V81522351 ',\n",
       " 'BANKINTER RENTA VARIABLE EURO, FI': 'https://www.cnmv.es/portal/Consultas/IIC/Fondo.aspx?nif=V81990103 ',\n",
       " 'BANKINTER SOSTENIBILIDAD, FI': 'https://www.cnmv.es/portal/Consultas/IIC/Fondo.aspx?nif=V83794180 ',\n",
       " 'BANKINTER TECNOLOGÍA, FI': 'https://www.cnmv.es/portal/Consultas/IIC/Fondo.aspx?nif=V82349762 ',\n",
       " 'BANKOA AHORRO, FI': 'https://www.cnmv.es/portal/Consultas/IIC/Fondo.aspx?nif=V20512356 ',\n",
       " 'BANKOA BOLSA, FI': 'https://www.cnmv.es/portal/Consultas/IIC/Fondo.aspx?nif=V20594156 ',\n",
       " 'BANKOA BP PRIME CONSERVADOR, FI': 'https://www.cnmv.es/portal/Consultas/IIC/Fondo.aspx?nif=V75171728 ',\n",
       " 'BANKOA HORIZONTE 2026, FI': 'https://www.cnmv.es/portal/Consultas/IIC/Fondo.aspx?nif=V75163410 ',\n",
       " 'BANKOA SELECCIÓN ESTRATEGIA 10 CONSERVADOR,FI': 'https://www.cnmv.es/portal/Consultas/IIC/Fondo.aspx?nif=V75237206 ',\n",
       " 'BANKOA SELECCIÓN ESTRATEGIA 20, FI': 'https://www.cnmv.es/portal/Consultas/IIC/Fondo.aspx?nif=V75131359 ',\n",
       " 'BANKOA SELECCIÓN ESTRATEGIA 50, FI': 'https://www.cnmv.es/portal/Consultas/IIC/Fondo.aspx?nif=V75120105 ',\n",
       " 'BANKOA SELECCIÓN ESTRATEGIA 80, FI': 'https://www.cnmv.es/portal/Consultas/IIC/Fondo.aspx?nif=V20618468 ',\n",
       " 'BANKOA SELECCIÓN ESTRATEGIA ISR, FI': 'https://www.cnmv.es/portal/Consultas/IIC/Fondo.aspx?nif=V80038953 ',\n",
       " 'BANKOA SELECCIÓN FLEXIBLE ISR, FI': 'https://www.cnmv.es/portal/Consultas/IIC/Fondo.aspx?nif=V95377206 ',\n",
       " 'BANKOA SELECCIÓN, FI': 'https://www.cnmv.es/portal/Consultas/IIC/Fondo.aspx?nif=V95326104 ',\n",
       " 'BBVA AHORRO CARTERA, FI': 'https://www.cnmv.es/portal/Consultas/IIC/Fondo.aspx?nif=V87950648 ',\n",
       " 'BBVA AHORRO EMPRESAS, FI': 'https://www.cnmv.es/portal/Consultas/IIC/Fondo.aspx?nif=V83245092 ',\n",
       " 'BBVA BOLSA ASIA MF, FI': 'https://www.cnmv.es/portal/Consultas/IIC/Fondo.aspx?nif=V84195635 ',\n",
       " 'BBVA BOLSA DESARROLLO SOSTENIBLE ISR, FI': 'https://www.cnmv.es/portal/Consultas/IIC/Fondo.aspx?nif=V81816753 ',\n",
       " 'BBVA BOLSA EMERGENTES MF, FI': 'https://www.cnmv.es/portal/Consultas/IIC/Fondo.aspx?nif=V81726184 ',\n",
       " 'BBVA BOLSA EURO, FI': 'https://www.cnmv.es/portal/Consultas/IIC/Fondo.aspx?nif=V81726192 ',\n",
       " 'BBVA BOLSA EUROPA FINANZAS, FI': 'https://www.cnmv.es/portal/Consultas/IIC/Fondo.aspx?nif=V82012329 ',\n",
       " 'BBVA BOLSA EUROPA, FI': 'https://www.cnmv.es/portal/Consultas/IIC/Fondo.aspx?nif=V81659716 ',\n",
       " 'BBVA BOLSA INDICE EURO, FI': 'https://www.cnmv.es/portal/Consultas/IIC/Fondo.aspx?nif=V81767535 ',\n",
       " 'BBVA BOLSA INDICE JAPON (CUBIERTO), FI': 'https://www.cnmv.es/portal/Consultas/IIC/Fondo.aspx?nif=V82096025 ',\n",
       " 'BBVA BOLSA INDICE USA (CUBIERTO), FI': 'https://www.cnmv.es/portal/Consultas/IIC/Fondo.aspx?nif=V84930890 ',\n",
       " 'BBVA BOLSA INDICE, FI': 'https://www.cnmv.es/portal/Consultas/IIC/Fondo.aspx?nif=V81482986 ',\n",
       " 'BBVA BOLSA JAPON, FI': 'https://www.cnmv.es/portal/Consultas/IIC/Fondo.aspx?nif=V82343823 ',\n",
       " 'BBVA BOLSA LATAM, FI': 'https://www.cnmv.es/portal/Consultas/IIC/Fondo.aspx?nif=V81651267 ',\n",
       " 'BBVA BOLSA PLAN DIVIDENDO EUROPA, FI': 'https://www.cnmv.es/portal/Consultas/IIC/Fondo.aspx?nif=V85932242 ',\n",
       " 'BBVA BOLSA PLUS, FI': 'https://www.cnmv.es/portal/Consultas/IIC/Fondo.aspx?nif=V81757817 ',\n",
       " 'BBVA BOLSA TECNOLOGIA Y TELECOMUNICACIONES, FI': 'https://www.cnmv.es/portal/Consultas/IIC/Fondo.aspx?nif=V81828154 ',\n",
       " 'BBVA BOLSA USA (CUBIERTO), FI': 'https://www.cnmv.es/portal/Consultas/IIC/Fondo.aspx?nif=V81513996 ',\n",
       " 'BBVA BOLSA USA, FI': 'https://www.cnmv.es/portal/Consultas/IIC/Fondo.aspx?nif=V81726200 ',\n",
       " 'BBVA BOLSA, FI': 'https://www.cnmv.es/portal/Consultas/IIC/Fondo.aspx?nif=V78822269 ',\n",
       " 'BBVA BONOS 2021, FI': 'https://www.cnmv.es/portal/Consultas/IIC/Fondo.aspx?nif=V86678026 ',\n",
       " 'BBVA BONOS 2024, FI': 'https://www.cnmv.es/portal/Consultas/IIC/Fondo.aspx?nif=V86907615 ',\n",
       " 'BBVA BONOS CORE BP, FI': 'https://www.cnmv.es/portal/Consultas/IIC/Fondo.aspx?nif=V83709170 ',\n",
       " 'BBVA BONOS CORPORATIVOS DURACION CUBIERTA, FI': 'https://www.cnmv.es/portal/Consultas/IIC/Fondo.aspx?nif=V-85885242',\n",
       " 'BBVA BONOS CORPORATIVOS LARGO PLAZO, FI': 'https://www.cnmv.es/portal/Consultas/IIC/Fondo.aspx?nif=V84189737 ',\n",
       " 'BBVA BONOS CP, FI': 'https://www.cnmv.es/portal/Consultas/IIC/Fondo.aspx?nif=V85641868 ',\n",
       " 'BBVA BONOS DOLAR CORTO PLAZO, FI': 'https://www.cnmv.es/portal/Consultas/IIC/Fondo.aspx?nif=V81755241 ',\n",
       " 'BBVA BONOS DURACION FLEXIBLE, FI': 'https://www.cnmv.es/portal/Consultas/IIC/Fondo.aspx?nif=V79497376 ',\n",
       " 'BBVA BONOS DURACION, FI': 'https://www.cnmv.es/portal/Consultas/IIC/Fondo.aspx?nif=V81208290 ',\n",
       " 'BBVA BONOS ESPAÑA LARGO PLAZO, FI': 'https://www.cnmv.es/portal/Consultas/IIC/Fondo.aspx?nif=V86411121 ',\n",
       " 'BBVA BONOS EUSKOFONDO, FI': 'https://www.cnmv.es/portal/Consultas/IIC/Fondo.aspx?nif=V82639899 ',\n",
       " 'BBVA BONOS GOBIERNOS, FI': 'https://www.cnmv.es/portal/Consultas/IIC/Fondo.aspx?nif=V85544369 ',\n",
       " 'BBVA BONOS INTERNACIONAL FLEXIBLE 0-3, FI': 'https://www.cnmv.es/portal/Consultas/IIC/Fondo.aspx?nif=V87211447 ',\n",
       " 'BBVA BONOS INTERNACIONAL FLEXIBLE EURO, FI': 'https://www.cnmv.es/portal/Consultas/IIC/Fondo.aspx?nif=V83409268 ',\n",
       " 'BBVA BONOS INTERNACIONAL FLEXIBLE, FI': 'https://www.cnmv.es/portal/Consultas/IIC/Fondo.aspx?nif=V80421100 ',\n",
       " 'BBVA BONOS PLUS, FI': 'https://www.cnmv.es/portal/Consultas/IIC/Fondo.aspx?nif=V79734406 ',\n",
       " 'BBVA BONOS SOSTENIBLE ISR, FI': 'https://www.cnmv.es/portal/Consultas/IIC/Fondo.aspx?nif=V63104319 ',\n",
       " 'BBVA BONOS VALOR RELATIVO, FI': 'https://www.cnmv.es/portal/Consultas/IIC/Fondo.aspx?nif=V84939545 ',\n",
       " 'BBVA COBERTURA ACTIVA DINAMICO, FI': 'https://www.cnmv.es/portal/Consultas/IIC/Fondo.aspx?nif=V42853895 ',\n",
       " 'BBVA COBERTURA ACTIVA EQUILIBRADO, FI': 'https://www.cnmv.es/portal/Consultas/IIC/Fondo.aspx?nif=V42853846 ',\n",
       " 'BBVA COBERTURA ACTIVA PRUDENTE, FI': 'https://www.cnmv.es/portal/Consultas/IIC/Fondo.aspx?nif=V42853879 ',\n",
       " 'BBVA CONSOLIDACIÓN 85, FI': 'https://www.cnmv.es/portal/Consultas/IIC/Fondo.aspx?nif=V87346235 ',\n",
       " 'BBVA CREDITO EUROPA, FI': 'https://www.cnmv.es/portal/Consultas/IIC/Fondo.aspx?nif=V62868500 ',\n",
       " 'BBVA ESTRATEGIA 0-50, FI': 'https://www.cnmv.es/portal/Consultas/IIC/Fondo.aspx?nif=V87589388 ',\n",
       " 'BBVA FONDTESORO CORTO PLAZO, FI': 'https://www.cnmv.es/portal/Consultas/IIC/Fondo.aspx?nif=V79497384 ',\n",
       " 'BBVA FUSION CORTO PLAZO III, FI': 'https://www.cnmv.es/portal/Consultas/IIC/Fondo.aspx?nif=V87224358 ',\n",
       " 'BBVA FUSION CORTO PLAZO V, FI': 'https://www.cnmv.es/portal/Consultas/IIC/Fondo.aspx?nif=V87313961 ',\n",
       " 'BBVA FUSION CORTO PLAZO VI, FI': 'https://www.cnmv.es/portal/Consultas/IIC/Fondo.aspx?nif=V86141025 ',\n",
       " 'BBVA FUSION CORTO PLAZO VII, FI': 'https://www.cnmv.es/portal/Consultas/IIC/Fondo.aspx?nif=V86136264 ',\n",
       " 'BBVA FUSION CORTO PLAZO, FI': 'https://www.cnmv.es/portal/Consultas/IIC/Fondo.aspx?nif=V86969797 ',\n",
       " 'BBVA FUTURO SOSTENIBLE ISR, FI': 'https://www.cnmv.es/portal/Consultas/IIC/Fondo.aspx?nif=V82360447 ',\n",
       " 'BBVA GESTION CONSERVADORA, FI': 'https://www.cnmv.es/portal/Consultas/IIC/Fondo.aspx?nif=V80940083 ',\n",
       " 'BBVA GESTION DECIDIDA, FI': 'https://www.cnmv.es/portal/Consultas/IIC/Fondo.aspx?nif=V83167452 ',\n",
       " 'BBVA GESTION MODERADA, FI': 'https://www.cnmv.es/portal/Consultas/IIC/Fondo.aspx?nif=V82627555 ',\n",
       " 'BBVA MEJORES IDEAS (CUBIERTO 70), FI': 'https://www.cnmv.es/portal/Consultas/IIC/Fondo.aspx?nif=V83167460 ',\n",
       " 'BBVA MI INVERSION BOLSA ACUMULACION, FI': 'https://www.cnmv.es/portal/Consultas/IIC/Fondo.aspx?nif=V65764581 ',\n",
       " 'BBVA MI INVERSION BOLSA, FI': 'https://www.cnmv.es/portal/Consultas/IIC/Fondo.aspx?nif=V86954104 ',\n",
       " 'BBVA MI INVERSION MIXTA, FI': 'https://www.cnmv.es/portal/Consultas/IIC/Fondo.aspx?nif=V87360723 ',\n",
       " 'BBVA MI INVERSION RF MIXTA, FI': 'https://www.cnmv.es/portal/Consultas/IIC/Fondo.aspx?nif=V87651105 ',\n",
       " 'BBVA MI OBJETIVO 2021, FI': 'https://www.cnmv.es/portal/Consultas/IIC/Fondo.aspx?nif=V87591756 ',\n",
       " 'BBVA MI OBJETIVO 2026, FI': 'https://www.cnmv.es/portal/Consultas/IIC/Fondo.aspx?nif=V87591749 ',\n",
       " 'BBVA MI OBJETIVO 2031, FI': 'https://www.cnmv.es/portal/Consultas/IIC/Fondo.aspx?nif=V87591731 ',\n",
       " 'BBVA RENTABILIDAD AHORRO CORTO PLAZO, FI': 'https://www.cnmv.es/portal/Consultas/IIC/Fondo.aspx?nif=V81623936 ',\n",
       " 'BBVA RETORNO ABSOLUTO, FI': 'https://www.cnmv.es/portal/Consultas/IIC/Fondo.aspx?nif=V83021063 ',\n",
       " 'BEAUFORT INTERNACIONAL, FI': 'https://www.cnmv.es/portal/Consultas/IIC/Fondo.aspx?nif=V88517826 ',\n",
       " 'BEKA INTERNATIONAL SELECT EQUITIES, FI': 'https://www.cnmv.es/portal/Consultas/IIC/Fondo.aspx?nif=V88446810 ',\n",
       " 'BEKA OPTIMA GLOBAL, FI': 'https://www.cnmv.es/portal/Consultas/IIC/Fondo.aspx?nif=V88477294 ',\n",
       " 'BELGRAVIA DELTA,FI': 'https://www.cnmv.es/portal/Consultas/IIC/Fondo.aspx?nif=V87488334 ',\n",
       " 'BELGRAVIA EPSILON, FI': 'https://www.cnmv.es/portal/Consultas/IIC/Fondo.aspx?nif=V83532952 ',\n",
       " 'BEST MANAGER CONSERVADOR, FI': 'https://www.cnmv.es/portal/Consultas/IIC/Fondo.aspx?nif=V83657635 ',\n",
       " 'BEST MANAGER SELECTION,  FI': 'https://www.cnmv.es/portal/Consultas/IIC/Fondo.aspx?nif=V86121514 ',\n",
       " 'BESTINFOND, FI': 'https://www.cnmv.es/portal/Consultas/IIC/Fondo.aspx?nif=V80340219 ',\n",
       " 'BESTINVER BOLSA, FI': 'https://www.cnmv.es/portal/Consultas/IIC/Fondo.aspx?nif=V60519865 ',\n",
       " 'BESTINVER BONOS INSTITUCIONAL, FI': 'https://www.cnmv.es/portal/Consultas/IIC/Fondo.aspx?nif=V88495809 ',\n",
       " 'BESTINVER CORTO PLAZO, FI': 'https://www.cnmv.es/portal/Consultas/IIC/Fondo.aspx?nif=V88113980 ',\n",
       " 'BESTINVER DEUDA CORPORATIVA, FI': 'https://www.cnmv.es/portal/Consultas/IIC/Fondo.aspx?nif=V01616267 ',\n",
       " 'BESTINVER GRANDES COMPAÑÍAS, FI': 'https://www.cnmv.es/portal/Consultas/IIC/Fondo.aspx?nif=V86358835 ',\n",
       " 'BESTINVER INTERNACIONAL, FI': 'https://www.cnmv.es/portal/Consultas/IIC/Fondo.aspx?nif=V81841652 ',\n",
       " 'BESTINVER LATAM, FI': 'https://www.cnmv.es/portal/Consultas/IIC/Fondo.aspx?nif=V88113949 ',\n",
       " 'BESTINVER MEGATENDENCIAS, FI': 'https://www.cnmv.es/portal/Consultas/IIC/Fondo.aspx?nif=V87845566 ',\n",
       " 'BESTINVER MIXTO, FI': 'https://www.cnmv.es/portal/Consultas/IIC/Fondo.aspx?nif=V81750598 ',\n",
       " 'BESTINVER PATRIMONIO, FI': 'https://www.cnmv.es/portal/Consultas/IIC/Fondo.aspx?nif=V82746140 ',\n",
       " 'BESTINVER RENTA, FI': 'https://www.cnmv.es/portal/Consultas/IIC/Fondo.aspx?nif=V81255366 ',\n",
       " 'BINDEX ESPAÑA INDICE, FI': 'https://www.cnmv.es/portal/Consultas/IIC/Fondo.aspx?nif=V87831137 ',\n",
       " 'BINDEX EURO INDICE, FI': 'https://www.cnmv.es/portal/Consultas/IIC/Fondo.aspx?nif=V87831103 ',\n",
       " 'BINDEX EUROPA INDICE, FI': 'https://www.cnmv.es/portal/Consultas/IIC/Fondo.aspx?nif=V87831129 ',\n",
       " 'BINDEX IXESG GLOBAL LEADERS INDICE, FI': 'https://www.cnmv.es/portal/Consultas/IIC/Fondo.aspx?nif=V42776989 ',\n",
       " 'BINDEX USA INDICE (CUBIERTO), FI': 'https://www.cnmv.es/portal/Consultas/IIC/Fondo.aspx?nif=V87831095 ',\n",
       " 'BINDEX USA INDICE, FI': 'https://www.cnmv.es/portal/Consultas/IIC/Fondo.aspx?nif=V87932505 ',\n",
       " 'BISSAN, FI': 'https://www.cnmv.es/portal/Consultas/IIC/Fondo.aspx?nif=V02929370 ',\n",
       " 'BITACORA RENTA VARIABLE, FI': 'https://www.cnmv.es/portal/Consultas/IIC/Fondo.aspx?nif=V87786281 ',\n",
       " 'BLUENOTE GLOBAL EQUITY, FI': 'https://www.cnmv.es/portal/Consultas/IIC/Fondo.aspx?nif=V87113718 ',\n",
       " 'BNP PARIBAS CAAP DINAMICO, FI': 'https://www.cnmv.es/portal/Consultas/IIC/Fondo.aspx?nif=V81577538 ',\n",
       " 'BNP PARIBAS CAAP EQUILIBRADO, FI': 'https://www.cnmv.es/portal/Consultas/IIC/Fondo.aspx?nif=V81050007 ',\n",
       " 'BNP PARIBAS CAAP MODERADO, FI': 'https://www.cnmv.es/portal/Consultas/IIC/Fondo.aspx?nif=V81049991 ',\n",
       " 'BNP PARIBAS FLEXIBLE MAX 30, FI': 'https://www.cnmv.es/portal/Consultas/IIC/Fondo.aspx?nif=V82161365 ',\n",
       " 'BNP PARIBAS GLOBAL ASSET ALLOCATION, FI': 'https://www.cnmv.es/portal/Consultas/IIC/Fondo.aspx?nif=V81960569 ',\n",
       " 'BNP PARIBAS GLOBAL DINVER, FI': 'https://www.cnmv.es/portal/Consultas/IIC/Fondo.aspx?nif=V80057961 ',\n",
       " 'BNP PARIBAS PORTFOLIO MAX 25, FI': 'https://www.cnmv.es/portal/Consultas/IIC/Fondo.aspx?nif=V82591157 ',\n",
       " 'BNP PARIBAS PORTFOLIO MAX 30, FI': 'https://www.cnmv.es/portal/Consultas/IIC/Fondo.aspx?nif=V82053059 ',\n",
       " 'BNP PARIBAS PORTFOLIO MAX 45, FI': 'https://www.cnmv.es/portal/Consultas/IIC/Fondo.aspx?nif=V81218596 ',\n",
       " 'BNP PARIBAS PORTFOLIO MAX 65, FI': 'https://www.cnmv.es/portal/Consultas/IIC/Fondo.aspx?nif=V81663973 ',\n",
       " 'BNP PARIBAS RENTA FIJA MIXTA GLOBAL, FI': 'https://www.cnmv.es/portal/Consultas/IIC/Fondo.aspx?nif=V82053034 ',\n",
       " 'BNP PARIBAS RENTA FIJA, FI': 'https://www.cnmv.es/portal/Consultas/IIC/Fondo.aspx?nif=V81577520 ',\n",
       " 'BONA-RENDA, FI': 'https://www.cnmv.es/portal/Consultas/IIC/Fondo.aspx?nif=V61009932 ',\n",
       " 'BOREAS CARTERA CRECIMIENTO, FI': 'https://www.cnmv.es/portal/Consultas/IIC/Fondo.aspx?nif=V85114205 ',\n",
       " 'BOWCAPITAL GLOBAL FUND, FI': 'https://www.cnmv.es/portal/Consultas/IIC/Fondo.aspx?nif=V64780109 ',\n",
       " 'BRIGHTGATE FOCUS, FI': 'https://www.cnmv.es/portal/Consultas/IIC/Fondo.aspx?nif=V85664902 ',\n",
       " 'BSG PROMETEO, FI': 'https://www.cnmv.es/portal/Consultas/IIC/Fondo.aspx?nif=V86266335 ',\n",
       " 'BULNES GLOBAL, FI': 'https://www.cnmv.es/portal/Consultas/IIC/Fondo.aspx?nif=V02753879 ',\n",
       " 'CAIXABANK AHORRO, FI': 'https://www.cnmv.es/portal/Consultas/IIC/Fondo.aspx?nif=V78600921 ',\n",
       " 'CAIXABANK BOLSA ALL CAPS ESPAÑA, FI': 'https://www.cnmv.es/portal/Consultas/IIC/Fondo.aspx?nif=V82619065 ',\n",
       " 'CAIXABANK BOLSA DIVIDENDO EUROPA, FI': 'https://www.cnmv.es/portal/Consultas/IIC/Fondo.aspx?nif=V63760946 ',\n",
       " 'CAIXABANK BOLSA GESTION ESPAÑA, FI': 'https://www.cnmv.es/portal/Consultas/IIC/Fondo.aspx?nif=V79196168 ',\n",
       " 'CAIXABANK BOLSA GESTION EURO, FI': 'https://www.cnmv.es/portal/Consultas/IIC/Fondo.aspx?nif=V80929193 ',\n",
       " 'CAIXABANK BOLSA GESTION EUROPA, FI': 'https://www.cnmv.es/portal/Consultas/IIC/Fondo.aspx?nif=V64103484 ',\n",
       " 'CAIXABANK BOLSA INDICE ESPAÑA, FI': 'https://www.cnmv.es/portal/Consultas/IIC/Fondo.aspx?nif=V82379751 ',\n",
       " 'CAIXABANK BOLSA INDICE EURO, FI': 'https://www.cnmv.es/portal/Consultas/IIC/Fondo.aspx?nif=V58224353 ',\n",
       " 'CAIXABANK BOLSA SELECCION ASIA, FI': 'https://www.cnmv.es/portal/Consultas/IIC/Fondo.aspx?nif=V64041163 ',\n",
       " 'CAIXABANK BOLSA SELECCION EMERGENTES, FI': 'https://www.cnmv.es/portal/Consultas/IIC/Fondo.aspx?nif=V82607771 ',\n",
       " 'CAIXABANK BOLSA SELECCION EUROPA, FI': 'https://www.cnmv.es/portal/Consultas/IIC/Fondo.aspx?nif=V62614599 ',\n",
       " 'CAIXABANK BOLSA SELECCION GLOBAL, FI': 'https://www.cnmv.es/portal/Consultas/IIC/Fondo.aspx?nif=V62613880 ',\n",
       " 'CAIXABANK BOLSA SELECCION JAPON, FI': 'https://www.cnmv.es/portal/Consultas/IIC/Fondo.aspx?nif=V82104381 ',\n",
       " 'CAIXABANK BOLSA SELECCION USA, FI': 'https://www.cnmv.es/portal/Consultas/IIC/Fondo.aspx?nif=V62614516 ',\n",
       " 'CAIXABANK BOLSA USA DIVISA CUBIERTA, FI': 'https://www.cnmv.es/portal/Consultas/IIC/Fondo.aspx?nif=V66198227 ',\n",
       " 'CAIXABANK BOLSA USA, FI': 'https://www.cnmv.es/portal/Consultas/IIC/Fondo.aspx?nif=V82100553 ',\n",
       " 'CAIXABANK BONOS FLOTANTES 2022, FI': 'https://www.cnmv.es/portal/Consultas/IIC/Fondo.aspx?nif=V87947693 ',\n",
       " 'CAIXABANK BONOS SUBORDINADOS, FI': 'https://www.cnmv.es/portal/Consultas/IIC/Fondo.aspx?nif=V01773456 ',\n",
       " 'CAIXABANK COMUNICACION MUNDIAL, FI': 'https://www.cnmv.es/portal/Consultas/IIC/Fondo.aspx?nif=V61329264 ',\n",
       " 'CAIXABANK CRECIMIENTO, FI': 'https://www.cnmv.es/portal/Consultas/IIC/Fondo.aspx?nif=V84583947 ',\n",
       " 'CAIXABANK DESTINO 2022, FI': 'https://www.cnmv.es/portal/Consultas/IIC/Fondo.aspx?nif=V66674920 ',\n",
       " 'CAIXABANK DESTINO 2026, FI': 'https://www.cnmv.es/portal/Consultas/IIC/Fondo.aspx?nif=V88426226 ',\n",
       " 'CAIXABANK DESTINO 2030, FI': 'https://www.cnmv.es/portal/Consultas/IIC/Fondo.aspx?nif=V66675018 ',\n",
       " 'CAIXABANK DESTINO 2040, FI': 'https://www.cnmv.es/portal/Consultas/IIC/Fondo.aspx?nif=V66674953 ',\n",
       " 'CAIXABANK DESTINO 2050, FI': 'https://www.cnmv.es/portal/Consultas/IIC/Fondo.aspx?nif=V66674979 ',\n",
       " 'CAIXABANK DIVERSIFICADO DINAMICO, FI': 'https://www.cnmv.es/portal/Consultas/IIC/Fondo.aspx?nif=V82607789 ',\n",
       " 'CAIXABANK ESPAÑA RENTA FIJA 2022, FI': 'https://www.cnmv.es/portal/Consultas/IIC/Fondo.aspx?nif=V82757964 ',\n",
       " 'CAIXABANK ESTRATEGIA FLEXIBLE, FI': 'https://www.cnmv.es/portal/Consultas/IIC/Fondo.aspx?nif=V66435686 ',\n",
       " 'CAIXABANK EVOLUCION, FI': 'https://www.cnmv.es/portal/Consultas/IIC/Fondo.aspx?nif=V83050526 ',\n",
       " 'CAIXABANK GESTION 30, FI': 'https://www.cnmv.es/portal/Consultas/IIC/Fondo.aspx?nif=V83086769 ',\n",
       " 'CAIXABANK GESTION 60, FI': 'https://www.cnmv.es/portal/Consultas/IIC/Fondo.aspx?nif=V83086728 ',\n",
       " 'CAIXABANK GESTION TOTAL, FI': 'https://www.cnmv.es/portal/Consultas/IIC/Fondo.aspx?nif=V82717778 ',\n",
       " 'CAIXABANK INTERES 4, FI': 'https://www.cnmv.es/portal/Consultas/IIC/Fondo.aspx?nif=V66241787 ',\n",
       " 'CAIXABANK ITER, FI': 'https://www.cnmv.es/portal/Consultas/IIC/Fondo.aspx?nif=V-65223489',\n",
       " 'CAIXABANK MASTER GESTION ALTERNATIVA, FI': 'https://www.cnmv.es/portal/Consultas/IIC/Fondo.aspx?nif=V88394424 ',\n",
       " 'CAIXABANK MASTER RENTA FIJA ADVISED BY, FI': 'https://www.cnmv.es/portal/Consultas/IIC/Fondo.aspx?nif=V88395561 ',\n",
       " 'CAIXABANK MASTER RENTA FIJA CORTO PLAZO, FI': 'https://www.cnmv.es/portal/Consultas/IIC/Fondo.aspx?nif=V88395280 ',\n",
       " 'CAIXABANK MASTER RENTA FIJA DEUDA PUBLICA 1-3 ADVISED BY, FI': 'https://www.cnmv.es/portal/Consultas/IIC/Fondo.aspx?nif=V88394390 ',\n",
       " 'CAIXABANK MASTER RENTA FIJA DEUDA PUBLICA 3-7, FI': 'https://www.cnmv.es/portal/Consultas/IIC/Fondo.aspx?nif=V88394374 ',\n",
       " 'CAIXABANK MASTER RENTA FIJA PRIVADA EURO, FI': 'https://www.cnmv.es/portal/Consultas/IIC/Fondo.aspx?nif=V88395538 ',\n",
       " 'CAIXABANK MASTER RENTA VARIABLE EMERGENTE ADVISED BY, FI': 'https://www.cnmv.es/portal/Consultas/IIC/Fondo.aspx?nif=V88393475 ',\n",
       " 'CAIXABANK MASTER RENTA VARIABLE ESPAÑA, FI': 'https://www.cnmv.es/portal/Consultas/IIC/Fondo.aspx?nif=V88393442 ',\n",
       " 'CAIXABANK MASTER RENTA VARIABLE EUROPA, FI': 'https://www.cnmv.es/portal/Consultas/IIC/Fondo.aspx?nif=V88393483 ',\n",
       " 'CAIXABANK MASTER RENTA VARIABLE JAPON ADVISED BY, FI': 'https://www.cnmv.es/portal/Consultas/IIC/Fondo.aspx?nif=V88393426 ',\n",
       " 'CAIXABANK MASTER RENTA VARIABLE USA ADVISED BY, FI': 'https://www.cnmv.es/portal/Consultas/IIC/Fondo.aspx?nif=V88395520 ',\n",
       " 'CAIXABANK MASTER RETORNO ABSOLUTO, FI': 'https://www.cnmv.es/portal/Consultas/IIC/Fondo.aspx?nif=V88394358 ',\n",
       " 'CAIXABANK MONETARIO RENDIMIENTO, FI': 'https://www.cnmv.es/portal/Consultas/IIC/Fondo.aspx?nif=V63050835 ',\n",
       " 'CAIXABANK MULTISALUD, FI': 'https://www.cnmv.es/portal/Consultas/IIC/Fondo.aspx?nif=V61690376 ',\n",
       " 'CAIXABANK OPORTUNIDAD, FI': 'https://www.cnmv.es/portal/Consultas/IIC/Fondo.aspx?nif=V82903212 ',\n",
       " 'CAIXABANK RENTA FIJA ALTA CALIDAD CREDITICIA, FI': 'https://www.cnmv.es/portal/Consultas/IIC/Fondo.aspx?nif=V62039862 ',\n",
       " 'CAIXABANK RENTA FIJA CORPORATIVA DURACION CUBIERTA, FI': 'https://www.cnmv.es/portal/Consultas/IIC/Fondo.aspx?nif=V63715221 ',\n",
       " 'CAIXABANK RENTA FIJA CORPORATIVA, FI': 'https://www.cnmv.es/portal/Consultas/IIC/Fondo.aspx?nif=V64062276 ',\n",
       " 'CAIXABANK RENTA FIJA DOLAR, FI': 'https://www.cnmv.es/portal/Consultas/IIC/Fondo.aspx?nif=V08694416 ',\n",
       " 'CAIXABANK RENTA FIJA ENERO 2026, FI': 'https://www.cnmv.es/portal/Consultas/IIC/Fondo.aspx?nif=V88626544 ',\n",
       " 'CAIXABANK RENTA FIJA FLEXIBLE, FI': 'https://www.cnmv.es/portal/Consultas/IIC/Fondo.aspx?nif=V82815614 ',\n",
       " 'CAIXABANK RENTA FIJA SELECCION GLOBAL, FI': 'https://www.cnmv.es/portal/Consultas/IIC/Fondo.aspx?nif=V83086751 ',\n",
       " 'CAIXABANK RENTA FIJA SUBORDINADA, FI': 'https://www.cnmv.es/portal/Consultas/IIC/Fondo.aspx?nif=V66747247 ',\n",
       " 'CAIXABANK RF DURACION NEGATIVA, FI': 'https://www.cnmv.es/portal/Consultas/IIC/Fondo.aspx?nif=V66907411 ',\n",
       " 'CAIXABANK SELECCION ALTERNATIVA, FI': 'https://www.cnmv.es/portal/Consultas/IIC/Fondo.aspx?nif=V66670449 ',\n",
       " 'CAIXABANK SELECCION FUTURO SOSTENIBLE, FI': 'https://www.cnmv.es/portal/Consultas/IIC/Fondo.aspx?nif=V63738215 ',\n",
       " 'CAIXABANK SELECCION RETORNO ABSOLUTO, FI': 'https://www.cnmv.es/portal/Consultas/IIC/Fondo.aspx?nif=V63946172 ',\n",
       " 'CAIXABANK SELECCION TENDENCIAS, FI': 'https://www.cnmv.es/portal/Consultas/IIC/Fondo.aspx?nif=V65920753 ',\n",
       " 'CAIXABANK SMART RENTA FIJA CORTO PLAZO, FI': 'https://www.cnmv.es/portal/Consultas/IIC/Fondo.aspx?nif=V87961579 ',\n",
       " 'CAIXABANK SMART RENTA FIJA DEUDA PUBLICA 1-3, FI': 'https://www.cnmv.es/portal/Consultas/IIC/Fondo.aspx?nif=V88581061 ',\n",
       " 'CAIXABANK SMART RENTA FIJA DEUDA PUBLICA 7-10, FI': 'https://www.cnmv.es/portal/Consultas/IIC/Fondo.aspx?nif=V87961587 ',\n",
       " 'CAIXABANK SMART RENTA FIJA EMERGENTE, FI': 'https://www.cnmv.es/portal/Consultas/IIC/Fondo.aspx?nif=V87962809 ',\n",
       " 'CAIXABANK SMART RENTA FIJA HIGH YIELD, FI': 'https://www.cnmv.es/portal/Consultas/IIC/Fondo.aspx?nif=V87962742 ',\n",
       " 'CAIXABANK SMART RENTA FIJA INFLACION, FI': 'https://www.cnmv.es/portal/Consultas/IIC/Fondo.aspx?nif=V87961553 ',\n",
       " 'CAIXABANK SMART RENTA FIJA PRIVADA, FI': 'https://www.cnmv.es/portal/Consultas/IIC/Fondo.aspx?nif=V87962833 ',\n",
       " 'CAIXABANK SMART RENTA VARIABLE EMERGENTE, FI': 'https://www.cnmv.es/portal/Consultas/IIC/Fondo.aspx?nif=V87962817 ',\n",
       " 'CAIXABANK SMART RENTA VARIABLE EUROPA, FI': 'https://www.cnmv.es/portal/Consultas/IIC/Fondo.aspx?nif=V87961488 ',\n",
       " 'CAIXABANK SMART RENTA VARIABLE JAPON, FI': 'https://www.cnmv.es/portal/Consultas/IIC/Fondo.aspx?nif=V87961538 ',\n",
       " 'CAIXABANK SMART RENTA VARIABLE USA, FI': 'https://www.cnmv.es/portal/Consultas/IIC/Fondo.aspx?nif=V87961512 ',\n",
       " 'CAIXABANK TARGET 2021, FI': 'https://www.cnmv.es/portal/Consultas/IIC/Fondo.aspx?nif=V88017223 ',\n",
       " 'CAJA INGENIEROS BOLSA EURO PLUS, FI': 'https://www.cnmv.es/portal/Consultas/IIC/Fondo.aspx?nif=V48972202 ',\n",
       " 'CAJA INGENIEROS BOLSA USA, FI': 'https://www.cnmv.es/portal/Consultas/IIC/Fondo.aspx?nif=V63606024 ',\n",
       " 'CAJA INGENIEROS EMERGENTES, FI': 'https://www.cnmv.es/portal/Consultas/IIC/Fondo.aspx?nif=V63576847 ',\n",
       " 'CAJA INGENIEROS ENVIRONMENT ISR, FI': 'https://www.cnmv.es/portal/Consultas/IIC/Fondo.aspx?nif=V66938481 ',\n",
       " 'CAJA INGENIEROS FONDTESORO CORTO PLAZO, FI': 'https://www.cnmv.es/portal/Consultas/IIC/Fondo.aspx?nif=V48716062 ',\n",
       " 'CAJA INGENIEROS GESTION ALTERNATIVA, FI': 'https://www.cnmv.es/portal/Consultas/IIC/Fondo.aspx?nif=V63484489 ',\n",
       " 'CAJA INGENIEROS GESTION DINAMICA, FI': 'https://www.cnmv.es/portal/Consultas/IIC/Fondo.aspx?nif=V65436941 ',\n",
       " 'CAJA INGENIEROS GLOBAL, FI': 'https://www.cnmv.es/portal/Consultas/IIC/Fondo.aspx?nif=V95024501 ',\n",
       " 'CAJA INGENIEROS IBERIAN EQUITY, FI': 'https://www.cnmv.es/portal/Consultas/IIC/Fondo.aspx?nif=V63885073 ',\n",
       " 'CAJA INGENIEROS PREMIER, FI': 'https://www.cnmv.es/portal/Consultas/IIC/Fondo.aspx?nif=V63193569 ',\n",
       " 'CAJA INGENIEROS RENTA, FI': 'https://www.cnmv.es/portal/Consultas/IIC/Fondo.aspx?nif=V48641013 ',\n",
       " 'CAJA LABORAL PATRIMONIO, FI': 'https://www.cnmv.es/portal/Consultas/IIC/Fondo.aspx?nif=V20476024 ',\n",
       " 'CALIOPE, FI': 'https://www.cnmv.es/portal/Consultas/IIC/Fondo.aspx?nif=V67047084 ',\n",
       " 'CARTERA NARANJA 10/90, FI': 'https://www.cnmv.es/portal/Consultas/IIC/Fondo.aspx?nif=V88146865 ',\n",
       " 'CARTERA NARANJA 20/80, FI': 'https://www.cnmv.es/portal/Consultas/IIC/Fondo.aspx?nif=V88146873 ',\n",
       " 'CARTERA NARANJA 30/70, FI': 'https://www.cnmv.es/portal/Consultas/IIC/Fondo.aspx?nif=V88146857 ',\n",
       " 'CARTERA NARANJA 40/60, FI': 'https://www.cnmv.es/portal/Consultas/IIC/Fondo.aspx?nif=V88146816 ',\n",
       " 'CARTERA NARANJA 50/50, FI': 'https://www.cnmv.es/portal/Consultas/IIC/Fondo.aspx?nif=V88146824 ',\n",
       " 'CARTERA NARANJA 75/25, FI': 'https://www.cnmv.es/portal/Consultas/IIC/Fondo.aspx?nif=V88146840 ',\n",
       " 'CARTERA NARANJA 90, FI': 'https://www.cnmv.es/portal/Consultas/IIC/Fondo.aspx?nif=V88146790 ',\n",
       " 'CARTESIO X, FI': 'https://www.cnmv.es/portal/Consultas/IIC/Fondo.aspx?nif=V83908970 ',\n",
       " 'CARTESIO Y, FI': 'https://www.cnmv.es/portal/Consultas/IIC/Fondo.aspx?nif=V83908582 ',\n",
       " 'CATALANA OCCIDENTE BOLSA ESPAÑOLA, FI': 'https://www.cnmv.es/portal/Consultas/IIC/Fondo.aspx?nif=V63076509 ',\n",
       " 'CATALANA OCCIDENTE BOLSA MUNDIAL, FI': 'https://www.cnmv.es/portal/Consultas/IIC/Fondo.aspx?nif=V64477524 ',\n",
       " 'CATALANA OCCIDENTE EMERGENTES, FI': 'https://www.cnmv.es/portal/Consultas/IIC/Fondo.aspx?nif=V66549346 ',\n",
       " 'CATALANA OCCIDENTE PATRIMONIO, FI': 'https://www.cnmv.es/portal/Consultas/IIC/Fondo.aspx?nif=V63076483 ',\n",
       " 'CATALANA OCCIDENTE RENTA FIJA, FI': 'https://www.cnmv.es/portal/Consultas/IIC/Fondo.aspx?nif=V63076491 ',\n",
       " 'CdE ODS Impact ISR, FI': 'https://www.cnmv.es/portal/Consultas/IIC/Fondo.aspx?nif=V65234239 ',\n",
       " 'CERVINO GLOBAL EQUITIES, F.I.': 'https://www.cnmv.es/portal/Consultas/IIC/Fondo.aspx?nif=V01914118 ',\n",
       " 'COBAS GRANDES COMPAÑIAS, FI': 'https://www.cnmv.es/portal/Consultas/IIC/Fondo.aspx?nif=V87758249 ',\n",
       " 'COBAS IBERIA, FI': 'https://www.cnmv.es/portal/Consultas/IIC/Fondo.aspx?nif=V87758397 ',\n",
       " 'COBAS INTERNACIONAL, FI': 'https://www.cnmv.es/portal/Consultas/IIC/Fondo.aspx?nif=V87758306 ',\n",
       " 'COBAS RENTA, FI': 'https://www.cnmv.es/portal/Consultas/IIC/Fondo.aspx?nif=V87758447 ',\n",
       " 'COBAS SELECCION, FI': 'https://www.cnmv.es/portal/Consultas/IIC/Fondo.aspx?nif=V87647368 ',\n",
       " 'CODEX GLOBAL FUND, FI': 'https://www.cnmv.es/portal/Consultas/IIC/Fondo.aspx?nif=V88644323 ',\n",
       " 'COMPAS EQUILIBRADO, FI': 'https://www.cnmv.es/portal/Consultas/IIC/Fondo.aspx?nif=V87218194 ',\n",
       " 'COMPROMISO MEDIOLANUM, FI': 'https://www.cnmv.es/portal/Consultas/IIC/Fondo.aspx?nif=V66783341 ',\n",
       " 'CONCIENCIA ETICA, FI': 'https://www.cnmv.es/portal/Consultas/IIC/Fondo.aspx?nif=V02700128 ',\n",
       " 'COSMOS EQUITY TRENDS, FI': 'https://www.cnmv.es/portal/Consultas/IIC/Fondo.aspx?nif=V88291851 ',\n",
       " 'CREAND ACCIONES, FI': 'https://www.cnmv.es/portal/Consultas/IIC/Fondo.aspx?nif=V80057284 ',\n",
       " 'CREAND GESTION FLEXIBLE SOSTENIBLE, FI': 'https://www.cnmv.es/portal/Consultas/IIC/Fondo.aspx?nif=V87263802 ',\n",
       " 'CREAND GLOBAL, FI': 'https://www.cnmv.es/portal/Consultas/IIC/Fondo.aspx?nif=V81768061 ',\n",
       " 'CREAND INSTITUCIONAL, FI': 'https://www.cnmv.es/portal/Consultas/IIC/Fondo.aspx?nif=V65143661 ',\n",
       " 'CREDIT SUISSE BOLSA, FI': 'https://www.cnmv.es/portal/Consultas/IIC/Fondo.aspx?nif=V81858060 ',\n",
       " 'CREDIT SUISSE EQUITY YIELD, FI': 'https://www.cnmv.es/portal/Consultas/IIC/Fondo.aspx?nif=V84113620 ',\n",
       " 'CS CORTO PLAZO, FI': 'https://www.cnmv.es/portal/Consultas/IIC/Fondo.aspx?nif=V80077902 ',\n",
       " 'CS DIRECTOR BOND FOCUS, FI': 'https://www.cnmv.es/portal/Consultas/IIC/Fondo.aspx?nif=V61635637 ',\n",
       " 'CS DIRECTOR FLEXIBLE, FI': 'https://www.cnmv.es/portal/Consultas/IIC/Fondo.aspx?nif=V84330224 ',\n",
       " 'CS DIRECTOR GROWTH, FI': 'https://www.cnmv.es/portal/Consultas/IIC/Fondo.aspx?nif=V58499625 ',\n",
       " 'CS DIRECTOR INCOME, FI': 'https://www.cnmv.es/portal/Consultas/IIC/Fondo.aspx?nif=V83113258 ',\n",
       " 'CS DURACION 0-2, FI': 'https://www.cnmv.es/portal/Consultas/IIC/Fondo.aspx?nif=V60280807 ',\n",
       " 'CS EUROPE SMALL & MID CAP, FI': 'https://www.cnmv.es/portal/Consultas/IIC/Fondo.aspx?nif=V80043193 ',\n",
       " 'CS FAMILY BUSINESS, FI': 'https://www.cnmv.es/portal/Consultas/IIC/Fondo.aspx?nif=V61914859 ',\n",
       " 'CS GLOBAL FONDOS GESTION ACTIVA, FI': 'https://www.cnmv.es/portal/Consultas/IIC/Fondo.aspx?nif=V84270412 ',\n",
       " 'CS GLOBAL MARKET TRENDS, FI': 'https://www.cnmv.es/portal/Consultas/IIC/Fondo.aspx?nif=V87506473 ',\n",
       " 'CS HYBRID AND SUBORDINATED DEBT, FI': 'https://www.cnmv.es/portal/Consultas/IIC/Fondo.aspx?nif=V87582581 ',\n",
       " 'CS RENTA FIJA 0-5, FI': 'https://www.cnmv.es/portal/Consultas/IIC/Fondo.aspx?nif=V81858037 ',\n",
       " 'CUASAR OPTIMAL YIELD, FI': 'https://www.cnmv.es/portal/Consultas/IIC/Fondo.aspx?nif=V02826709 ',\n",
       " 'DALMATIAN, FI': 'https://www.cnmv.es/portal/Consultas/IIC/Fondo.aspx?nif=V82530197 ',\n",
       " 'DB TALENTO BOLSA GLOBAL, FI': 'https://www.cnmv.es/portal/Consultas/IIC/Fondo.aspx?nif=V87194411 ',\n",
       " 'DEEP VALUE INTERNATIONAL, FI': 'https://www.cnmv.es/portal/Consultas/IIC/Fondo.aspx?nif=V66412131 ',\n",
       " 'DEUTSCHE WEALTH CONSERVADOR, F.I.': 'https://www.cnmv.es/portal/Consultas/IIC/Fondo.aspx?nif=V81755472 ',\n",
       " 'DEUTSCHE WEALTH CRECIMIENTO, F.I.': 'https://www.cnmv.es/portal/Consultas/IIC/Fondo.aspx?nif=V82034885 ',\n",
       " 'DEUTSCHE WEALTH MODERADO, FI': 'https://www.cnmv.es/portal/Consultas/IIC/Fondo.aspx?nif=V87034468 ',\n",
       " 'DEUTSCHE WEALTH SOSTENIBLE, FI': 'https://www.cnmv.es/portal/Consultas/IIC/Fondo.aspx?nif=V86997350 ',\n",
       " 'DIAGONAL MIXTO FLEXIBLE, FI': 'https://www.cnmv.es/portal/Consultas/IIC/Fondo.aspx?nif=V87457909 ',\n",
       " 'DP AHORRO F.I.': 'https://www.cnmv.es/portal/Consultas/IIC/Fondo.aspx?nif=V64425523 ',\n",
       " 'DP BOLSA ESPAÑOLA FI': 'https://www.cnmv.es/portal/Consultas/IIC/Fondo.aspx?nif=V64599236 ',\n",
       " 'DP FLEXIBLE GLOBAL FI': 'https://www.cnmv.es/portal/Consultas/IIC/Fondo.aspx?nif=V60070190 ',\n",
       " 'DP FONDOS RV GLOBAL FI': 'https://www.cnmv.es/portal/Consultas/IIC/Fondo.aspx?nif=V64307911 ',\n",
       " 'DP FONGLOBAL FI': 'https://www.cnmv.es/portal/Consultas/IIC/Fondo.aspx?nif=V60094075 ',\n",
       " 'DP FONSELECCION FI': 'https://www.cnmv.es/portal/Consultas/IIC/Fondo.aspx?nif=V63580427 ',\n",
       " 'DP HEALTHCARE FI': 'https://www.cnmv.es/portal/Consultas/IIC/Fondo.aspx?nif=V65765158 ',\n",
       " 'DP MIXTO RV FI': 'https://www.cnmv.es/portal/Consultas/IIC/Fondo.aspx?nif=V67305995 ',\n",
       " 'DP RENTA FIJA FI': 'https://www.cnmv.es/portal/Consultas/IIC/Fondo.aspx?nif=V59506998 ',\n",
       " 'DUNAS SELECCION EUROPA, FI': 'https://www.cnmv.es/portal/Consultas/IIC/Fondo.aspx?nif=V81593899 ',\n",
       " 'DUNAS SELECCION USA CUBIERTO, FI': 'https://www.cnmv.es/portal/Consultas/IIC/Fondo.aspx?nif=V86874468 ',\n",
       " 'DUNAS VALOR EQUILIBRIO FI': 'https://www.cnmv.es/portal/Consultas/IIC/Fondo.aspx?nif=V86179363 ',\n",
       " 'DUNAS VALOR FLEXIBLE FI': 'https://www.cnmv.es/portal/Consultas/IIC/Fondo.aspx?nif=V86494960 ',\n",
       " 'DUNAS VALOR PRUDENTE FI': 'https://www.cnmv.es/portal/Consultas/IIC/Fondo.aspx?nif=V78642840 ',\n",
       " 'DUX INTERNATIONAL STRATEGY, FI': 'https://www.cnmv.es/portal/Consultas/IIC/Fondo.aspx?nif=V85956290 ',\n",
       " 'DUX MIXTO MODERADO, FI': 'https://www.cnmv.es/portal/Consultas/IIC/Fondo.aspx?nif=V87811030 ',\n",
       " 'DUX MIXTO VARIABLE, FI': 'https://www.cnmv.es/portal/Consultas/IIC/Fondo.aspx?nif=V85439495 ',\n",
       " 'DUX MULTIGESTIÓN, FI': 'https://www.cnmv.es/portal/Consultas/IIC/Fondo.aspx?nif=V87352803 ',\n",
       " 'DUX RENTA VARIABLE EURO, FI': 'https://www.cnmv.es/portal/Consultas/IIC/Fondo.aspx?nif=V84355841 ',\n",
       " 'DUX RENTINVER RENTA FIJA, FI': 'https://www.cnmv.es/portal/Consultas/IIC/Fondo.aspx?nif=V84355817 ',\n",
       " 'DUX UMBRELLA, FI': 'https://www.cnmv.es/portal/Consultas/IIC/Fondo.aspx?nif=V88056783 ',\n",
       " 'DWS FONCREATIVO, FI': 'https://www.cnmv.es/portal/Consultas/IIC/Fondo.aspx?nif=V82056201 ',\n",
       " 'EBN SINYCON VALOR, FI': 'https://www.cnmv.es/portal/Consultas/IIC/Fondo.aspx?nif=V88140538 ',\n",
       " 'EDM CARTERA, FI': 'https://www.cnmv.es/portal/Consultas/IIC/Fondo.aspx?nif=V64923279 ',\n",
       " 'EDM RENTA VARIABLE INTERNACIONAL, FI': 'https://www.cnmv.es/portal/Consultas/IIC/Fondo.aspx?nif=V66053737 ',\n",
       " 'EDM RENTA, FI': 'https://www.cnmv.es/portal/Consultas/IIC/Fondo.aspx?nif=V60647633 ',\n",
       " 'EDM-AHORRO, FI': 'https://www.cnmv.es/portal/Consultas/IIC/Fondo.aspx?nif=V58303140 ',\n",
       " 'EDM-INVERSION, FI': 'https://www.cnmv.es/portal/Consultas/IIC/Fondo.aspx?nif=V58303157 ',\n",
       " 'EDR GLOBAL ADAGIO, FI': 'https://www.cnmv.es/portal/Consultas/IIC/Fondo.aspx?nif=V85176006 ',\n",
       " 'EJECUTIVOS GLOBALFOND, FI': 'https://www.cnmv.es/portal/Consultas/IIC/Fondo.aspx?nif=V82040726 ',\n",
       " 'EQUITY INTERNATIONAL, FI': 'https://www.cnmv.es/portal/Consultas/IIC/Fondo.aspx?nif=V65972101 ',\n",
       " 'ESFERA I, FI': 'https://www.cnmv.es/portal/Consultas/IIC/Fondo.aspx?nif=V04869210 ',\n",
       " 'ESFERA III, FI': 'https://www.cnmv.es/portal/Consultas/IIC/Fondo.aspx?nif=V04893186 ',\n",
       " 'ESPINOSA PARTNERS INVERSIONES, FI': 'https://www.cnmv.es/portal/Consultas/IIC/Fondo.aspx?nif=V82124827 ',\n",
       " 'ESTRATEGIA ACUMULACIÓN, FI': 'https://www.cnmv.es/portal/Consultas/IIC/Fondo.aspx?nif=V87778734 ',\n",
       " 'ESTRATEGIA CAPITAL FI': 'https://www.cnmv.es/portal/Consultas/IIC/Fondo.aspx?nif=V87778742 ',\n",
       " 'ESTRATEGIA INVERSIÓN, FI': 'https://www.cnmv.es/portal/Consultas/IIC/Fondo.aspx?nif=V87778783 ',\n",
       " 'EUROAGENTES UNIVERSAL, FI': 'https://www.cnmv.es/portal/Consultas/IIC/Fondo.aspx?nif=V82068701 ',\n",
       " 'EUROVALOR BONOS ALTO RENDIMIENTO, FI': 'https://www.cnmv.es/portal/Consultas/IIC/Fondo.aspx?nif=V84542539 ',\n",
       " 'EUROVALOR BONOS EMERGENTES, FI': 'https://www.cnmv.es/portal/Consultas/IIC/Fondo.aspx?nif=V86098431 ',\n",
       " 'EUROVALOR CONSERVADOR DINAMICO, FI': 'https://www.cnmv.es/portal/Consultas/IIC/Fondo.aspx?nif=V83487330 ',\n",
       " 'EUROVALOR EMPRESAS VOLUMEN, FI': 'https://www.cnmv.es/portal/Consultas/IIC/Fondo.aspx?nif=V83348532 ',\n",
       " 'EUROVALOR IBEROAMERICA, FI': 'https://www.cnmv.es/portal/Consultas/IIC/Fondo.aspx?nif=V82766775 ',\n",
       " 'EVER METAVALOR RENTA FIJA HIGH YIELD FI': 'https://www.cnmv.es/portal/Consultas/IIC/Fondo.aspx?nif=V88482922 ',\n",
       " 'EVO FONDO INTELIGENTE, FI': 'https://www.cnmv.es/portal/Consultas/IIC/Fondo.aspx?nif=V87472312 ',\n",
       " 'FCS GESTION FLEXIBLE, FI': 'https://www.cnmv.es/portal/Consultas/IIC/Fondo.aspx?nif=V87078564 ',\n",
       " 'FIDEFONDO, FI': 'https://www.cnmv.es/portal/Consultas/IIC/Fondo.aspx?nif=V80475213 ',\n",
       " 'FINANCIALFOND, FI': 'https://www.cnmv.es/portal/Consultas/IIC/Fondo.aspx?nif=V60280799 ',\n",
       " 'FINANCIALS CREDIT FUND, FI': 'https://www.cnmv.es/portal/Consultas/IIC/Fondo.aspx?nif=V95913307 ',\n",
       " 'FON FINECO BASE, FI': 'https://www.cnmv.es/portal/Consultas/IIC/Fondo.aspx?nif=V48640981 ',\n",
       " 'FON FINECO EUROLIDER, FI': 'https://www.cnmv.es/portal/Consultas/IIC/Fondo.aspx?nif=V48899678 ',\n",
       " 'FON FINECO GESTION II, FI': 'https://www.cnmv.es/portal/Consultas/IIC/Fondo.aspx?nif=V95398483 ',\n",
       " 'FON FINECO GESTION, FI': 'https://www.cnmv.es/portal/Consultas/IIC/Fondo.aspx?nif=V95034203 ',\n",
       " 'FON FINECO INTERES FI': 'https://www.cnmv.es/portal/Consultas/IIC/Fondo.aspx?nif=V95591467 ',\n",
       " 'FON FINECO INVERSION, FI': 'https://www.cnmv.es/portal/Consultas/IIC/Fondo.aspx?nif=V95785788 ',\n",
       " 'FON FINECO PATRIMONIO GLOBAL, FI': 'https://www.cnmv.es/portal/Consultas/IIC/Fondo.aspx?nif=V79095352 ',\n",
       " 'FON FINECO RENTA FIJA INTERNACIONAL, FI': 'https://www.cnmv.es/portal/Consultas/IIC/Fondo.aspx?nif=V95444667 ',\n",
       " 'FON FINECO RENTA FIJA PLUS, FI': 'https://www.cnmv.es/portal/Consultas/IIC/Fondo.aspx?nif=V95406914 ',\n",
       " 'FON FINECO TOP RENTA FIJA, FI': 'https://www.cnmv.es/portal/Consultas/IIC/Fondo.aspx?nif=V95618583 ',\n",
       " 'FON FINECO VALOR, FI': 'https://www.cnmv.es/portal/Consultas/IIC/Fondo.aspx?nif=V95078705 ',\n",
       " 'FONBUSA FONDOS, FI': 'https://www.cnmv.es/portal/Consultas/IIC/Fondo.aspx?nif=V82176298 ',\n",
       " 'FONBUSA MIXTO, FI': 'https://www.cnmv.es/portal/Consultas/IIC/Fondo.aspx?nif=V81552234 ',\n",
       " 'FONBUSA, FI': 'https://www.cnmv.es/portal/Consultas/IIC/Fondo.aspx?nif=V79889481 ',\n",
       " 'FONCESS FLEXIBLE, FI': 'https://www.cnmv.es/portal/Consultas/IIC/Fondo.aspx?nif=V85605533 ',\n",
       " 'FONDANETO, FI': 'https://www.cnmv.es/portal/Consultas/IIC/Fondo.aspx?nif=V81820060 ',\n",
       " 'FONDCOYUNTURA, FI': 'https://www.cnmv.es/portal/Consultas/IIC/Fondo.aspx?nif=V81065229 ',\n",
       " 'FONDEMAR DE INVERSIONES, FI': 'https://www.cnmv.es/portal/Consultas/IIC/Fondo.aspx?nif=V83929216 ',\n",
       " 'FONDGESKOA, FI': 'https://www.cnmv.es/portal/Consultas/IIC/Fondo.aspx?nif=V48215396 ',\n",
       " 'FONDGUISSONA GLOBAL BOLSA, FI': 'https://www.cnmv.es/portal/Consultas/IIC/Fondo.aspx?nif=V61637401 ',\n",
       " 'FONDGUISSONA, FI': 'https://www.cnmv.es/portal/Consultas/IIC/Fondo.aspx?nif=V60169638 ',\n",
       " 'FONDIBAS MIXTO, FI': 'https://www.cnmv.es/portal/Consultas/IIC/Fondo.aspx?nif=V81776080 ',\n",
       " 'FONDIBAS, FI': 'https://www.cnmv.es/portal/Consultas/IIC/Fondo.aspx?nif=V80116478 ',\n",
       " 'FONDITEL ALBATROS, FI': 'https://www.cnmv.es/portal/Consultas/IIC/Fondo.aspx?nif=V83676551 ',\n",
       " 'FONDITEL BOLSA MUNDIAL SOSTENIBLE, FI': 'https://www.cnmv.es/portal/Consultas/IIC/Fondo.aspx?nif=V86783982 ',\n",
       " 'FONDITEL LINCE, FI': 'https://www.cnmv.es/portal/Consultas/IIC/Fondo.aspx?nif=V87437851 ',\n",
       " 'FONDITEL RENTA FIJA CORTO PLAZO, FI': 'https://www.cnmv.es/portal/Consultas/IIC/Fondo.aspx?nif=V83676585 ',\n",
       " 'FONDITEL RENTA FIJA MIXTA INTERNACIONAL, FI': 'https://www.cnmv.es/portal/Consultas/IIC/Fondo.aspx?nif=V83676627 ',\n",
       " 'FONDMAPFRE BOLSA AMERICA, FI': 'https://www.cnmv.es/portal/Consultas/IIC/Fondo.aspx?nif=V81900151 ',\n",
       " 'FONDMAPFRE BOLSA EUROPA, FI': 'https://www.cnmv.es/portal/Consultas/IIC/Fondo.aspx?nif=V81008195 ',\n",
       " 'FONDMAPFRE BOLSA IBERIA, F.I.': 'https://www.cnmv.es/portal/Consultas/IIC/Fondo.aspx?nif=V80480619 ',\n",
       " 'FONDMAPFRE BOLSA MIXTO, FI': 'https://www.cnmv.es/portal/Consultas/IIC/Fondo.aspx?nif=V79444410 ',\n",
       " 'FONDMAPFRE ELECCIÓN DECIDIDA, F.I.': 'https://www.cnmv.es/portal/Consultas/IIC/Fondo.aspx?nif=V87329454 ',\n",
       " 'FONDMAPFRE ELECCION MODERADA, F.I.': 'https://www.cnmv.es/portal/Consultas/IIC/Fondo.aspx?nif=V87329447 ',\n",
       " 'FONDMAPFRE ELECCION PRUDENTE, F.I.': 'https://www.cnmv.es/portal/Consultas/IIC/Fondo.aspx?nif=V87329470 ',\n",
       " 'FONDMAPFRE GLOBAL, FI': 'https://www.cnmv.es/portal/Consultas/IIC/Fondo.aspx?nif=V83053199 ',\n",
       " 'FONDMAPFRE RENTA CORTO, FI': 'https://www.cnmv.es/portal/Consultas/IIC/Fondo.aspx?nif=V80480593 ',\n",
       " 'FONDMAPFRE RENTA LARGO, FI': 'https://www.cnmv.es/portal/Consultas/IIC/Fondo.aspx?nif=V81521718 ',\n",
       " 'FONDMAPFRE RENTA MEDIO, FI': 'https://www.cnmv.es/portal/Consultas/IIC/Fondo.aspx?nif=V79444402 ',\n",
       " 'FONDMAPFRE RENTA MIXTO, FI': 'https://www.cnmv.es/portal/Consultas/IIC/Fondo.aspx?nif=V81640708 ',\n",
       " 'FONDMAPFRE RENTADOLAR, FI': 'https://www.cnmv.es/portal/Consultas/IIC/Fondo.aspx?nif=V85439651 ',\n",
       " 'FONDO ARTAC, FI': 'https://www.cnmv.es/portal/Consultas/IIC/Fondo.aspx?nif=V82873951 ',\n",
       " 'FONDO DE PERMANENCIA, FI': 'https://www.cnmv.es/portal/Consultas/IIC/Fondo.aspx?nif=V80618655 ',\n",
       " 'FONDONORTE EUROBOLSA, FI': 'https://www.cnmv.es/portal/Consultas/IIC/Fondo.aspx?nif=V82066291 ',\n",
       " 'FONDONORTE GLOBAL DIVIDENDO, FI': 'https://www.cnmv.es/portal/Consultas/IIC/Fondo.aspx?nif=V88576954 ',\n",
       " 'FONDONORTE, FI': 'https://www.cnmv.es/portal/Consultas/IIC/Fondo.aspx?nif=V28703429 ',\n",
       " 'FONEMPORIUM, FI': 'https://www.cnmv.es/portal/Consultas/IIC/Fondo.aspx?nif=V59418814 ',\n",
       " 'FONENGIN ISR, FI': 'https://www.cnmv.es/portal/Consultas/IIC/Fondo.aspx?nif=V48518252 ',\n",
       " 'FON-FINECO I, FI': 'https://www.cnmv.es/portal/Consultas/IIC/Fondo.aspx?nif=V48471122 ',\n",
       " 'FONGRUM, FI': 'https://www.cnmv.es/portal/Consultas/IIC/Fondo.aspx?nif=V48518260 ',\n",
       " 'FONMARCH, FI': 'https://www.cnmv.es/portal/Consultas/IIC/Fondo.aspx?nif=V78216876 ',\n",
       " 'FONPROFIT, FI': 'https://www.cnmv.es/portal/Consultas/IIC/Fondo.aspx?nif=V80031115 ',\n",
       " 'FONRADAR INTERNACIONAL, FI': 'https://www.cnmv.es/portal/Consultas/IIC/Fondo.aspx?nif=V61333258 ',\n",
       " 'FONSGLOBAL RENTA, FI': 'https://www.cnmv.es/portal/Consultas/IIC/Fondo.aspx?nif=V61637443 ',\n",
       " 'FONSVILA-REAL, FI': 'https://www.cnmv.es/portal/Consultas/IIC/Fondo.aspx?nif=V64534787 ',\n",
       " 'FONTIBREFONDO, FI': 'https://www.cnmv.es/portal/Consultas/IIC/Fondo.aspx?nif=V79637047 ',\n",
       " 'FONVALCEM, FI': 'https://www.cnmv.es/portal/Consultas/IIC/Fondo.aspx?nif=V79992004 ',\n",
       " 'FUNDCAMI FONDO SOLIDARIO, FI': 'https://www.cnmv.es/portal/Consultas/IIC/Fondo.aspx?nif=V42795310 ',\n",
       " 'GBCB STRATEGIC BOND OPPORTUNITIES, FI': 'https://www.cnmv.es/portal/Consultas/IIC/Fondo.aspx?nif=V88297163 ',\n",
       " 'GCO ACCIONES, FI': 'https://www.cnmv.es/portal/Consultas/IIC/Fondo.aspx?nif=V78848918 ',\n",
       " 'GCO AHORRO, FI': 'https://www.cnmv.es/portal/Consultas/IIC/Fondo.aspx?nif=V78408622 ',\n",
       " 'GCO EUROBOLSA, FI': 'https://www.cnmv.es/portal/Consultas/IIC/Fondo.aspx?nif=V95001210 ',\n",
       " 'GCO GLOBAL 50, FI': 'https://www.cnmv.es/portal/Consultas/IIC/Fondo.aspx?nif=V95044087 ',\n",
       " 'GCO INTERNACIONAL, FI': 'https://www.cnmv.es/portal/Consultas/IIC/Fondo.aspx?nif=V48941959 ',\n",
       " 'GCO MIXTO, FI': 'https://www.cnmv.es/portal/Consultas/IIC/Fondo.aspx?nif=V48941942 ',\n",
       " 'GCO RENTA FIJA, FI': 'https://www.cnmv.es/portal/Consultas/IIC/Fondo.aspx?nif=V95044061 ',\n",
       " 'GDP WORLD CORPORATE BONDS, FI': 'https://www.cnmv.es/portal/Consultas/IIC/Fondo.aspx?nif=V98956071 ',\n",
       " 'GDP WORLD EQUITY, FI': 'https://www.cnmv.es/portal/Consultas/IIC/Fondo.aspx?nif=V98950876 ',\n",
       " 'GEF ALBORAN GLOBAL, FI': 'https://www.cnmv.es/portal/Consultas/IIC/Fondo.aspx?nif=V87505053 ',\n",
       " 'GESCONSULT CRECIMIENTO, FI': 'https://www.cnmv.es/portal/Consultas/IIC/Fondo.aspx?nif=V79438313 ',\n",
       " 'GESCONSULT LEON VALORES  MIXTO FLEXIBLE, FI': 'https://www.cnmv.es/portal/Consultas/IIC/Fondo.aspx?nif=V78831823 ',\n",
       " 'GESCONSULT RENTA FIJA FLEXIBLE, FI': 'https://www.cnmv.es/portal/Consultas/IIC/Fondo.aspx?nif=V78792033 ',\n",
       " 'GESCONSULT RENTA FIJA, FI': 'https://www.cnmv.es/portal/Consultas/IIC/Fondo.aspx?nif=V79998076 ',\n",
       " 'GESCONSULT RENTA VARIABLE, FI': 'https://www.cnmv.es/portal/Consultas/IIC/Fondo.aspx?nif=V80336894 ',\n",
       " 'GESDIVISA, FI': 'https://www.cnmv.es/portal/Consultas/IIC/Fondo.aspx?nif=V80559958 ',\n",
       " 'GESINTER CHINA INFLUENCE FI': 'https://www.cnmv.es/portal/Consultas/IIC/Fondo.aspx?nif=V61584496 ',\n",
       " 'GESINTER FLEXIBLE STRATEGY FI': 'https://www.cnmv.es/portal/Consultas/IIC/Fondo.aspx?nif=V60215688 ',\n",
       " 'GESINTER WORLD SELECTION FI': 'https://www.cnmv.es/portal/Consultas/IIC/Fondo.aspx?nif=V61653713 ',\n",
       " 'GESIURIS BALANCED EURO, FI': 'https://www.cnmv.es/portal/Consultas/IIC/Fondo.aspx?nif=V63176333 ',\n",
       " 'GESIURIS EURO EQUITIES, FI': 'https://www.cnmv.es/portal/Consultas/IIC/Fondo.aspx?nif=V63053888 ',\n",
       " 'GESIURIS FIXED INCOME, FI': 'https://www.cnmv.es/portal/Consultas/IIC/Fondo.aspx?nif=V64371172 ',\n",
       " 'GESIURIS I2 DESARROLLO SOSTENIBLE ISR, FI': 'https://www.cnmv.es/portal/Consultas/IIC/Fondo.aspx?nif=V66774696 ',\n",
       " 'GESIURIS IURISFOND, FI': 'https://www.cnmv.es/portal/Consultas/IIC/Fondo.aspx?nif=V58118886 ',\n",
       " 'GESIURIS PATRIMONIAL, FI': 'https://www.cnmv.es/portal/Consultas/IIC/Fondo.aspx?nif=V63053854 ',\n",
       " 'GESTIFONSA CARTERA PREMIER 10, FI': 'https://www.cnmv.es/portal/Consultas/IIC/Fondo.aspx?nif=V87761102 ',\n",
       " 'GESTIFONSA CARTERA PREMIER 25, FI': 'https://www.cnmv.es/portal/Consultas/IIC/Fondo.aspx?nif=V87759908 ',\n",
       " 'GESTIFONSA CARTERA PREMIER 50, F.I.': 'https://www.cnmv.es/portal/Consultas/IIC/Fondo.aspx?nif=V87759742 ',\n",
       " 'GESTIFONSA DYNAMIC STRATEGIES, FI': 'https://www.cnmv.es/portal/Consultas/IIC/Fondo.aspx?nif=V86406113 ',\n",
       " 'GESTIFONSA MIXTO 10, FI': 'https://www.cnmv.es/portal/Consultas/IIC/Fondo.aspx?nif=V80070980 ',\n",
       " 'GESTIFONSA MIXTO 30, FI': 'https://www.cnmv.es/portal/Consultas/IIC/Fondo.aspx?nif=V80880867 ',\n",
       " 'GESTIFONSA RENTA FIJA CORTO PLAZO, FI': 'https://www.cnmv.es/portal/Consultas/IIC/Fondo.aspx?nif=V80789647 ',\n",
       " 'GESTIFONSA RENTA FIJA EURO, FI': 'https://www.cnmv.es/portal/Consultas/IIC/Fondo.aspx?nif=V81437931 ',\n",
       " 'GESTIFONSA RENTA FIJA FLEXIBLE, FI': 'https://www.cnmv.es/portal/Consultas/IIC/Fondo.aspx?nif=V82009606 ',\n",
       " 'GESTIFONSA RENTA VARIABLE DIVIDENDO, FI': 'https://www.cnmv.es/portal/Consultas/IIC/Fondo.aspx?nif=V87761169 ',\n",
       " 'GESTIFONSA RENTA VARIABLE ESPAÑA, FI': 'https://www.cnmv.es/portal/Consultas/IIC/Fondo.aspx?nif=V81459810 ',\n",
       " 'GESTIFONSA RENTA VARIABLE EURO, FI': 'https://www.cnmv.es/portal/Consultas/IIC/Fondo.aspx?nif=V82881103 ',\n",
       " 'GESTIFONSA RENTA VARIABLE GLOBAL, FI': 'https://www.cnmv.es/portal/Consultas/IIC/Fondo.aspx?nif=V87672606 ',\n",
       " 'GESTIFONSA SELECCIÓN, FI': 'https://www.cnmv.es/portal/Consultas/IIC/Fondo.aspx?nif=V88364534 ',\n",
       " 'GESTION BOUTIQUE II, FI': 'https://www.cnmv.es/portal/Consultas/IIC/Fondo.aspx?nif=V87322749 ',\n",
       " 'GESTIÓN BOUTIQUE III, FI': 'https://www.cnmv.es/portal/Consultas/IIC/Fondo.aspx?nif=V87858130 ',\n",
       " 'GESTION BOUTIQUE IV, FI': 'https://www.cnmv.es/portal/Consultas/IIC/Fondo.aspx?nif=V02819647 ',\n",
       " 'GESTION BOUTIQUE, FI': 'https://www.cnmv.es/portal/Consultas/IIC/Fondo.aspx?nif=V86772951 ',\n",
       " 'GESTION TALENTO, FI': 'https://www.cnmv.es/portal/Consultas/IIC/Fondo.aspx?nif=V86479698 ',\n",
       " 'GESTION VALUE, FI': 'https://www.cnmv.es/portal/Consultas/IIC/Fondo.aspx?nif=V87728887 ',\n",
       " 'GETINO GESTION ACTIVA, FI': 'https://www.cnmv.es/portal/Consultas/IIC/Fondo.aspx?nif=V80396427 ',\n",
       " 'GETINO RENTA FIJA, FI': 'https://www.cnmv.es/portal/Consultas/IIC/Fondo.aspx?nif=V01953959 ',\n",
       " 'GINVEST GPS, FI': 'https://www.cnmv.es/portal/Consultas/IIC/Fondo.aspx?nif=V55330591 ',\n",
       " 'GLOBAL ALLOCATION, FI': 'https://www.cnmv.es/portal/Consultas/IIC/Fondo.aspx?nif=V86071297 ',\n",
       " 'GLOBAL BEST SELECTION, FI': 'https://www.cnmv.es/portal/Consultas/IIC/Fondo.aspx?nif=V84981554 ',\n",
       " 'GLOBAL DIVERSIFICATION FUND FI': 'https://www.cnmv.es/portal/Consultas/IIC/Fondo.aspx?nif=V86280120 ',\n",
       " 'GLOBAL MIX FUND, F.I.': 'https://www.cnmv.es/portal/Consultas/IIC/Fondo.aspx?nif=V67571307 ',\n",
       " 'GLOBAL VALUE OPPORTUNITIES, FI': 'https://www.cnmv.es/portal/Consultas/IIC/Fondo.aspx?nif=V87431599 ',\n",
       " 'GLOBAL VALUE SELECTION FI': 'https://www.cnmv.es/portal/Consultas/IIC/Fondo.aspx?nif=V86111689 ',\n",
       " 'GPM GESTION ACTIVA, FI': 'https://www.cnmv.es/portal/Consultas/IIC/Fondo.aspx?nif=V87511531 ',\n",
       " 'GRANTIA EAGLE, FI': 'https://www.cnmv.es/portal/Consultas/IIC/Fondo.aspx?nif=V88254958 ',\n",
       " 'GREDOS BOLSA EURO, FI': 'https://www.cnmv.es/portal/Consultas/IIC/Fondo.aspx?nif=V87296638 ',\n",
       " 'GREDOS BOLSA INTERNACIONAL, FI': 'https://www.cnmv.es/portal/Consultas/IIC/Fondo.aspx?nif=V87296612 ',\n",
       " 'GREDOS MODERADO, FI': 'https://www.cnmv.es/portal/Consultas/IIC/Fondo.aspx?nif=V87296646 ',\n",
       " 'GREDOS RENTA FIJA, FI': 'https://www.cnmv.es/portal/Consultas/IIC/Fondo.aspx?nif=V88400866 ',\n",
       " 'GVC GAESCO 1K + RENTA VARIABLE, FI': 'https://www.cnmv.es/portal/Consultas/IIC/Fondo.aspx?nif=V66158684 ',\n",
       " 'GVC GAESCO 300 PLACES WORLDWIDE, FI': 'https://www.cnmv.es/portal/Consultas/IIC/Fondo.aspx?nif=V66235243 ',\n",
       " 'GVC GAESCO ASIAN FIXED INCOME, FI': 'https://www.cnmv.es/portal/Consultas/IIC/Fondo.aspx?nif=V02746964 ',\n",
       " 'GVC GAESCO BLUE CHIPS RFMI, FI': 'https://www.cnmv.es/portal/Consultas/IIC/Fondo.aspx?nif=V02747046 ',\n",
       " 'GVC GAESCO BLUE CHIPS RVMI, FI': 'https://www.cnmv.es/portal/Consultas/IIC/Fondo.aspx?nif=V02747087 ',\n",
       " 'GVC GAESCO DIVIDEND FOCUS, F.I.': 'https://www.cnmv.es/portal/Consultas/IIC/Fondo.aspx?nif=V67310821 ',\n",
       " 'GVC GAESCO EUROPA, FI': 'https://www.cnmv.es/portal/Consultas/IIC/Fondo.aspx?nif=V61637435 ',\n",
       " 'GVC GAESCO OPORTUNIDAD EMPRESAS INMOBILIARIAS R.V., FI': 'https://www.cnmv.es/portal/Consultas/IIC/Fondo.aspx?nif=V65650186 ',\n",
       " 'GVC GAESCO RENTA FIJA FLEXIBLE, FI': 'https://www.cnmv.es/portal/Consultas/IIC/Fondo.aspx?nif=V67015586 ',\n",
       " 'GVC GAESCO RENTA FIJA, FI': 'https://www.cnmv.es/portal/Consultas/IIC/Fondo.aspx?nif=V58242751 ',\n",
       " 'GVC GAESCO RENTA VALOR, FI': 'https://www.cnmv.es/portal/Consultas/IIC/Fondo.aspx?nif=V66049701 ',\n",
       " 'GVC GAESCO RETORNO ABSOLUTO, FI': 'https://www.cnmv.es/portal/Consultas/IIC/Fondo.aspx?nif=V80453756 ',\n",
       " 'GVC GAESCO SOSTENIBLE ISR, FI': 'https://www.cnmv.es/portal/Consultas/IIC/Fondo.aspx?nif=V66421264 ',\n",
       " 'GVCGAESCO BOLSALIDER, FI': 'https://www.cnmv.es/portal/Consultas/IIC/Fondo.aspx?nif=V60495454 ',\n",
       " 'GVCGAESCO CONSTANTFONS, FI': 'https://www.cnmv.es/portal/Consultas/IIC/Fondo.aspx?nif=V61013819 ',\n",
       " 'GVCGAESCO EMERGENTFOND, FI': 'https://www.cnmv.es/portal/Consultas/IIC/Fondo.aspx?nif=V62074695 ',\n",
       " 'GVCGAESCO FONDO DE FONDOS, FI': 'https://www.cnmv.es/portal/Consultas/IIC/Fondo.aspx?nif=V61443990 ',\n",
       " 'GVCGAESCO FONDO FONDTESORO CORTO PLAZO, FI': 'https://www.cnmv.es/portal/Consultas/IIC/Fondo.aspx?nif=V59188052 ',\n",
       " 'GVCGAESCO JAPON, FI': 'https://www.cnmv.es/portal/Consultas/IIC/Fondo.aspx?nif=V64041460 ',\n",
       " 'GVCGAESCO MULTINACIONAL, FI': 'https://www.cnmv.es/portal/Consultas/IIC/Fondo.aspx?nif=V62074653 ',\n",
       " 'GVCGAESCO PATRIMONIALISTA, FI': 'https://www.cnmv.es/portal/Consultas/IIC/Fondo.aspx?nif=V64669682 ',\n",
       " 'GVCGAESCO SMALL CAPS, FI': 'https://www.cnmv.es/portal/Consultas/IIC/Fondo.aspx?nif=V60685922 ',\n",
       " 'GVCGAESCO T.F.T., FI': 'https://www.cnmv.es/portal/Consultas/IIC/Fondo.aspx?nif=V61474987 ',\n",
       " 'HAMCO GLOBAL VALUE FUND, FI': 'https://www.cnmv.es/portal/Consultas/IIC/Fondo.aspx?nif=V04911202 ',\n",
       " 'HARMATAN CARTERA CONSERVADORA, FI': 'https://www.cnmv.es/portal/Consultas/IIC/Fondo.aspx?nif=V84117779 ',\n",
       " 'HIGH RATE, FI': 'https://www.cnmv.es/portal/Consultas/IIC/Fondo.aspx?nif=V80645443 ',\n",
       " 'HORIZONTE GLOBAL,FI': 'https://www.cnmv.es/portal/Consultas/IIC/Fondo.aspx?nif=V96665328 ',\n",
       " 'HOROS VALUE IBERIA, FI': 'https://www.cnmv.es/portal/Consultas/IIC/Fondo.aspx?nif=V88080726 ',\n",
       " 'HOROS VALUE INTERNACIONAL,FI': 'https://www.cnmv.es/portal/Consultas/IIC/Fondo.aspx?nif=V88080734 ',\n",
       " 'IBERCAJA ALL STAR, FI': 'https://www.cnmv.es/portal/Consultas/IIC/Fondo.aspx?nif=V99410565 ',\n",
       " 'IBERCAJA ALPHA, FI': 'https://www.cnmv.es/portal/Consultas/IIC/Fondo.aspx?nif=V99210742 ',\n",
       " 'IBERCAJA BEST IDEAS, FI': 'https://www.cnmv.es/portal/Consultas/IIC/Fondo.aspx?nif=V50854546 ',\n",
       " 'IBERCAJA BOLSA ESPAÑA, FI': 'https://www.cnmv.es/portal/Consultas/IIC/Fondo.aspx?nif=V50610633 ',\n",
       " 'IBERCAJA BOLSA EUROPA, FI': 'https://www.cnmv.es/portal/Consultas/IIC/Fondo.aspx?nif=V50781152 ',\n",
       " 'IBERCAJA BOLSA INTERNACIONAL, FI': 'https://www.cnmv.es/portal/Consultas/IIC/Fondo.aspx?nif=V50724236 ',\n",
       " 'IBERCAJA BOLSA USA, FI': 'https://www.cnmv.es/portal/Consultas/IIC/Fondo.aspx?nif=V50933217 ',\n",
       " 'IBERCAJA BP HIGH YIELD 2023, FI': 'https://www.cnmv.es/portal/Consultas/IIC/Fondo.aspx?nif=V99553281 ',\n",
       " 'IBERCAJA BP RENTA FIJA, FI': 'https://www.cnmv.es/portal/Consultas/IIC/Fondo.aspx?nif=V99185753 ',\n",
       " 'IBERCAJA CRECIMIENTO DINAMICO, FI': 'https://www.cnmv.es/portal/Consultas/IIC/Fondo.aspx?nif=V99113300 ',\n",
       " 'IBERCAJA DEUDA CORPORATIVA 2024, FI': 'https://www.cnmv.es/portal/Consultas/IIC/Fondo.aspx?nif=V99198038 ',\n",
       " 'IBERCAJA DIVERSIFICACIÓN EMPRESAS, FI': 'https://www.cnmv.es/portal/Consultas/IIC/Fondo.aspx?nif=V42842732 ',\n",
       " 'IBERCAJA DIVIDENDO, FI': 'https://www.cnmv.es/portal/Consultas/IIC/Fondo.aspx?nif=V99210734 ',\n",
       " 'IBERCAJA DOLAR, FI': 'https://www.cnmv.es/portal/Consultas/IIC/Fondo.aspx?nif=V99114936 ',\n",
       " 'IBERCAJA EMERGENTES, FI': 'https://www.cnmv.es/portal/Consultas/IIC/Fondo.aspx?nif=V50731207 ',\n",
       " 'IBERCAJA EMERGING BONDS, FI': 'https://www.cnmv.es/portal/Consultas/IIC/Fondo.aspx?nif=V99152050 ',\n",
       " 'IBERCAJA EUROPA STAR, FI': 'https://www.cnmv.es/portal/Consultas/IIC/Fondo.aspx?nif=V99468837 ',\n",
       " 'IBERCAJA FINANCIERO, FI': 'https://www.cnmv.es/portal/Consultas/IIC/Fondo.aspx?nif=V50836840 ',\n",
       " 'IBERCAJA FLEXIBLE EUROPA 10-40, FI': 'https://www.cnmv.es/portal/Consultas/IIC/Fondo.aspx?nif=V50719665 ',\n",
       " 'IBERCAJA FLEXIBLE EUROPA 50-80, FI': 'https://www.cnmv.es/portal/Consultas/IIC/Fondo.aspx?nif=V50762145 ',\n",
       " 'IBERCAJA GESTIÓN AUDAZ, FI': 'https://www.cnmv.es/portal/Consultas/IIC/Fondo.aspx?nif=V50892694 ',\n",
       " 'IBERCAJA GESTIÓN CRECIMIENTO, FI': 'https://www.cnmv.es/portal/Consultas/IIC/Fondo.aspx?nif=V50892728 ',\n",
       " 'IBERCAJA GESTIÓN EQUILIBRADA, FI': 'https://www.cnmv.es/portal/Consultas/IIC/Fondo.aspx?nif=V99523508 ',\n",
       " 'IBERCAJA GESTIÓN EVOLUCIÓN, FI': 'https://www.cnmv.es/portal/Consultas/IIC/Fondo.aspx?nif=V50805373 ',\n",
       " 'IBERCAJA GLOBAL BRANDS, FI': 'https://www.cnmv.es/portal/Consultas/IIC/Fondo.aspx?nif=V99468829 ',\n",
       " 'IBERCAJA HIGH YIELD, FI': 'https://www.cnmv.es/portal/Consultas/IIC/Fondo.aspx?nif=V50843762 ',\n",
       " 'IBERCAJA HORIZONTE, FI': 'https://www.cnmv.es/portal/Consultas/IIC/Fondo.aspx?nif=V50731199 ',\n",
       " 'IBERCAJA JAPON, FI': 'https://www.cnmv.es/portal/Consultas/IIC/Fondo.aspx?nif=V50831627 ',\n",
       " 'IBERCAJA MEGATRENDS, FI': 'https://www.cnmv.es/portal/Consultas/IIC/Fondo.aspx?nif=V99309460 ',\n",
       " 'IBERCAJA MIXTO FLEXIBLE 15, FI': 'https://www.cnmv.es/portal/Consultas/IIC/Fondo.aspx?nif=V-99272197',\n",
       " 'IBERCAJA NEW ENERGY, FI': 'https://www.cnmv.es/portal/Consultas/IIC/Fondo.aspx?nif=V50847839 ',\n",
       " 'IBERCAJA OBJETIVO 2024, FI': 'https://www.cnmv.es/portal/Consultas/IIC/Fondo.aspx?nif=V99544504 ',\n",
       " 'IBERCAJA OBJETIVO 2026, FI': 'https://www.cnmv.es/portal/Consultas/IIC/Fondo.aspx?nif=V99553273 ',\n",
       " 'IBERCAJA OBJETIVO 2028, FI': 'https://www.cnmv.es/portal/Consultas/IIC/Fondo.aspx?nif=V99563587 ',\n",
       " 'IBERCAJA OPORTUNIDAD RENTA FIJA, FI': 'https://www.cnmv.es/portal/Consultas/IIC/Fondo.aspx?nif=V99237638 ',\n",
       " 'IBERCAJA PLUS, FI': 'https://www.cnmv.es/portal/Consultas/IIC/Fondo.aspx?nif=V50777689 ',\n",
       " 'IBERCAJA RENTA FIJA 2022, FI': 'https://www.cnmv.es/portal/Consultas/IIC/Fondo.aspx?nif=V99532442 ',\n",
       " 'IBERCAJA RENTA FIJA 2024, FI': 'https://www.cnmv.es/portal/Consultas/IIC/Fondo.aspx?nif=V99470445 ',\n",
       " 'IBERCAJA RENTA FIJA 2025, FI': 'https://www.cnmv.es/portal/Consultas/IIC/Fondo.aspx?nif=V50966621 ',\n",
       " 'IBERCAJA RENTA FIJA 2026, FI': 'https://www.cnmv.es/portal/Consultas/IIC/Fondo.aspx?nif=V99277048 ',\n",
       " 'IBERCAJA RENTA FIJA EMPRESAS, FI': 'https://www.cnmv.es/portal/Consultas/IIC/Fondo.aspx?nif=V42842682 ',\n",
       " 'IBERCAJA RENTA FIJA SOSTENIBLE, FI': 'https://www.cnmv.es/portal/Consultas/IIC/Fondo.aspx?nif=V42739714 ',\n",
       " 'IBERCAJA SANIDAD, FI': 'https://www.cnmv.es/portal/Consultas/IIC/Fondo.aspx?nif=V50821529 ',\n",
       " 'IBERCAJA SECTOR INMOBILIARIO, FI': 'https://www.cnmv.es/portal/Consultas/IIC/Fondo.aspx?nif=V50847847 ',\n",
       " 'IBERCAJA SELECCION RENTA FIJA, FI': 'https://www.cnmv.es/portal/Consultas/IIC/Fondo.aspx?nif=V50680859 ',\n",
       " 'IBERCAJA SMALL CAPS, FI': 'https://www.cnmv.es/portal/Consultas/IIC/Fondo.aspx?nif=V99003022 ',\n",
       " 'IBERCAJA SOSTENIBLE Y SOLIDARIO, FI': 'https://www.cnmv.es/portal/Consultas/IIC/Fondo.aspx?nif=V50824424 ',\n",
       " 'IBERCAJA TECNOLOGICO, FI': 'https://www.cnmv.es/portal/Consultas/IIC/Fondo.aspx?nif=V50821511 ',\n",
       " 'IBERIAN VALUE, FI': 'https://www.cnmv.es/portal/Consultas/IIC/Fondo.aspx?nif=V87238838 ',\n",
       " 'ICARIA CAPITAL CARTERA PERMANENTE, FI': 'https://www.cnmv.es/portal/Consultas/IIC/Fondo.aspx?nif=V87856530 ',\n",
       " 'ICARIA CAPITAL DINAMICO, FI': 'https://www.cnmv.es/portal/Consultas/IIC/Fondo.aspx?nif=V04887378 ',\n",
       " 'IF GLOBAL MANAGEMENT, FI': 'https://www.cnmv.es/portal/Consultas/IIC/Fondo.aspx?nif=V88140801 ',\n",
       " 'IGVF FI': 'https://www.cnmv.es/portal/Consultas/IIC/Fondo.aspx?nif=V86359544 ',\n",
       " 'IM 93 RENTA, FI': 'https://www.cnmv.es/portal/Consultas/IIC/Fondo.aspx?nif=V60180791 ',\n",
       " 'IMANTIA  GLOBAL MODERADO, FI': 'https://www.cnmv.es/portal/Consultas/IIC/Fondo.aspx?nif=V84803238 ',\n",
       " 'IMANTIA FONDEPOSITO, FI': 'https://www.cnmv.es/portal/Consultas/IIC/Fondo.aspx?nif=V84564624 ',\n",
       " 'IMANTIA FUTURO HEALTHY, FI': 'https://www.cnmv.es/portal/Consultas/IIC/Fondo.aspx?nif=V28706448 ',\n",
       " 'IMANTIA FUTURO, FI': 'https://www.cnmv.es/portal/Consultas/IIC/Fondo.aspx?nif=V84053982 ',\n",
       " 'IMANTIA GLOBAL CONSERVADOR, FI': 'https://www.cnmv.es/portal/Consultas/IIC/Fondo.aspx?nif=V84865963 ',\n",
       " 'IMANTIA IBEX 35, FI': 'https://www.cnmv.es/portal/Consultas/IIC/Fondo.aspx?nif=V87560355 ',\n",
       " 'IMANTIA PRO QUANT, FI': 'https://www.cnmv.es/portal/Consultas/IIC/Fondo.aspx?nif=V02830941 ',\n",
       " 'IMANTIA RENTA FIJA DURACION 0-2, FI': 'https://www.cnmv.es/portal/Consultas/IIC/Fondo.aspx?nif=V82062696 ',\n",
       " 'IMANTIA RENTA FIJA FLEXIBLE, FI': 'https://www.cnmv.es/portal/Consultas/IIC/Fondo.aspx?nif=V79489316 ',\n",
       " 'IMANTIA RV IBERIA, FI': 'https://www.cnmv.es/portal/Consultas/IIC/Fondo.aspx?nif=V80773641 ',\n",
       " 'IMANTIA RV ZONA EURO, FI': 'https://www.cnmv.es/portal/Consultas/IIC/Fondo.aspx?nif=V81609349 ',\n",
       " 'IMDI FUNDS, FI': 'https://www.cnmv.es/portal/Consultas/IIC/Fondo.aspx?nif=V87749917 ',\n",
       " 'IMPASSIVE WEALTH, FI': 'https://www.cnmv.es/portal/Consultas/IIC/Fondo.aspx?nif=V04887360 ',\n",
       " 'INDEXA RV MIXTA INTERNACIONAL 75, FI': 'https://www.cnmv.es/portal/Consultas/IIC/Fondo.aspx?nif=V88331152 ',\n",
       " 'ING DIRECT FONDO NARANJA CONSERVADOR, FI': 'https://www.cnmv.es/portal/Consultas/IIC/Fondo.aspx?nif=V85313021 ',\n",
       " 'ING DIRECT FONDO NARANJA DINAMICO, FI': 'https://www.cnmv.es/portal/Consultas/IIC/Fondo.aspx?nif=V85313468 ',\n",
       " 'ING DIRECT FONDO NARANJA EURO STOXX 50, FI': 'https://www.cnmv.es/portal/Consultas/IIC/Fondo.aspx?nif=V84390749 ',\n",
       " 'ING DIRECT FONDO NARANJA IBEX 35, FI': 'https://www.cnmv.es/portal/Consultas/IIC/Fondo.aspx?nif=V83198903 ',\n",
       " 'ING DIRECT FONDO NARANJA MODERADO, FI': 'https://www.cnmv.es/portal/Consultas/IIC/Fondo.aspx?nif=V85313500 ',\n",
       " 'ING DIRECT FONDO NARANJA RENTA FIJA, FI': 'https://www.cnmv.es/portal/Consultas/IIC/Fondo.aspx?nif=V84650456 ',\n",
       " 'ING DIRECT FONDO NARANJA STANDARD & POOR´S 500, FI': 'https://www.cnmv.es/portal/Consultas/IIC/Fondo.aspx?nif=V82732942 ',\n",
       " 'INTERMONEY ATTITUDE, FI': 'https://www.cnmv.es/portal/Consultas/IIC/Fondo.aspx?nif=V87272308 ',\n",
       " 'INTERMONEY GESTION FLEXIBLE, FI': 'https://www.cnmv.es/portal/Consultas/IIC/Fondo.aspx?nif=V-87036695',\n",
       " 'INTERMONEY RENTA FIJA AHORRO, FI': 'https://www.cnmv.es/portal/Consultas/IIC/Fondo.aspx?nif=V82876681 ',\n",
       " 'INTERMONEY VARIABLE EURO, FI': 'https://www.cnmv.es/portal/Consultas/IIC/Fondo.aspx?nif=V82955923 ',\n",
       " 'INTERNATIONAL EQUITY MARKETS, FI': 'https://www.cnmv.es/portal/Consultas/IIC/Fondo.aspx?nif=V88331350 ',\n",
       " 'INVERACTIVO CONFIANZA, FI': 'https://www.cnmv.es/portal/Consultas/IIC/Fondo.aspx?nif=V81009284 ',\n",
       " 'INVERBANSER, FI': 'https://www.cnmv.es/portal/Consultas/IIC/Fondo.aspx?nif=V78277720 ',\n",
       " 'INVERSABADELL 10, FI': 'https://www.cnmv.es/portal/Consultas/IIC/Fondo.aspx?nif=V64368483 ',\n",
       " 'INVERSABADELL 25, FI': 'https://www.cnmv.es/portal/Consultas/IIC/Fondo.aspx?nif=V64368533 ',\n",
       " 'INVERSABADELL 50, FI': 'https://www.cnmv.es/portal/Consultas/IIC/Fondo.aspx?nif=V62624135 ',\n",
       " 'INVERSABADELL 70, FI': 'https://www.cnmv.es/portal/Consultas/IIC/Fondo.aspx?nif=V62624093 ',\n",
       " 'JAPAN DEEP VALUE FUND FI': 'https://www.cnmv.es/portal/Consultas/IIC/Fondo.aspx?nif=V66821232 ',\n",
       " 'JB INVERSIONES, FI': 'https://www.cnmv.es/portal/Consultas/IIC/Fondo.aspx?nif=V87422366 ',\n",
       " 'JDS CAPITAL GROWTH&VALUE, FI': 'https://www.cnmv.es/portal/Consultas/IIC/Fondo.aspx?nif=V88192877 ',\n",
       " 'JDS CAPITAL MULTIESTRATEGIA, FI': 'https://www.cnmv.es/portal/Consultas/IIC/Fondo.aspx?nif=V87694238 ',\n",
       " 'KALAHARI, FI': 'https://www.cnmv.es/portal/Consultas/IIC/Fondo.aspx?nif=V85812618 ',\n",
       " 'KRONOS, FI': 'https://www.cnmv.es/portal/Consultas/IIC/Fondo.aspx?nif=V04869202 ',\n",
       " 'KUTXABANK 0/100 CARTERAS, FI': 'https://www.cnmv.es/portal/Consultas/IIC/Fondo.aspx?nif=V95597837 ',\n",
       " 'KUTXABANK BOLSA EEUU, FI': 'https://www.cnmv.es/portal/Consultas/IIC/Fondo.aspx?nif=V95067138 ',\n",
       " 'KUTXABANK BOLSA EMERGENTES, FI': 'https://www.cnmv.es/portal/Consultas/IIC/Fondo.aspx?nif=V95077558 ',\n",
       " 'KUTXABANK BOLSA EUROZONA, FI': 'https://www.cnmv.es/portal/Consultas/IIC/Fondo.aspx?nif=V95067146 ',\n",
       " 'KUTXABANK BOLSA INTERNACIONAL, FI': 'https://www.cnmv.es/portal/Consultas/IIC/Fondo.aspx?nif=V48983019 ',\n",
       " 'KUTXABANK BOLSA JAPON, FI': 'https://www.cnmv.es/portal/Consultas/IIC/Fondo.aspx?nif=V95067120 ',\n",
       " 'KUTXABANK BOLSA NUEVA ECONOMIA, FI': 'https://www.cnmv.es/portal/Consultas/IIC/Fondo.aspx?nif=V95077574 ',\n",
       " 'KUTXABANK BOLSA SECTORIAL, FI': 'https://www.cnmv.es/portal/Consultas/IIC/Fondo.aspx?nif=V95163812 ',\n",
       " 'KUTXABANK BOLSA SMALL & MID CAPS EURO, FI': 'https://www.cnmv.es/portal/Consultas/IIC/Fondo.aspx?nif=V95306122 ',\n",
       " 'KUTXABANK BOLSA TENDENCIAS CARTERAS, FI': 'https://www.cnmv.es/portal/Consultas/IIC/Fondo.aspx?nif=V95993911 ',\n",
       " 'KUTXABANK BOLSA, FI': 'https://www.cnmv.es/portal/Consultas/IIC/Fondo.aspx?nif=V48768956 ',\n",
       " 'KUTXABANK BONO, FI': 'https://www.cnmv.es/portal/Consultas/IIC/Fondo.aspx?nif=V48956775 ',\n",
       " 'KUTXABANK DIVIDENDO, FI': 'https://www.cnmv.es/portal/Consultas/IIC/Fondo.aspx?nif=V95374047 ',\n",
       " 'KUTXABANK FONDO SOLIDARIO, FI': 'https://www.cnmv.es/portal/Consultas/IIC/Fondo.aspx?nif=V95372504 ',\n",
       " 'KUTXABANK GESTION ACTIVA INVERSION, FI': 'https://www.cnmv.es/portal/Consultas/IIC/Fondo.aspx?nif=V95160255 ',\n",
       " 'KUTXABANK GESTION ACTIVA PATRIMONIO, FI': 'https://www.cnmv.es/portal/Consultas/IIC/Fondo.aspx?nif=V48768964 ',\n",
       " 'KUTXABANK GESTION ACTIVA RENDIMIENTO, FI': 'https://www.cnmv.es/portal/Consultas/IIC/Fondo.aspx?nif=V48412142 ',\n",
       " 'KUTXABANK RENTA FIJA CORTO, FI': 'https://www.cnmv.es/portal/Consultas/IIC/Fondo.aspx?nif=V01217512 ',\n",
       " 'KUTXABANK RENTA FIJA EMPRESAS, FI': 'https://www.cnmv.es/portal/Consultas/IIC/Fondo.aspx?nif=V20674750 ',\n",
       " 'KUTXABANK RENTA FIJA LARGO PLAZO, FI': 'https://www.cnmv.es/portal/Consultas/IIC/Fondo.aspx?nif=V20699732 ',\n",
       " 'KUTXABANK RENTA GLOBAL, FI': 'https://www.cnmv.es/portal/Consultas/IIC/Fondo.aspx?nif=V48412159 ',\n",
       " 'KUTXABANK RF CARTERAS, FI': 'https://www.cnmv.es/portal/Consultas/IIC/Fondo.aspx?nif=V95597829 ',\n",
       " 'KUTXABANK RF SELECCION CARTERAS, FI': 'https://www.cnmv.es/portal/Consultas/IIC/Fondo.aspx?nif=V95993903 ',\n",
       " 'KUTXABANK TRANSITO, FI': 'https://www.cnmv.es/portal/Consultas/IIC/Fondo.aspx?nif=V95127718 ',\n",
       " 'LABORAL KUTXA AHORRO,FI': 'https://www.cnmv.es/portal/Consultas/IIC/Fondo.aspx?nif=V20476016 ',\n",
       " 'LABORAL KUTXA AKTIBO EKI, FI': 'https://www.cnmv.es/portal/Consultas/IIC/Fondo.aspx?nif=V75182030 ',\n",
       " 'LABORAL KUTXA AKTIBO HEGO,FI': 'https://www.cnmv.es/portal/Consultas/IIC/Fondo.aspx?nif=V20664504 ',\n",
       " 'LABORAL KUTXA AKTIBO IPAR,FI': 'https://www.cnmv.es/portal/Consultas/IIC/Fondo.aspx?nif=V75133587 ',\n",
       " 'LABORAL KUTXA AVANT,FI': 'https://www.cnmv.es/portal/Consultas/IIC/Fondo.aspx?nif=V20733291 ',\n",
       " 'LABORAL KUTXA BOLSA GARANTIZADO VI,FI': 'https://www.cnmv.es/portal/Consultas/IIC/Fondo.aspx?nif=V20631545 ',\n",
       " 'LABORAL KUTXA BOLSA GARANTIZADO XXIV, FI': 'https://www.cnmv.es/portal/Consultas/IIC/Fondo.aspx?nif=V75187039 ',\n",
       " 'LABORAL KUTXA BOLSA JAPON, FI': 'https://www.cnmv.es/portal/Consultas/IIC/Fondo.aspx?nif=V20729596 ',\n",
       " 'LABORAL KUTXA BOLSA UNIVERSAL,FI': 'https://www.cnmv.es/portal/Consultas/IIC/Fondo.aspx?nif=V20691879 ',\n",
       " 'LABORAL KUTXA BOLSA USA, FI': 'https://www.cnmv.es/portal/Consultas/IIC/Fondo.aspx?nif=V20729570 ',\n",
       " 'LABORAL KUTXA BOLSA,FI': 'https://www.cnmv.es/portal/Consultas/IIC/Fondo.aspx?nif=V20476032 ',\n",
       " 'LABORAL KUTXA BOLSAS EUROPEAS, FI': 'https://www.cnmv.es/portal/Consultas/IIC/Fondo.aspx?nif=V20691853 ',\n",
       " 'LABORAL KUTXA CRECIMIENTO,FI': 'https://www.cnmv.es/portal/Consultas/IIC/Fondo.aspx?nif=V20476008 ',\n",
       " 'LABORAL KUTXA EURIBOR GARANTIZADO II,FI': 'https://www.cnmv.es/portal/Consultas/IIC/Fondo.aspx?nif=V20691606 ',\n",
       " 'LABORAL KUTXA EURIBOR GARANTIZADO III,FI': 'https://www.cnmv.es/portal/Consultas/IIC/Fondo.aspx?nif=V20604294 ',\n",
       " 'LABORAL KUTXA FUTUR, FI': 'https://www.cnmv.es/portal/Consultas/IIC/Fondo.aspx?nif=V75192286 ',\n",
       " 'LABORAL KUTXA KONPROMISO, FI': 'https://www.cnmv.es/portal/Consultas/IIC/Fondo.aspx?nif=V75135293 ',\n",
       " 'LABORAL KUTXA MERCADOS EMERGENTES,FI': 'https://www.cnmv.es/portal/Consultas/IIC/Fondo.aspx?nif=V20691887 ',\n",
       " 'LABORAL KUTXA RENTA FIJA GARANTIZADO X,FI': 'https://www.cnmv.es/portal/Consultas/IIC/Fondo.aspx?nif=V20680369 ',\n",
       " 'LABORAL KUTXA RENTA FIJA GARANTIZADO XI,FI': 'https://www.cnmv.es/portal/Consultas/IIC/Fondo.aspx?nif=V20624821 ',\n",
       " 'LABORAL KUTXA RENTA FIJA GARANTIZADO XIX,FI': 'https://www.cnmv.es/portal/Consultas/IIC/Fondo.aspx?nif=V20671244 ',\n",
       " 'LABORAL KUTXA RENTA FIJA GARANTIZADO XVII, FI': 'https://www.cnmv.es/portal/Consultas/IIC/Fondo.aspx?nif=V75192849 ',\n",
       " 'LABORAL KUTXA RENTA FIJA GARANTIZADO XVIII, FI': 'https://www.cnmv.es/portal/Consultas/IIC/Fondo.aspx?nif=V75203380 ',\n",
       " 'LABORAL KUTXA RENTA FIJA GARANTIZADO XX,FI': 'https://www.cnmv.es/portal/Consultas/IIC/Fondo.aspx?nif=V95204251 ',\n",
       " 'LABORAL KUTXA RENTA FIJA GARANTIZADO XXI,FI': 'https://www.cnmv.es/portal/Consultas/IIC/Fondo.aspx?nif=V95661526 ',\n",
       " 'LABORAL KUTXA SELEK BALANCE, FI': 'https://www.cnmv.es/portal/Consultas/IIC/Fondo.aspx?nif=V75146225 ',\n",
       " 'LABORAL KUTXA SELEK BASE,FI': 'https://www.cnmv.es/portal/Consultas/IIC/Fondo.aspx?nif=V75064071 ',\n",
       " 'LABORAL KUTXA SELEK EXTRAPLUS,FI': 'https://www.cnmv.es/portal/Consultas/IIC/Fondo.aspx?nif=V75064162 ',\n",
       " 'LABORAL KUTXA SELEK PLUS,FI': 'https://www.cnmv.es/portal/Consultas/IIC/Fondo.aspx?nif=V75064105 ',\n",
       " 'LANCIA CAPITAL, FI': 'https://www.cnmv.es/portal/Consultas/IIC/Fondo.aspx?nif=V85956431 ',\n",
       " 'LIBERBANK AHORRO, FI': 'https://www.cnmv.es/portal/Consultas/IIC/Fondo.aspx?nif=V81608549 ',\n",
       " 'LIBERBANK BONOS GLOBAL, FI': 'https://www.cnmv.es/portal/Consultas/IIC/Fondo.aspx?nif=V86064946 ',\n",
       " 'LIBERBANK CAPITAL FINANCIERO, FI': 'https://www.cnmv.es/portal/Consultas/IIC/Fondo.aspx?nif=V81608564 ',\n",
       " 'LIBERBANK CARTERA CONSERVADORA, FI': 'https://www.cnmv.es/portal/Consultas/IIC/Fondo.aspx?nif=V84574235 ',\n",
       " 'LIBERBANK CARTERA DINAMICA, FI': 'https://www.cnmv.es/portal/Consultas/IIC/Fondo.aspx?nif=V84574201 ',\n",
       " 'LIBERBANK CARTERA MODERADA, FI': 'https://www.cnmv.es/portal/Consultas/IIC/Fondo.aspx?nif=V84574284 ',\n",
       " 'LIBERBANK CONSOLIDACION, FI': 'https://www.cnmv.es/portal/Consultas/IIC/Fondo.aspx?nif=V01769819 ',\n",
       " 'LIBERBANK GLOBAL MACRO FI': 'https://www.cnmv.es/portal/Consultas/IIC/Fondo.aspx?nif=V88316393 ',\n",
       " 'LIBERBANK GLOBAL, FI': 'https://www.cnmv.es/portal/Consultas/IIC/Fondo.aspx?nif=V82480641 ',\n",
       " 'LIBERBANK INCOME, FI': 'https://www.cnmv.es/portal/Consultas/IIC/Fondo.aspx?nif=V88612403 ',\n",
       " 'LIBERBANK MEGATENDENCIAS, FI': 'https://www.cnmv.es/portal/Consultas/IIC/Fondo.aspx?nif=V86766672 ',\n",
       " 'LIBERBANK MIX-RENTA FIJA, FI': 'https://www.cnmv.es/portal/Consultas/IIC/Fondo.aspx?nif=V81713398 ',\n",
       " 'LIBERBANK MULTI MANAGER, FI': 'https://www.cnmv.es/portal/Consultas/IIC/Fondo.aspx?nif=V87617585 ',\n",
       " 'LIBERBANK RENTA FIJA FLEXIBLE, FI': 'https://www.cnmv.es/portal/Consultas/IIC/Fondo.aspx?nif=V82963463 ',\n",
       " 'LIBERBANK RENTA VARIABLE ESPAÑA, FI': 'https://www.cnmv.es/portal/Consultas/IIC/Fondo.aspx?nif=V81713406 ',\n",
       " 'LIBERBANK RENTA VARIABLE EURO, FI': 'https://www.cnmv.es/portal/Consultas/IIC/Fondo.aspx?nif=V81853590 ',\n",
       " 'LIBERBANK RENTAS, FI': 'https://www.cnmv.es/portal/Consultas/IIC/Fondo.aspx?nif=V81608572 ',\n",
       " 'LIBERBANK SOLIDARIO, FI': 'https://www.cnmv.es/portal/Consultas/IIC/Fondo.aspx?nif=V01900604 ',\n",
       " 'LIBERTY EURO RENTA, FI': 'https://www.cnmv.es/portal/Consultas/IIC/Fondo.aspx?nif=V82344185 ',\n",
       " 'LIBERTY EURO STOCK MARKET, FI': 'https://www.cnmv.es/portal/Consultas/IIC/Fondo.aspx?nif=V83095505 ',\n",
       " 'LORETO PREMIUM GLOBAL, FI': 'https://www.cnmv.es/portal/Consultas/IIC/Fondo.aspx?nif=V88138409 ',\n",
       " 'LORETO PREMIUM RENTA FIJA MIXTA, FI': 'https://www.cnmv.es/portal/Consultas/IIC/Fondo.aspx?nif=V88139241 ',\n",
       " 'LORETO PREMIUM RENTA VARIABLE MIXTA, FI': 'https://www.cnmv.es/portal/Consultas/IIC/Fondo.aspx?nif=V88137955 ',\n",
       " 'MAGALLANES EUROPEAN EQUITY FI': 'https://www.cnmv.es/portal/Consultas/IIC/Fondo.aspx?nif=V87171005 ',\n",
       " 'MAGALLANES IBERIAN EQUITY FI': 'https://www.cnmv.es/portal/Consultas/IIC/Fondo.aspx?nif=V87171278 ',\n",
       " 'MAGALLANES MICROCAPS EUROPE, FI': 'https://www.cnmv.es/portal/Consultas/IIC/Fondo.aspx?nif=V87756334 ',\n",
       " 'MAGNUS INTERNATIONAL ALLOCATION, FI': 'https://www.cnmv.es/portal/Consultas/IIC/Fondo.aspx?nif=V66850454 ',\n",
       " 'MAPFRE FONDTESORO PLUS, FI': 'https://www.cnmv.es/portal/Consultas/IIC/Fondo.aspx?nif=V79523718 ',\n",
       " 'MARAL MACRO, FI': 'https://www.cnmv.es/portal/Consultas/IIC/Fondo.aspx?nif=V86239720 ',\n",
       " 'MARANGO EQUITY FUND, FI': 'https://www.cnmv.es/portal/Consultas/IIC/Fondo.aspx?nif=V88101340 ',\n",
       " 'MARCH CARTERA CONSERVADORA, FI': 'https://www.cnmv.es/portal/Consultas/IIC/Fondo.aspx?nif=V95499729 ',\n",
       " 'MARCH CARTERA DECIDIDA, FI': 'https://www.cnmv.es/portal/Consultas/IIC/Fondo.aspx?nif=V85114742 ',\n",
       " 'MARCH CARTERA DEFENSIVA, FI': 'https://www.cnmv.es/portal/Consultas/IIC/Fondo.aspx?nif=V84111368 ',\n",
       " 'MARCH CARTERA MODERADA, FI': 'https://www.cnmv.es/portal/Consultas/IIC/Fondo.aspx?nif=V95499695 ',\n",
       " 'MARCH EUROPA, FI': 'https://www.cnmv.es/portal/Consultas/IIC/Fondo.aspx?nif=V85014801 ',\n",
       " 'MARCH GLOBAL, FI': 'https://www.cnmv.es/portal/Consultas/IIC/Fondo.aspx?nif=V82086448 ',\n",
       " 'MARCH NEW EMERGING WORLD, FI': 'https://www.cnmv.es/portal/Consultas/IIC/Fondo.aspx?nif=V86068970 ',\n",
       " 'MARCH NEXT GENERATION, FI': 'https://www.cnmv.es/portal/Consultas/IIC/Fondo.aspx?nif=V88555545 ',\n",
       " 'MARCH PATRIMONIO CORTO PLAZO, FI': 'https://www.cnmv.es/portal/Consultas/IIC/Fondo.aspx?nif=V86345337 ',\n",
       " 'MARCH RENDIMIENTO, FI': 'https://www.cnmv.es/portal/Consultas/IIC/Fondo.aspx?nif=V87419958 ',\n",
       " 'MARCH RENTA FIJA CORTO PLAZO, FI': 'https://www.cnmv.es/portal/Consultas/IIC/Fondo.aspx?nif=V81931958 ',\n",
       " 'MARCH RENTABILIDAD OBJETIVO 2023, FI': 'https://www.cnmv.es/portal/Consultas/IIC/Fondo.aspx?nif=V88412572 ',\n",
       " 'MAVERICK FUND, FI': 'https://www.cnmv.es/portal/Consultas/IIC/Fondo.aspx?nif=V87583738 ',\n",
       " 'MEDIGESTION, FI': 'https://www.cnmv.es/portal/Consultas/IIC/Fondo.aspx?nif=V01662766 ',\n",
       " 'MEDIOLANUM ACTIVO, FI': 'https://www.cnmv.es/portal/Consultas/IIC/Fondo.aspx?nif=V61293171 ',\n",
       " 'MEDIOLANUM CRECIMIENTO, FI': 'https://www.cnmv.es/portal/Consultas/IIC/Fondo.aspx?nif=V08770810 ',\n",
       " 'MEDIOLANUM EUROPA R.V., FI': 'https://www.cnmv.es/portal/Consultas/IIC/Fondo.aspx?nif=V61392916 ',\n",
       " 'MEDIOLANUM EXCELLENT, FI': 'https://www.cnmv.es/portal/Consultas/IIC/Fondo.aspx?nif=V62099940 ',\n",
       " 'MEDIOLANUM FONDCUENTA, FI': 'https://www.cnmv.es/portal/Consultas/IIC/Fondo.aspx?nif=V08976888 ',\n",
       " 'MEDIOLANUM MERCADOS EMERGENTES, FI': 'https://www.cnmv.es/portal/Consultas/IIC/Fondo.aspx?nif=V61518734 ',\n",
       " 'MEDIOLANUM REAL ESTATE GLOBAL, FI': 'https://www.cnmv.es/portal/Consultas/IIC/Fondo.aspx?nif=V66525692 ',\n",
       " 'MEDIOLANUM RENTA, FI': 'https://www.cnmv.es/portal/Consultas/IIC/Fondo.aspx?nif=V78771383 ',\n",
       " 'MEDIOLANUM SMALL & MID CAPS ESPAÑA, FI': 'https://www.cnmv.es/portal/Consultas/IIC/Fondo.aspx?nif=V66306267 ',\n",
       " 'MERCHBANC FONDTESORO CORTO PLAZO, FI': 'https://www.cnmv.es/portal/Consultas/IIC/Fondo.aspx?nif=V59382101 ',\n",
       " 'MERCH-EUROUNION, FI': 'https://www.cnmv.es/portal/Consultas/IIC/Fondo.aspx?nif=V63744288 ',\n",
       " 'MERCHFONDO, FI': 'https://www.cnmv.es/portal/Consultas/IIC/Fondo.aspx?nif=V58379918 ',\n",
       " 'MERCH-FONTEMAR, FI': 'https://www.cnmv.es/portal/Consultas/IIC/Fondo.aspx?nif=V58756206 ',\n",
       " 'MERCH-OPORTUNIDADES, FI': 'https://www.cnmv.es/portal/Consultas/IIC/Fondo.aspx?nif=V63294417 ',\n",
       " 'MERCHRENTA, FI': 'https://www.cnmv.es/portal/Consultas/IIC/Fondo.aspx?nif=V58379934 ',\n",
       " 'MERCH-UNIVERSAL, FI': 'https://www.cnmv.es/portal/Consultas/IIC/Fondo.aspx?nif=V58379926 ',\n",
       " 'META AMERICA USA, FI': 'https://www.cnmv.es/portal/Consultas/IIC/Fondo.aspx?nif=V87712923 ',\n",
       " 'META FINANZAS, FI': 'https://www.cnmv.es/portal/Consultas/IIC/Fondo.aspx?nif=V87712899 ',\n",
       " 'METAVALOR DIVIDENDO, FI': 'https://www.cnmv.es/portal/Consultas/IIC/Fondo.aspx?nif=V87314548 ',\n",
       " 'METAVALOR GLOBAL, FI': 'https://www.cnmv.es/portal/Consultas/IIC/Fondo.aspx?nif=V85143444 ',\n",
       " 'METAVALOR INTERNACIONAL, FI': 'https://www.cnmv.es/portal/Consultas/IIC/Fondo.aspx?nif=V85008472 ',\n",
       " 'METAVALOR, FI': 'https://www.cnmv.es/portal/Consultas/IIC/Fondo.aspx?nif=V78798840 ',\n",
       " 'METROPOLIS RENTA, FI': 'https://www.cnmv.es/portal/Consultas/IIC/Fondo.aspx?nif=V80593247 ',\n",
       " 'MI FONDO SANTANDER ATREVIDO, FI': 'https://www.cnmv.es/portal/Consultas/IIC/Fondo.aspx?nif=V83004986 ',\n",
       " 'MI FONDO SANTANDER DECIDIDO, FI': 'https://www.cnmv.es/portal/Consultas/IIC/Fondo.aspx?nif=V85932945 ',\n",
       " 'MI FONDO SANTANDER MODERADO, FI': 'https://www.cnmv.es/portal/Consultas/IIC/Fondo.aspx?nif=V85932937 ',\n",
       " 'MI FONDO SANTANDER PATRIMONIO, FI': 'https://www.cnmv.es/portal/Consultas/IIC/Fondo.aspx?nif=V85932903 ',\n",
       " 'MICROBANK FONDO ECOLOGICO, FI': 'https://www.cnmv.es/portal/Consultas/IIC/Fondo.aspx?nif=V66013079 ',\n",
       " 'MICROBANK FONDO ETICO, FI': 'https://www.cnmv.es/portal/Consultas/IIC/Fondo.aspx?nif=V82289935 ',\n",
       " 'MILLENIUM FUND, FI': 'https://www.cnmv.es/portal/Consultas/IIC/Fondo.aspx?nif=V95350849 ',\n",
       " 'MILLENNIAL FUND, FI': 'https://www.cnmv.es/portal/Consultas/IIC/Fondo.aspx?nif=V87445565 ',\n",
       " 'MIRABAUD FUNDS EQUITIES SPAIN, FI (EN LIQUIDACION)': 'https://www.cnmv.es/portal/Consultas/IIC/Fondo.aspx?nif=V63048995 ',\n",
       " 'MIRABAUD SHORT TERM, FI': 'https://www.cnmv.es/portal/Consultas/IIC/Fondo.aspx?nif=V63035406 ',\n",
       " 'MIRASSET SELECTOR FUND, FI (EN LIQUIDACION)': 'https://www.cnmv.es/portal/Consultas/IIC/Fondo.aspx?nif=V64679913 ',\n",
       " 'MISTRAL CARTERA EQUILIBRADA, FI': 'https://www.cnmv.es/portal/Consultas/IIC/Fondo.aspx?nif=V84798115 ',\n",
       " 'MIXED CONSERVATIVE, FI': 'https://www.cnmv.es/portal/Consultas/IIC/Fondo.aspx?nif=V65979874 ',\n",
       " 'MM GLOBAL, FI': 'https://www.cnmv.es/portal/Consultas/IIC/Fondo.aspx?nif=V04904504 ',\n",
       " 'MOMENTO, FI': 'https://www.cnmv.es/portal/Consultas/IIC/Fondo.aspx?nif=V87946760 ',\n",
       " 'MULTIACTIVO MIXTO RENTA FIJA, FI': 'https://www.cnmv.es/portal/Consultas/IIC/Fondo.aspx?nif=V82571035 ',\n",
       " 'MULTIADVISOR GESTION II, FI': 'https://www.cnmv.es/portal/Consultas/IIC/Fondo.aspx?nif=V88234547 ',\n",
       " 'MULTIADVISOR GESTION, FI': 'https://www.cnmv.es/portal/Consultas/IIC/Fondo.aspx?nif=V87562286 ',\n",
       " 'MULTIFONDO AMERICA, FI': 'https://www.cnmv.es/portal/Consultas/IIC/Fondo.aspx?nif=V95354585 ',\n",
       " 'MULTIFONDO EUROPA, FI': 'https://www.cnmv.es/portal/Consultas/IIC/Fondo.aspx?nif=V48964225 ',\n",
       " 'MURANO CRECIMIENTO, FI': 'https://www.cnmv.es/portal/Consultas/IIC/Fondo.aspx?nif=V87918322 ',\n",
       " 'MURANO PATRIMONIO, FI': 'https://www.cnmv.es/portal/Consultas/IIC/Fondo.aspx?nif=V87575825 ',\n",
       " 'MUTUAFONDO BOLSA EUROPEA, FI': 'https://www.cnmv.es/portal/Consultas/IIC/Fondo.aspx?nif=V81642498 ',\n",
       " 'MUTUAFONDO BOLSAS EMERGENTES, FI': 'https://www.cnmv.es/portal/Consultas/IIC/Fondo.aspx?nif=V83085753 ',\n",
       " 'MUTUAFONDO BONOS CONVERTIBLES, FI': 'https://www.cnmv.es/portal/Consultas/IIC/Fondo.aspx?nif=V86405800 ',\n",
       " 'MUTUAFONDO BONOS FINANCIEROS, FI': 'https://www.cnmv.es/portal/Consultas/IIC/Fondo.aspx?nif=V85786119 ',\n",
       " 'MUTUAFONDO BONOS FLOTANTES, FI': 'https://www.cnmv.es/portal/Consultas/IIC/Fondo.aspx?nif=V87900148 ',\n",
       " 'MUTUAFONDO BONOS SUBORDINADOS II, FI': 'https://www.cnmv.es/portal/Consultas/IIC/Fondo.aspx?nif=V-85892057',\n",
       " 'MUTUAFONDO BONOS SUBORDINADOS III, FI': 'https://www.cnmv.es/portal/Consultas/IIC/Fondo.aspx?nif=V88143995 ',\n",
       " 'MUTUAFONDO BONOS SUBORDINADOS, FI': 'https://www.cnmv.es/portal/Consultas/IIC/Fondo.aspx?nif=V87510830 ',\n",
       " 'MUTUAFONDO COMPROMISO SOCIAL, FI': 'https://www.cnmv.es/portal/Consultas/IIC/Fondo.aspx?nif=V88456744 ',\n",
       " 'MUTUAFONDO CORTO PLAZO, FI': 'https://www.cnmv.es/portal/Consultas/IIC/Fondo.aspx?nif=V83003467 ',\n",
       " 'MUTUAFONDO CRECIMIENTO, FI': 'https://www.cnmv.es/portal/Consultas/IIC/Fondo.aspx?nif=V86995388 ',\n",
       " 'MUTUAFONDO DINERO, FI': 'https://www.cnmv.es/portal/Consultas/IIC/Fondo.aspx?nif=V85567659 ',\n",
       " 'MUTUAFONDO DOLAR, FI': 'https://www.cnmv.es/portal/Consultas/IIC/Fondo.aspx?nif=V86995479 ',\n",
       " 'MUTUAFONDO DURACION NEGATIVA, FI': 'https://www.cnmv.es/portal/Consultas/IIC/Fondo.aspx?nif=V87757019 ',\n",
       " 'MUTUAFONDO EQUILIBRIO, FI': 'https://www.cnmv.es/portal/Consultas/IIC/Fondo.aspx?nif=V88057633 ',\n",
       " 'MUTUAFONDO ESPAÑA, FI': 'https://www.cnmv.es/portal/Consultas/IIC/Fondo.aspx?nif=V85644128 ',\n",
       " 'MUTUAFONDO EVOLUCIÓN, FI': 'https://www.cnmv.es/portal/Consultas/IIC/Fondo.aspx?nif=V88057666 ',\n",
       " 'MUTUAFONDO FLEXIBILIDAD, FI': 'https://www.cnmv.es/portal/Consultas/IIC/Fondo.aspx?nif=V88057591 ',\n",
       " 'MUTUAFONDO FORTALEZA, FI': 'https://www.cnmv.es/portal/Consultas/IIC/Fondo.aspx?nif=V86995503 ',\n",
       " 'MUTUAFONDO FORTUNY, FI': 'https://www.cnmv.es/portal/Consultas/IIC/Fondo.aspx?nif=V88635446 ',\n",
       " 'MUTUAFONDO GESTION OPTIMA MODERADO, FI': 'https://www.cnmv.es/portal/Consultas/IIC/Fondo.aspx?nif=V82757568 ',\n",
       " 'MUTUAFONDO HIGH YIELD, FI': 'https://www.cnmv.es/portal/Consultas/IIC/Fondo.aspx?nif=V80416530 ',\n",
       " 'MUTUAFONDO LP, FI': 'https://www.cnmv.es/portal/Consultas/IIC/Fondo.aspx?nif=V81525545 ',\n",
       " 'MUTUAFONDO MIXTO DÓLAR, FI': 'https://www.cnmv.es/portal/Consultas/IIC/Fondo.aspx?nif=V88342860 ',\n",
       " 'MUTUAFONDO MIXTO FLEXIBLE, FI': 'https://www.cnmv.es/portal/Consultas/IIC/Fondo.aspx?nif=V86785052 ',\n",
       " 'MUTUAFONDO MIXTO SELECCION, FI': 'https://www.cnmv.es/portal/Consultas/IIC/Fondo.aspx?nif=V86901154 ',\n",
       " 'MUTUAFONDO NUEVA ECONOMÍA, FI': 'https://www.cnmv.es/portal/Consultas/IIC/Fondo.aspx?nif=V01750355 ',\n",
       " 'MUTUAFONDO RENTA FIJA EMERGENTE, FI': 'https://www.cnmv.es/portal/Consultas/IIC/Fondo.aspx?nif=V87860672 ',\n",
       " 'MUTUAFONDO RENTA FIJA ESPAÑOLA, FI': 'https://www.cnmv.es/portal/Consultas/IIC/Fondo.aspx?nif=V86685807 ',\n",
       " 'MUTUAFONDO RENTA FIJA FLEXIBLE,FI': 'https://www.cnmv.es/portal/Consultas/IIC/Fondo.aspx?nif=V87727780 ',\n",
       " 'MUTUAFONDO RENTA VARIABLE EE.UU, FI': 'https://www.cnmv.es/portal/Consultas/IIC/Fondo.aspx?nif=V85575116 ',\n",
       " 'MUTUAFONDO RENTA VARIABLE INTERNACIONAL, FI': 'https://www.cnmv.es/portal/Consultas/IIC/Fondo.aspx?nif=V82204710 ',\n",
       " 'MUTUAFONDO TECNOLOGICO, FI': 'https://www.cnmv.es/portal/Consultas/IIC/Fondo.aspx?nif=V82471426 ',\n",
       " 'MUTUAFONDO VALORES SMALL & MID CAPS, FI': 'https://www.cnmv.es/portal/Consultas/IIC/Fondo.aspx?nif=V82112533 ',\n",
       " 'MUTUAFONDO, FI': 'https://www.cnmv.es/portal/Consultas/IIC/Fondo.aspx?nif=V78435468 ',\n",
       " 'MUZA, FI': 'https://www.cnmv.es/portal/Consultas/IIC/Fondo.aspx?nif=V88357645 ',\n",
       " 'NAO EUROPA SOSTENIBLE, FI': 'https://www.cnmv.es/portal/Consultas/IIC/Fondo.aspx?nif=V40518029 ',\n",
       " 'NB PHARMAFUND, FI': 'https://www.cnmv.es/portal/Consultas/IIC/Fondo.aspx?nif=V81716953 ',\n",
       " 'NORAY MODERADO, FI': 'https://www.cnmv.es/portal/Consultas/IIC/Fondo.aspx?nif=V87786331 ',\n",
       " 'NOVAFONDISA, FI': 'https://www.cnmv.es/portal/Consultas/IIC/Fondo.aspx?nif=V61685194 ',\n",
       " 'NUCLEFON, FI': 'https://www.cnmv.es/portal/Consultas/IIC/Fondo.aspx?nif=V82686775 ',\n",
       " 'OHANA GLOBAL INVESTMENTS, FI': 'https://www.cnmv.es/portal/Consultas/IIC/Fondo.aspx?nif=V86778511 ',\n",
       " 'OKAVANGO DELTA, FI': 'https://www.cnmv.es/portal/Consultas/IIC/Fondo.aspx?nif=V84420439 ',\n",
       " 'OLEA NEUTRAL, FI': 'https://www.cnmv.es/portal/Consultas/IIC/Fondo.aspx?nif=V85962447 ',\n",
       " 'OMEGA GLOBAL FUND, FI': 'https://www.cnmv.es/portal/Consultas/IIC/Fondo.aspx?nif=V86837531 ',\n",
       " 'OPENBANK AHORRO, FI': 'https://www.cnmv.es/portal/Consultas/IIC/Fondo.aspx?nif=V80283781 ',\n",
       " 'ORFEO CAPITAL TALENTUM, FI': 'https://www.cnmv.es/portal/Consultas/IIC/Fondo.aspx?nif=V88493911 ',\n",
       " 'ORFEO CAPITAL UNIVERSUM, FI': 'https://www.cnmv.es/portal/Consultas/IIC/Fondo.aspx?nif=V88431093 ',\n",
       " 'ORFEO, FI': 'https://www.cnmv.es/portal/Consultas/IIC/Fondo.aspx?nif=V87480471 ',\n",
       " 'PANDA AGRICULTURE & WATER FUND, FI': 'https://www.cnmv.es/portal/Consultas/IIC/Fondo.aspx?nif=V66035858 ',\n",
       " 'PARADOX EQUITY FUND, FI': 'https://www.cnmv.es/portal/Consultas/IIC/Fondo.aspx?nif=V42716340 ',\n",
       " 'PATRIBOND, FI': 'https://www.cnmv.es/portal/Consultas/IIC/Fondo.aspx?nif=V80852593 ',\n",
       " 'PATRIMONIO GLOBAL, FI': 'https://www.cnmv.es/portal/Consultas/IIC/Fondo.aspx?nif=V86445277 ',\n",
       " 'PATRISA, FI': 'https://www.cnmv.es/portal/Consultas/IIC/Fondo.aspx?nif=V80852601 ',\n",
       " 'PATRIVAL, FI': 'https://www.cnmv.es/portal/Consultas/IIC/Fondo.aspx?nif=V80380892 ',\n",
       " 'PENTA INVERSION, FI': 'https://www.cnmv.es/portal/Consultas/IIC/Fondo.aspx?nif=V86025251 ',\n",
       " 'PENTATHLON, FI': 'https://www.cnmv.es/portal/Consultas/IIC/Fondo.aspx?nif=V82185786 ',\n",
       " 'POLAR RENTA FIJA,FI': 'https://www.cnmv.es/portal/Consultas/IIC/Fondo.aspx?nif=V86364650 ',\n",
       " 'POPULAR SELECCIÓN FI': 'https://www.cnmv.es/portal/Consultas/IIC/Fondo.aspx?nif=V85867034 ',\n",
       " 'PRECISION ABSOLUTE, FI': 'https://www.cnmv.es/portal/Consultas/IIC/Fondo.aspx?nif=V88160874 ',\n",
       " 'PRINCIPIUM,FI': 'https://www.cnmv.es/portal/Consultas/IIC/Fondo.aspx?nif=V82780073 ',\n",
       " 'PROFIT BOLSA, FI': 'https://www.cnmv.es/portal/Consultas/IIC/Fondo.aspx?nif=V83633479 ',\n",
       " 'PROFIT CORTO PLAZO, FI': 'https://www.cnmv.es/portal/Consultas/IIC/Fondo.aspx?nif=V80031107 ',\n",
       " 'PSN MULTIESTRATEGIA, FI': 'https://www.cnmv.es/portal/Consultas/IIC/Fondo.aspx?nif=V88647284 ',\n",
       " 'QUALITY COMMODITIES, FI': 'https://www.cnmv.es/portal/Consultas/IIC/Fondo.aspx?nif=V85991362 ',\n",
       " 'QUALITY GLOBAL, FI': 'https://www.cnmv.es/portal/Consultas/IIC/Fondo.aspx?nif=V82300914 ',\n",
       " 'QUALITY INVERSION CONSERVADORA, FI': 'https://www.cnmv.es/portal/Consultas/IIC/Fondo.aspx?nif=V85238665 ',\n",
       " 'QUALITY INVERSION DECIDIDA, FI': 'https://www.cnmv.es/portal/Consultas/IIC/Fondo.aspx?nif=V85238608 ',\n",
       " 'QUALITY INVERSION MODERADA, FI': 'https://www.cnmv.es/portal/Consultas/IIC/Fondo.aspx?nif=V85238699 ',\n",
       " 'QUALITY MEJORES IDEAS, FI': 'https://www.cnmv.es/portal/Consultas/IIC/Fondo.aspx?nif=V81960445 ',\n",
       " 'QUALITY SELECCION EMERGENTES, FI': 'https://www.cnmv.es/portal/Consultas/IIC/Fondo.aspx?nif=V86009289 ',\n",
       " 'R4 ACTIVA AGUA, FI': 'https://www.cnmv.es/portal/Consultas/IIC/Fondo.aspx?nif=V87287744 ',\n",
       " 'R4 ACTIVA AIRE, FI': 'https://www.cnmv.es/portal/Consultas/IIC/Fondo.aspx?nif=V87287868 ',\n",
       " 'R4 ACTIVA TIERRA, FI': 'https://www.cnmv.es/portal/Consultas/IIC/Fondo.aspx?nif=V87287827 ',\n",
       " 'RADAR INVERSIÓN, FI': 'https://www.cnmv.es/portal/Consultas/IIC/Fondo.aspx?nif=V64746845 ',\n",
       " 'RENTA 4 ACCIONES GLOBALES, FI': 'https://www.cnmv.es/portal/Consultas/IIC/Fondo.aspx?nif=V87287843 ',\n",
       " 'RENTA 4 ACTIVOS GLOBALES, FI': 'https://www.cnmv.es/portal/Consultas/IIC/Fondo.aspx?nif=V82068255 ',\n",
       " 'RENTA 4 BOLSA, FI': 'https://www.cnmv.es/portal/Consultas/IIC/Fondo.aspx?nif=V80698889 ',\n",
       " 'RENTA 4 DELTA, FI': 'https://www.cnmv.es/portal/Consultas/IIC/Fondo.aspx?nif=V82111592 ',\n",
       " 'RENTA 4 FACTOR VOLATILIDAD, FI': 'https://www.cnmv.es/portal/Consultas/IIC/Fondo.aspx?nif=V87932851 ',\n",
       " 'RENTA 4 FONCUENTA AHORRO, FI': 'https://www.cnmv.es/portal/Consultas/IIC/Fondo.aspx?nif=V87708376 ',\n",
       " 'RENTA 4 FONDTESORO CORTO PLAZO, FI': 'https://www.cnmv.es/portal/Consultas/IIC/Fondo.aspx?nif=V81613382 ',\n",
       " 'RENTA 4 GLOBAL, FI': 'https://www.cnmv.es/portal/Consultas/IIC/Fondo.aspx?nif=V81537706 ',\n",
       " 'RENTA 4 LATINOAMERICA, FI': 'https://www.cnmv.es/portal/Consultas/IIC/Fondo.aspx?nif=V82470717 ',\n",
       " 'RENTA 4 MEGATENDENCIAS, FI': 'https://www.cnmv.es/portal/Consultas/IIC/Fondo.aspx?nif=V88540737 ',\n",
       " 'RENTA 4 MULTIFACTOR, FI': 'https://www.cnmv.es/portal/Consultas/IIC/Fondo.aspx?nif=V87934394 ',\n",
       " 'RENTA 4 MULTIGESTION 2, FI': 'https://www.cnmv.es/portal/Consultas/IIC/Fondo.aspx?nif=V87393443 ',\n",
       " 'RENTA 4 MULTIGESTION, FI': 'https://www.cnmv.es/portal/Consultas/IIC/Fondo.aspx?nif=V82363128 ',\n",
       " 'RENTA 4 NEXUS, FI': 'https://www.cnmv.es/portal/Consultas/IIC/Fondo.aspx?nif=V86126976 ',\n",
       " 'RENTA 4 PEGASUS FI': 'https://www.cnmv.es/portal/Consultas/IIC/Fondo.aspx?nif=V85091387 ',\n",
       " 'RENTA 4 RENTA FIJA 6 MESES, FI': 'https://www.cnmv.es/portal/Consultas/IIC/Fondo.aspx?nif=V85772812 ',\n",
       " 'RENTA 4 RENTA FIJA EURO, FI': 'https://www.cnmv.es/portal/Consultas/IIC/Fondo.aspx?nif=V82414715 ',\n",
       " 'RENTA 4 RENTA FIJA MIXTO, FI': 'https://www.cnmv.es/portal/Consultas/IIC/Fondo.aspx?nif=V79298592 ',\n",
       " 'RENTA 4 RENTA FIJA, FI': 'https://www.cnmv.es/portal/Consultas/IIC/Fondo.aspx?nif=V86720117 ',\n",
       " 'RENTA 4 SMALL CAPS EURO, FI': 'https://www.cnmv.es/portal/Consultas/IIC/Fondo.aspx?nif=V87719621 ',\n",
       " 'RENTA 4 VALOR EUROPA, FI': 'https://www.cnmv.es/portal/Consultas/IIC/Fondo.aspx?nif=V85805364 ',\n",
       " 'RENTA 4 VALOR RELATIVO, FI': 'https://www.cnmv.es/portal/Consultas/IIC/Fondo.aspx?nif=V85944585 ',\n",
       " 'RENTA 4 WERTEFINDER, FI': 'https://www.cnmv.es/portal/Consultas/IIC/Fondo.aspx?nif=V86236346 ',\n",
       " 'RENTAMARKETS NARVAL, FI': 'https://www.cnmv.es/portal/Consultas/IIC/Fondo.aspx?nif=V87883377 ',\n",
       " 'RENTAMARKETS SEQUOIA, FI': 'https://www.cnmv.es/portal/Consultas/IIC/Fondo.aspx?nif=V87883302 ',\n",
       " 'RFMI MULTIGESTION FI': 'https://www.cnmv.es/portal/Consultas/IIC/Fondo.aspx?nif=V85986040 ',\n",
       " 'RIVER PATRIMONIO, FI': 'https://www.cnmv.es/portal/Consultas/IIC/Fondo.aspx?nif=V04893194 ',\n",
       " 'ROBUST RENTA VARIABLE MIXTA INTERNACIONAL, FI': 'https://www.cnmv.es/portal/Consultas/IIC/Fondo.aspx?nif=V61812582 ',\n",
       " 'ROLNIK CONVICTION, FI': 'https://www.cnmv.es/portal/Consultas/IIC/Fondo.aspx?nif=V88574652 ',\n",
       " 'RSR GLOBAL, FI': 'https://www.cnmv.es/portal/Consultas/IIC/Fondo.aspx?nif=V87545463 ',\n",
       " 'RSR RV INTERNACIONAL, FI': 'https://www.cnmv.es/portal/Consultas/IIC/Fondo.aspx?nif=V87680849 ',\n",
       " 'RURAL AHORRO PLUS, FI': 'https://www.cnmv.es/portal/Consultas/IIC/Fondo.aspx?nif=V83624833 ',\n",
       " 'RURAL BONOS 2 AÑOS, FI': 'https://www.cnmv.es/portal/Consultas/IIC/Fondo.aspx?nif=V82037508 ',\n",
       " 'RURAL BONOS CORPORATIVOS, FI': 'https://www.cnmv.es/portal/Consultas/IIC/Fondo.aspx?nif=V84351824 ',\n",
       " 'RURAL BONOS HIGH YIELD, FI': 'https://www.cnmv.es/portal/Consultas/IIC/Fondo.aspx?nif=V87501474 ',\n",
       " 'RURAL DEUDA SOBERANA EURO, FI': 'https://www.cnmv.es/portal/Consultas/IIC/Fondo.aspx?nif=V84967058 ',\n",
       " 'RURAL EMERGENTES RENTA VARIABLE, FI': 'https://www.cnmv.es/portal/Consultas/IIC/Fondo.aspx?nif=V82587262 ',\n",
       " 'RURAL EURO RENTA VARIABLE, FI': 'https://www.cnmv.es/portal/Consultas/IIC/Fondo.aspx?nif=V82310350 ',\n",
       " 'RURAL MIXTO 15, FI': 'https://www.cnmv.es/portal/Consultas/IIC/Fondo.aspx?nif=V82785999 ',\n",
       " 'RURAL MIXTO 20, FI': 'https://www.cnmv.es/portal/Consultas/IIC/Fondo.aspx?nif=V85215416 ',\n",
       " ...}"
      ]
     },
     "execution_count": 16,
     "metadata": {},
     "output_type": "execute_result"
    }
   ],
   "source": [
    "dict_links"
   ]
  },
  {
   "cell_type": "code",
   "execution_count": 27,
   "metadata": {},
   "outputs": [
    {
     "name": "stdout",
     "output_type": "stream",
     "text": [
      "ACCION EUROSTOXX 50 ETF, FI COTIZADO ARMONIZADO.csv deleted\n"
     ]
    }
   ],
   "source": [
    "fondo='ACCION EUROSTOXX 50 ETF, FI COTIZADO ARMONIZADO'\n",
    "os.remove(f'data/csv/{fondo}.csv')\n",
    "print(f'{fondo}.csv deleted')"
   ]
  },
  {
   "cell_type": "code",
   "execution_count": null,
   "metadata": {},
   "outputs": [],
   "source": []
  },
  {
   "cell_type": "code",
   "execution_count": null,
   "metadata": {},
   "outputs": [],
   "source": []
  }
 ],
 "metadata": {
  "kernelspec": {
   "display_name": "Python [conda env:ironhack_env_back-up]",
   "language": "python",
   "name": "conda-env-ironhack_env_back-up-py"
  },
  "language_info": {
   "codemirror_mode": {
    "name": "ipython",
    "version": 3
   },
   "file_extension": ".py",
   "mimetype": "text/x-python",
   "name": "python",
   "nbconvert_exporter": "python",
   "pygments_lexer": "ipython3",
   "version": "3.8.5"
  }
 },
 "nbformat": 4,
 "nbformat_minor": 4
}
